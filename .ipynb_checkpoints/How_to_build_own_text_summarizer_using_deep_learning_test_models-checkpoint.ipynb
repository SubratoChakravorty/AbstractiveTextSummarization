{
 "cells": [
  {
   "cell_type": "markdown",
   "metadata": {
    "colab_type": "text",
    "id": "qFuL-RBgXqgU"
   },
   "source": []
  },
  {
   "cell_type": "markdown",
   "metadata": {
    "colab_type": "text",
    "id": "F5dSoP8lGMZi"
   },
   "source": []
  },
  {
   "cell_type": "code",
   "execution_count": 1,
   "metadata": {
    "colab": {},
    "colab_type": "code",
    "id": "Fi64aA0FFxcS"
   },
   "outputs": [
    {
     "name": "stderr",
     "output_type": "stream",
     "text": [
      "[nltk_data] Downloading package stopwords to\n",
      "[nltk_data]     /datasets/home/52/752/suchakra/nltk_data...\n",
      "[nltk_data]   Package stopwords is already up-to-date!\n"
     ]
    }
   ],
   "source": [
    "from attention import AttentionLayer\n",
    "%matplotlib inline\n",
    "import nltk\n",
    "nltk.download('stopwords')\n",
    "from tensorflow.keras import backend as K\n",
    "# print(K.__version__)\n",
    "# print(tf.__version__)"
   ]
  },
  {
   "cell_type": "markdown",
   "metadata": {
    "colab_type": "text",
    "id": "JUValOzcHtEK"
   },
   "source": [
    "#Import the Libraries"
   ]
  },
  {
   "cell_type": "code",
   "execution_count": 2,
   "metadata": {
    "_cell_guid": "b1076dfc-b9ad-4769-8c92-a6c4dae69d19",
    "_uuid": "8f2839f25d086af736a60e9eeb907d3b93b6e0e5",
    "colab": {},
    "colab_type": "code",
    "id": "_Jpu8qLEFxcY",
    "outputId": "95968e01-faac-4911-c802-9c008a4e62cf"
   },
   "outputs": [],
   "source": [
    "import numpy as np\n",
    "import pandas as pd \n",
    "import re\n",
    "from bs4 import BeautifulSoup\n",
    "import tensorflow as tf\n",
    "from tensorflow.keras.preprocessing.text import Tokenizer \n",
    "from tensorflow.keras.preprocessing.sequence import pad_sequences\n",
    "from nltk.corpus import stopwords\n",
    "from tensorflow.keras.layers import Input, LSTM, Embedding, Dense, Concatenate, TimeDistributed, Bidirectional\n",
    "from tensorflow.keras.models import Model\n",
    "from tensorflow.keras.callbacks import EarlyStopping, ModelCheckpoint\n",
    "\n",
    "import warnings\n",
    "pd.set_option(\"display.max_colwidth\", 200)\n",
    "warnings.filterwarnings(\"ignore\")"
   ]
  },
  {
   "cell_type": "markdown",
   "metadata": {
    "colab_type": "text",
    "id": "UVakjZ3oICgx"
   },
   "source": [
    "#Read the dataset\n",
    "\n",
    "This dataset consists of reviews of fine foods from Amazon. The data spans a period of more than 10 years, including all ~500,000 reviews up to October 2012. These reviews include product and user information, ratings, plain text review, and summary. It also includes reviews from all other Amazon categories.\n",
    "\n",
    "We’ll take a sample of 100,000 reviews to reduce the training time of our model. Feel free to use the entire dataset for training your model if your machine has that kind of computational power."
   ]
  },
  {
   "cell_type": "code",
   "execution_count": 3,
   "metadata": {
    "colab": {},
    "colab_type": "code",
    "id": "wnK5o4Z1Fxcj"
   },
   "outputs": [],
   "source": [
    "data=pd.read_csv(\"Reviews.csv\", nrows=100000)"
   ]
  },
  {
   "cell_type": "markdown",
   "metadata": {
    "colab_type": "text",
    "id": "kGNQKvCaISIn"
   },
   "source": [
    "# Drop Duplicates and NA values"
   ]
  },
  {
   "cell_type": "code",
   "execution_count": 4,
   "metadata": {
    "colab": {},
    "colab_type": "code",
    "id": "Cjul88oOFxcr"
   },
   "outputs": [
    {
     "data": {
      "text/html": [
       "<div>\n",
       "<style scoped>\n",
       "    .dataframe tbody tr th:only-of-type {\n",
       "        vertical-align: middle;\n",
       "    }\n",
       "\n",
       "    .dataframe tbody tr th {\n",
       "        vertical-align: top;\n",
       "    }\n",
       "\n",
       "    .dataframe thead th {\n",
       "        text-align: right;\n",
       "    }\n",
       "</style>\n",
       "<table border=\"1\" class=\"dataframe\">\n",
       "  <thead>\n",
       "    <tr style=\"text-align: right;\">\n",
       "      <th></th>\n",
       "      <th>Id</th>\n",
       "      <th>ProductId</th>\n",
       "      <th>UserId</th>\n",
       "      <th>ProfileName</th>\n",
       "      <th>HelpfulnessNumerator</th>\n",
       "      <th>HelpfulnessDenominator</th>\n",
       "      <th>Score</th>\n",
       "      <th>Time</th>\n",
       "      <th>Summary</th>\n",
       "      <th>Text</th>\n",
       "    </tr>\n",
       "  </thead>\n",
       "  <tbody>\n",
       "    <tr>\n",
       "      <th>0</th>\n",
       "      <td>1</td>\n",
       "      <td>B001E4KFG0</td>\n",
       "      <td>A3SGXH7AUHU8GW</td>\n",
       "      <td>delmartian</td>\n",
       "      <td>1</td>\n",
       "      <td>1</td>\n",
       "      <td>5</td>\n",
       "      <td>1303862400</td>\n",
       "      <td>Good Quality Dog Food</td>\n",
       "      <td>I have bought several of the Vitality canned dog food products and have found them all to be of good quality. The product looks more like a stew than a processed meat and it smells better. My Labr...</td>\n",
       "    </tr>\n",
       "    <tr>\n",
       "      <th>1</th>\n",
       "      <td>2</td>\n",
       "      <td>B00813GRG4</td>\n",
       "      <td>A1D87F6ZCVE5NK</td>\n",
       "      <td>dll pa</td>\n",
       "      <td>0</td>\n",
       "      <td>0</td>\n",
       "      <td>1</td>\n",
       "      <td>1346976000</td>\n",
       "      <td>Not as Advertised</td>\n",
       "      <td>Product arrived labeled as Jumbo Salted Peanuts...the peanuts were actually small sized unsalted. Not sure if this was an error or if the vendor intended to represent the product as \"Jumbo\".</td>\n",
       "    </tr>\n",
       "    <tr>\n",
       "      <th>2</th>\n",
       "      <td>3</td>\n",
       "      <td>B000LQOCH0</td>\n",
       "      <td>ABXLMWJIXXAIN</td>\n",
       "      <td>Natalia Corres \"Natalia Corres\"</td>\n",
       "      <td>1</td>\n",
       "      <td>1</td>\n",
       "      <td>4</td>\n",
       "      <td>1219017600</td>\n",
       "      <td>\"Delight\" says it all</td>\n",
       "      <td>This is a confection that has been around a few centuries.  It is a light, pillowy citrus gelatin with nuts - in this case Filberts. And it is cut into tiny squares and then liberally coated with ...</td>\n",
       "    </tr>\n",
       "    <tr>\n",
       "      <th>3</th>\n",
       "      <td>4</td>\n",
       "      <td>B000UA0QIQ</td>\n",
       "      <td>A395BORC6FGVXV</td>\n",
       "      <td>Karl</td>\n",
       "      <td>3</td>\n",
       "      <td>3</td>\n",
       "      <td>2</td>\n",
       "      <td>1307923200</td>\n",
       "      <td>Cough Medicine</td>\n",
       "      <td>If you are looking for the secret ingredient in Robitussin I believe I have found it.  I got this in addition to the Root Beer Extract I ordered (which was good) and made some cherry soda.  The fl...</td>\n",
       "    </tr>\n",
       "    <tr>\n",
       "      <th>4</th>\n",
       "      <td>5</td>\n",
       "      <td>B006K2ZZ7K</td>\n",
       "      <td>A1UQRSCLF8GW1T</td>\n",
       "      <td>Michael D. Bigham \"M. Wassir\"</td>\n",
       "      <td>0</td>\n",
       "      <td>0</td>\n",
       "      <td>5</td>\n",
       "      <td>1350777600</td>\n",
       "      <td>Great taffy</td>\n",
       "      <td>Great taffy at a great price.  There was a wide assortment of yummy taffy.  Delivery was very quick.  If your a taffy lover, this is a deal.</td>\n",
       "    </tr>\n",
       "  </tbody>\n",
       "</table>\n",
       "</div>"
      ],
      "text/plain": [
       "   Id   ProductId          UserId                      ProfileName  \\\n",
       "0   1  B001E4KFG0  A3SGXH7AUHU8GW                       delmartian   \n",
       "1   2  B00813GRG4  A1D87F6ZCVE5NK                           dll pa   \n",
       "2   3  B000LQOCH0   ABXLMWJIXXAIN  Natalia Corres \"Natalia Corres\"   \n",
       "3   4  B000UA0QIQ  A395BORC6FGVXV                             Karl   \n",
       "4   5  B006K2ZZ7K  A1UQRSCLF8GW1T    Michael D. Bigham \"M. Wassir\"   \n",
       "\n",
       "   HelpfulnessNumerator  HelpfulnessDenominator  Score        Time  \\\n",
       "0                     1                       1      5  1303862400   \n",
       "1                     0                       0      1  1346976000   \n",
       "2                     1                       1      4  1219017600   \n",
       "3                     3                       3      2  1307923200   \n",
       "4                     0                       0      5  1350777600   \n",
       "\n",
       "                 Summary  \\\n",
       "0  Good Quality Dog Food   \n",
       "1      Not as Advertised   \n",
       "2  \"Delight\" says it all   \n",
       "3         Cough Medicine   \n",
       "4            Great taffy   \n",
       "\n",
       "                                                                                                                                                                                                      Text  \n",
       "0  I have bought several of the Vitality canned dog food products and have found them all to be of good quality. The product looks more like a stew than a processed meat and it smells better. My Labr...  \n",
       "1           Product arrived labeled as Jumbo Salted Peanuts...the peanuts were actually small sized unsalted. Not sure if this was an error or if the vendor intended to represent the product as \"Jumbo\".  \n",
       "2  This is a confection that has been around a few centuries.  It is a light, pillowy citrus gelatin with nuts - in this case Filberts. And it is cut into tiny squares and then liberally coated with ...  \n",
       "3  If you are looking for the secret ingredient in Robitussin I believe I have found it.  I got this in addition to the Root Beer Extract I ordered (which was good) and made some cherry soda.  The fl...  \n",
       "4                                                             Great taffy at a great price.  There was a wide assortment of yummy taffy.  Delivery was very quick.  If your a taffy lover, this is a deal.  "
      ]
     },
     "execution_count": 4,
     "metadata": {},
     "output_type": "execute_result"
    }
   ],
   "source": [
    "data.drop_duplicates(subset=['Text'],inplace=True)#dropping duplicates\n",
    "data.dropna(axis=0,inplace=True)#dropping na\n",
    "data.head()"
   ]
  },
  {
   "cell_type": "markdown",
   "metadata": {
    "colab_type": "text",
    "id": "qi0xD6BkIWAm"
   },
   "source": [
    "# Information about dataset\n",
    "\n",
    "Let us look at datatypes and shape of the dataset"
   ]
  },
  {
   "cell_type": "code",
   "execution_count": 5,
   "metadata": {
    "colab": {},
    "colab_type": "code",
    "id": "__fy-JxTFxc9",
    "outputId": "d42c6e36-bbc8-43c2-de0e-d3effe3e8c4c"
   },
   "outputs": [
    {
     "name": "stdout",
     "output_type": "stream",
     "text": [
      "<class 'pandas.core.frame.DataFrame'>\n",
      "Int64Index: 88421 entries, 0 to 99999\n",
      "Data columns (total 10 columns):\n",
      "Id                        88421 non-null int64\n",
      "ProductId                 88421 non-null object\n",
      "UserId                    88421 non-null object\n",
      "ProfileName               88421 non-null object\n",
      "HelpfulnessNumerator      88421 non-null int64\n",
      "HelpfulnessDenominator    88421 non-null int64\n",
      "Score                     88421 non-null int64\n",
      "Time                      88421 non-null int64\n",
      "Summary                   88421 non-null object\n",
      "Text                      88421 non-null object\n",
      "dtypes: int64(5), object(5)\n",
      "memory usage: 7.4+ MB\n"
     ]
    }
   ],
   "source": [
    "data.info()"
   ]
  },
  {
   "cell_type": "markdown",
   "metadata": {
    "colab_type": "text",
    "id": "r0xLYACiFxdJ"
   },
   "source": [
    "#Preprocessing\n",
    "\n",
    "Performing basic preprocessing steps is very important before we get to the model building part. Using messy and uncleaned text data is a potentially disastrous move. So in this step, we will drop all the unwanted symbols, characters, etc. from the text that do not affect the objective of our problem.\n",
    "\n",
    "Here is the dictionary that we will use for expanding the contractions:"
   ]
  },
  {
   "cell_type": "code",
   "execution_count": 6,
   "metadata": {
    "colab": {},
    "colab_type": "code",
    "id": "0s6IY-x2FxdL"
   },
   "outputs": [],
   "source": [
    "contraction_mapping = {\"ain't\": \"is not\", \"aren't\": \"are not\",\"can't\": \"cannot\", \"'cause\": \"because\", \"could've\": \"could have\", \"couldn't\": \"could not\",\n",
    "                           \"didn't\": \"did not\",  \"doesn't\": \"does not\", \"don't\": \"do not\", \"hadn't\": \"had not\", \"hasn't\": \"has not\", \"haven't\": \"have not\",\n",
    "                           \"he'd\": \"he would\",\"he'll\": \"he will\", \"he's\": \"he is\", \"how'd\": \"how did\", \"how'd'y\": \"how do you\", \"how'll\": \"how will\", \"how's\": \"how is\",\n",
    "                           \"I'd\": \"I would\", \"I'd've\": \"I would have\", \"I'll\": \"I will\", \"I'll've\": \"I will have\",\"I'm\": \"I am\", \"I've\": \"I have\", \"i'd\": \"i would\",\n",
    "                           \"i'd've\": \"i would have\", \"i'll\": \"i will\",  \"i'll've\": \"i will have\",\"i'm\": \"i am\", \"i've\": \"i have\", \"isn't\": \"is not\", \"it'd\": \"it would\",\n",
    "                           \"it'd've\": \"it would have\", \"it'll\": \"it will\", \"it'll've\": \"it will have\",\"it's\": \"it is\", \"let's\": \"let us\", \"ma'am\": \"madam\",\n",
    "                           \"mayn't\": \"may not\", \"might've\": \"might have\",\"mightn't\": \"might not\",\"mightn't've\": \"might not have\", \"must've\": \"must have\",\n",
    "                           \"mustn't\": \"must not\", \"mustn't've\": \"must not have\", \"needn't\": \"need not\", \"needn't've\": \"need not have\",\"o'clock\": \"of the clock\",\n",
    "                           \"oughtn't\": \"ought not\", \"oughtn't've\": \"ought not have\", \"shan't\": \"shall not\", \"sha'n't\": \"shall not\", \"shan't've\": \"shall not have\",\n",
    "                           \"she'd\": \"she would\", \"she'd've\": \"she would have\", \"she'll\": \"she will\", \"she'll've\": \"she will have\", \"she's\": \"she is\",\n",
    "                           \"should've\": \"should have\", \"shouldn't\": \"should not\", \"shouldn't've\": \"should not have\", \"so've\": \"so have\",\"so's\": \"so as\",\n",
    "                           \"this's\": \"this is\",\"that'd\": \"that would\", \"that'd've\": \"that would have\", \"that's\": \"that is\", \"there'd\": \"there would\",\n",
    "                           \"there'd've\": \"there would have\", \"there's\": \"there is\", \"here's\": \"here is\",\"they'd\": \"they would\", \"they'd've\": \"they would have\",\n",
    "                           \"they'll\": \"they will\", \"they'll've\": \"they will have\", \"they're\": \"they are\", \"they've\": \"they have\", \"to've\": \"to have\",\n",
    "                           \"wasn't\": \"was not\", \"we'd\": \"we would\", \"we'd've\": \"we would have\", \"we'll\": \"we will\", \"we'll've\": \"we will have\", \"we're\": \"we are\",\n",
    "                           \"we've\": \"we have\", \"weren't\": \"were not\", \"what'll\": \"what will\", \"what'll've\": \"what will have\", \"what're\": \"what are\",\n",
    "                           \"what's\": \"what is\", \"what've\": \"what have\", \"when's\": \"when is\", \"when've\": \"when have\", \"where'd\": \"where did\", \"where's\": \"where is\",\n",
    "                           \"where've\": \"where have\", \"who'll\": \"who will\", \"who'll've\": \"who will have\", \"who's\": \"who is\", \"who've\": \"who have\",\n",
    "                           \"why's\": \"why is\", \"why've\": \"why have\", \"will've\": \"will have\", \"won't\": \"will not\", \"won't've\": \"will not have\",\n",
    "                           \"would've\": \"would have\", \"wouldn't\": \"would not\", \"wouldn't've\": \"would not have\", \"y'all\": \"you all\",\n",
    "                           \"y'all'd\": \"you all would\",\"y'all'd've\": \"you all would have\",\"y'all're\": \"you all are\",\"y'all've\": \"you all have\",\n",
    "                           \"you'd\": \"you would\", \"you'd've\": \"you would have\", \"you'll\": \"you will\", \"you'll've\": \"you will have\",\n",
    "                           \"you're\": \"you are\", \"you've\": \"you have\"}"
   ]
  },
  {
   "cell_type": "markdown",
   "metadata": {
    "colab_type": "text",
    "id": "2JFRXFHmI7Mj"
   },
   "source": [
    "We will perform the below preprocessing tasks for our data:\n",
    "\n",
    "1.Convert everything to lowercase\n",
    "\n",
    "2.Remove HTML tags\n",
    "\n",
    "3.Contraction mapping\n",
    "\n",
    "4.Remove (‘s)\n",
    "\n",
    "5.Remove any text inside the parenthesis ( )\n",
    "\n",
    "6.Eliminate punctuations and special characters\n",
    "\n",
    "7.Remove stopwords\n",
    "\n",
    "8.Remove short words\n",
    "\n",
    "Let’s define the function:"
   ]
  },
  {
   "cell_type": "code",
   "execution_count": 7,
   "metadata": {
    "colab": {},
    "colab_type": "code",
    "id": "XZr-u3OEFxdT"
   },
   "outputs": [],
   "source": [
    "stop_words = set(stopwords.words('english')) \n",
    "\n",
    "def text_cleaner(text,num):\n",
    "    newString = text.lower()\n",
    "    newString = BeautifulSoup(newString, \"lxml\").text\n",
    "    newString = re.sub(r'\\([^)]*\\)', '', newString)\n",
    "    newString = re.sub('\"','', newString)\n",
    "    newString = ' '.join([contraction_mapping[t] if t in contraction_mapping else t for t in newString.split(\" \")])    \n",
    "    newString = re.sub(r\"'s\\b\",\"\",newString)\n",
    "    newString = re.sub(\"[^a-zA-Z]\", \" \", newString) \n",
    "    newString = re.sub('[m]{2,}', 'mm', newString)\n",
    "    if(num==0):\n",
    "        tokens = [w for w in newString.split() if not w in stop_words]\n",
    "    else:\n",
    "        tokens=newString.split()\n",
    "    long_words=[]\n",
    "    for i in tokens:\n",
    "        if len(i)>1:                                                 #removing short word\n",
    "            long_words.append(i)   \n",
    "    return (\" \".join(long_words)).strip()"
   ]
  },
  {
   "cell_type": "code",
   "execution_count": 8,
   "metadata": {
    "colab": {},
    "colab_type": "code",
    "id": "A2QAeCHWFxdY"
   },
   "outputs": [],
   "source": [
    "#call the function\n",
    "cleaned_text = []\n",
    "for t in data['Text']:\n",
    "    cleaned_text.append(text_cleaner(t,0)) "
   ]
  },
  {
   "cell_type": "markdown",
   "metadata": {
    "colab_type": "text",
    "id": "snRZY8wjLao2"
   },
   "source": [
    "Let us look at the first five preprocessed reviews"
   ]
  },
  {
   "cell_type": "code",
   "execution_count": 9,
   "metadata": {
    "colab": {},
    "colab_type": "code",
    "id": "NCAIkhWbFxdh",
    "outputId": "c2da1a36-4488-4e32-ef9e-fcfe496e374d"
   },
   "outputs": [
    {
     "data": {
      "text/plain": [
       "['bought several vitality canned dog food products found good quality product looks like stew processed meat smells better labrador finicky appreciates product better',\n",
       " 'product arrived labeled jumbo salted peanuts peanuts actually small sized unsalted sure error vendor intended represent product jumbo',\n",
       " 'confection around centuries light pillowy citrus gelatin nuts case filberts cut tiny squares liberally coated powdered sugar tiny mouthful heaven chewy flavorful highly recommend yummy treat familiar story lewis lion witch wardrobe treat seduces edmund selling brother sisters witch',\n",
       " 'looking secret ingredient robitussin believe found got addition root beer extract ordered made cherry soda flavor medicinal',\n",
       " 'great taffy great price wide assortment yummy taffy delivery quick taffy lover deal']"
      ]
     },
     "execution_count": 9,
     "metadata": {},
     "output_type": "execute_result"
    }
   ],
   "source": [
    "cleaned_text[:5]  "
   ]
  },
  {
   "cell_type": "code",
   "execution_count": 10,
   "metadata": {
    "colab": {},
    "colab_type": "code",
    "id": "GsRXocxoFxd-"
   },
   "outputs": [],
   "source": [
    "#call the function\n",
    "cleaned_summary = []\n",
    "for t in data['Summary']:\n",
    "    cleaned_summary.append(text_cleaner(t,1))"
   ]
  },
  {
   "cell_type": "markdown",
   "metadata": {
    "colab_type": "text",
    "id": "oZeD0gs6Lnb-"
   },
   "source": [
    "Let us look at the first 10 preprocessed summaries"
   ]
  },
  {
   "cell_type": "code",
   "execution_count": 11,
   "metadata": {
    "colab": {},
    "colab_type": "code",
    "id": "jQJdZcAzFxee",
    "outputId": "a1fbe683-c03f-4afb-addf-e075021c121b"
   },
   "outputs": [
    {
     "data": {
      "text/plain": [
       "['good quality dog food',\n",
       " 'not as advertised',\n",
       " 'delight says it all',\n",
       " 'cough medicine',\n",
       " 'great taffy',\n",
       " 'nice taffy',\n",
       " 'great just as good as the expensive brands',\n",
       " 'wonderful tasty taffy',\n",
       " 'yay barley',\n",
       " 'healthy dog food']"
      ]
     },
     "execution_count": 11,
     "metadata": {},
     "output_type": "execute_result"
    }
   ],
   "source": [
    "cleaned_summary[:10]"
   ]
  },
  {
   "cell_type": "code",
   "execution_count": 12,
   "metadata": {
    "colab": {},
    "colab_type": "code",
    "id": "L1zLpnqsFxey"
   },
   "outputs": [],
   "source": [
    "data['cleaned_text']=cleaned_text\n",
    "data['cleaned_summary']=cleaned_summary"
   ]
  },
  {
   "cell_type": "markdown",
   "metadata": {
    "colab_type": "text",
    "id": "KT_D2cLiLy77"
   },
   "source": [
    "#Drop empty rows"
   ]
  },
  {
   "cell_type": "code",
   "execution_count": 13,
   "metadata": {
    "colab": {},
    "colab_type": "code",
    "id": "sYK390unFxfA"
   },
   "outputs": [],
   "source": [
    "data.replace('', np.nan, inplace=True)\n",
    "data.dropna(axis=0,inplace=True)"
   ]
  },
  {
   "cell_type": "markdown",
   "metadata": {
    "colab_type": "text",
    "id": "Vm8Fk2TCL7Sp"
   },
   "source": [
    "#Understanding the distribution of the sequences\n",
    "\n",
    "Here, we will analyze the length of the reviews and the summary to get an overall idea about the distribution of length of the text. This will help us fix the maximum length of the sequence:"
   ]
  },
  {
   "cell_type": "code",
   "execution_count": 14,
   "metadata": {
    "colab": {},
    "colab_type": "code",
    "id": "MdF76AHHFxgw",
    "outputId": "e3bbe165-4235-482f-bfd4-36a3f1d95290"
   },
   "outputs": [
    {
     "data": {
      "image/png": "[encoded data removed]",
      "text/plain": [
       "<Figure size 432x288 with 2 Axes>"
      ]
     },
     "metadata": {
      "needs_background": "light"
     },
     "output_type": "display_data"
    }
   ],
   "source": [
    "import matplotlib.pyplot as plt\n",
    "\n",
    "text_word_count = []\n",
    "summary_word_count = []\n",
    "\n",
    "# populate the lists with sentence lengths\n",
    "for i in data['cleaned_text']:\n",
    "      text_word_count.append(len(i.split()))\n",
    "\n",
    "for i in data['cleaned_summary']:\n",
    "      summary_word_count.append(len(i.split()))\n",
    "\n",
    "length_df = pd.DataFrame({'text':text_word_count, 'summary':summary_word_count})\n",
    "\n",
    "length_df.hist(bins = 30)\n",
    "plt.show()"
   ]
  },
  {
   "cell_type": "markdown",
   "metadata": {
    "colab_type": "text",
    "id": "QwdSGIhGMEbz"
   },
   "source": [
    "Interesting. We can fix the maximum length of the summary to 8 since that seems to be the majority summary length.\n",
    "\n",
    "Let us understand the proportion of the length of summaries below 8"
   ]
  },
  {
   "cell_type": "code",
   "execution_count": 15,
   "metadata": {
    "colab": {},
    "colab_type": "code",
    "id": "7JRjwdIOFxg3",
    "outputId": "f968be82-c539-471d-ce23-16f18b059ea0"
   },
   "outputs": [
    {
     "name": "stdout",
     "output_type": "stream",
     "text": [
      "0.9424907471335922\n"
     ]
    }
   ],
   "source": [
    "cnt=0\n",
    "text_len = 30\n",
    "sum_len = 8\n",
    "for i in data['cleaned_summary']:\n",
    "    if(len(i.split())<=8):\n",
    "        cnt=cnt+1\n",
    "print(cnt/len(data['cleaned_summary']))"
   ]
  },
  {
   "cell_type": "markdown",
   "metadata": {
    "colab_type": "text",
    "id": "yYB4Ga9KMjEu"
   },
   "source": [
    "We observe that 94% of the summaries have length below 8. So, we can fix maximum length of summary to 8.\n",
    "\n",
    "Let us fix the maximum length of review to 30"
   ]
  },
  {
   "cell_type": "code",
   "execution_count": 16,
   "metadata": {
    "colab": {},
    "colab_type": "code",
    "id": "ZKD5VOWqFxhC"
   },
   "outputs": [],
   "source": [
    "max_text_len=60\n",
    "max_summary_len=8"
   ]
  },
  {
   "cell_type": "markdown",
   "metadata": {
    "colab_type": "text",
    "id": "E6d48E-8M4VO"
   },
   "source": [
    "Let us select the reviews and summaries whose length falls below or equal to **max_text_len** and **max_summary_len**"
   ]
  },
  {
   "cell_type": "code",
   "execution_count": 17,
   "metadata": {
    "colab": {},
    "colab_type": "code",
    "id": "yY0tEJP0FxhI"
   },
   "outputs": [
    {
     "data": {
      "text/html": [
       "<div>\n",
       "<style scoped>\n",
       "    .dataframe tbody tr th:only-of-type {\n",
       "        vertical-align: middle;\n",
       "    }\n",
       "\n",
       "    .dataframe tbody tr th {\n",
       "        vertical-align: top;\n",
       "    }\n",
       "\n",
       "    .dataframe thead th {\n",
       "        text-align: right;\n",
       "    }\n",
       "</style>\n",
       "<table border=\"1\" class=\"dataframe\">\n",
       "  <thead>\n",
       "    <tr style=\"text-align: right;\">\n",
       "      <th></th>\n",
       "      <th>text</th>\n",
       "      <th>summary</th>\n",
       "    </tr>\n",
       "  </thead>\n",
       "  <tbody>\n",
       "    <tr>\n",
       "      <th>0</th>\n",
       "      <td>bought several vitality canned dog food products found good quality product looks like stew processed meat smells better labrador finicky appreciates product better</td>\n",
       "      <td>good quality dog food</td>\n",
       "    </tr>\n",
       "    <tr>\n",
       "      <th>1</th>\n",
       "      <td>product arrived labeled jumbo salted peanuts peanuts actually small sized unsalted sure error vendor intended represent product jumbo</td>\n",
       "      <td>not as advertised</td>\n",
       "    </tr>\n",
       "    <tr>\n",
       "      <th>2</th>\n",
       "      <td>confection around centuries light pillowy citrus gelatin nuts case filberts cut tiny squares liberally coated powdered sugar tiny mouthful heaven chewy flavorful highly recommend yummy treat famil...</td>\n",
       "      <td>delight says it all</td>\n",
       "    </tr>\n",
       "    <tr>\n",
       "      <th>3</th>\n",
       "      <td>looking secret ingredient robitussin believe found got addition root beer extract ordered made cherry soda flavor medicinal</td>\n",
       "      <td>cough medicine</td>\n",
       "    </tr>\n",
       "    <tr>\n",
       "      <th>4</th>\n",
       "      <td>great taffy great price wide assortment yummy taffy delivery quick taffy lover deal</td>\n",
       "      <td>great taffy</td>\n",
       "    </tr>\n",
       "  </tbody>\n",
       "</table>\n",
       "</div>"
      ],
      "text/plain": [
       "                                                                                                                                                                                                      text  \\\n",
       "0                                     bought several vitality canned dog food products found good quality product looks like stew processed meat smells better labrador finicky appreciates product better   \n",
       "1                                                                    product arrived labeled jumbo salted peanuts peanuts actually small sized unsalted sure error vendor intended represent product jumbo   \n",
       "2  confection around centuries light pillowy citrus gelatin nuts case filberts cut tiny squares liberally coated powdered sugar tiny mouthful heaven chewy flavorful highly recommend yummy treat famil...   \n",
       "3                                                                              looking secret ingredient robitussin believe found got addition root beer extract ordered made cherry soda flavor medicinal   \n",
       "4                                                                                                                      great taffy great price wide assortment yummy taffy delivery quick taffy lover deal   \n",
       "\n",
       "                 summary  \n",
       "0  good quality dog food  \n",
       "1      not as advertised  \n",
       "2    delight says it all  \n",
       "3         cough medicine  \n",
       "4            great taffy  "
      ]
     },
     "execution_count": 17,
     "metadata": {},
     "output_type": "execute_result"
    }
   ],
   "source": [
    "cleaned_text =np.array(data['cleaned_text'])\n",
    "cleaned_summary=np.array(data['cleaned_summary'])\n",
    "\n",
    "short_text=[]\n",
    "short_summary=[]\n",
    "\n",
    "for i in range(len(cleaned_text)):\n",
    "    if(len(cleaned_summary[i].split())<=max_summary_len and len(cleaned_text[i].split())<=max_text_len):\n",
    "        short_text.append(cleaned_text[i])\n",
    "        short_summary.append(cleaned_summary[i])\n",
    "        \n",
    "df=pd.DataFrame({'text':short_text,'summary':short_summary})\n",
    "df.head()"
   ]
  },
  {
   "cell_type": "markdown",
   "metadata": {
    "colab_type": "text",
    "id": "tR1uh8xSNUma"
   },
   "source": [
    "Remember to add the **START** and **END** special tokens at the beginning and end of the summary. Here, I have chosen **sostok** and **eostok** as START and END tokens\n",
    "\n",
    "**Note:** Be sure that the chosen special tokens never appear in the summary"
   ]
  },
  {
   "cell_type": "code",
   "execution_count": 18,
   "metadata": {
    "colab": {},
    "colab_type": "code",
    "id": "EwLUH78CFxhg"
   },
   "outputs": [],
   "source": [
    "df['summary'] = df['summary'].apply(lambda x : 'sostok '+ x + ' eostok')"
   ]
  },
  {
   "cell_type": "markdown",
   "metadata": {
    "colab_type": "text",
    "id": "1GlcX4RFOh13"
   },
   "source": [
    "We are getting closer to the model building part. Before that, we need to split our dataset into a training and validation set. We’ll use 90% of the dataset as the training data and evaluate the performance on the remaining 10% (holdout set):"
   ]
  },
  {
   "cell_type": "code",
   "execution_count": 19,
   "metadata": {
    "colab": {},
    "colab_type": "code",
    "id": "RakakKHcFxhl"
   },
   "outputs": [],
   "source": [
    "from sklearn.model_selection import train_test_split\n",
    "x_tr,x_val,y_tr,y_val=train_test_split(np.array(df['text']),np.array(df['summary']),test_size=0.1,random_state=0,shuffle=True) "
   ]
  },
  {
   "cell_type": "markdown",
   "metadata": {
    "colab_type": "text",
    "id": "Vq1mqyOHOtIl"
   },
   "source": [
    "#Preparing the Tokenizer\n",
    "\n",
    "A tokenizer builds the vocabulary and converts a word sequence to an integer sequence. Go ahead and build tokenizers for text and summary:\n",
    "\n",
    "#Text Tokenizer"
   ]
  },
  {
   "cell_type": "code",
   "execution_count": 20,
   "metadata": {
    "colab": {},
    "colab_type": "code",
    "id": "oRHTgX6hFxhq"
   },
   "outputs": [],
   "source": [
    "from tensorflow.keras.preprocessing.text import Tokenizer \n",
    "from tensorflow.keras.preprocessing.sequence import pad_sequences\n",
    "\n",
    "#prepare a tokenizer for reviews on training data\n",
    "x_tokenizer = Tokenizer() \n",
    "x_tokenizer.fit_on_texts(list(x_tr))"
   ]
  },
  {
   "cell_type": "markdown",
   "metadata": {
    "colab_type": "text",
    "id": "RzvLwYL_PDcx"
   },
   "source": [
    "#Rarewords and its Coverage\n",
    "\n",
    "Let us look at the proportion rare words and its total coverage in the entire text\n",
    "\n",
    "Here, I am defining the threshold to be 4 which means word whose count is below 4 is considered as a rare word"
   ]
  },
  {
   "cell_type": "code",
   "execution_count": 21,
   "metadata": {
    "colab": {},
    "colab_type": "code",
    "id": "y8KronV2Fxhx",
    "outputId": "d2eb2f27-fbbc-4e61-9556-3c3ff5e4327b"
   },
   "outputs": [
    {
     "name": "stdout",
     "output_type": "stream",
     "text": [
      "% of rare words in vocabulary: 64.82931071972168\n",
      "Total Coverage of rare words: 0.019653016182939027\n",
      "12940\n"
     ]
    }
   ],
   "source": [
    "thresh=4\n",
    "\n",
    "cnt=0\n",
    "tot_cnt=0\n",
    "freq=0\n",
    "tot_freq=0\n",
    "\n",
    "for key,value in x_tokenizer.word_counts.items():\n",
    "    tot_cnt=tot_cnt+1\n",
    "    tot_freq=tot_freq+value\n",
    "    if(value<thresh):\n",
    "        cnt=cnt+1\n",
    "        freq=freq+value\n",
    "    \n",
    "print(\"% of rare words in vocabulary:\",(cnt/tot_cnt)*100)\n",
    "print(\"Total Coverage of rare words:\",(freq/tot_freq))\n",
    "print(tot_cnt-cnt)"
   ]
  },
  {
   "cell_type": "markdown",
   "metadata": {
    "colab_type": "text",
    "id": "So-J-5kzQIeO"
   },
   "source": [
    "**Remember**:\n",
    "\n",
    "\n",
    "* **tot_cnt** gives the size of vocabulary (which means every unique words in the text)\n",
    " \n",
    "*   **cnt** gives me the no. of rare words whose count falls below threshold\n",
    "\n",
    "*  **tot_cnt - cnt** gives me the top most common words \n",
    "\n",
    "Let us define the tokenizer with top most common words for reviews."
   ]
  },
  {
   "cell_type": "code",
   "execution_count": 22,
   "metadata": {
    "colab": {},
    "colab_type": "code",
    "id": "J2giEsF3Fxh3"
   },
   "outputs": [],
   "source": [
    "#prepare a tokenizer for reviews on training data\n",
    "x_tokenizer = Tokenizer(num_words=tot_cnt-cnt) \n",
    "x_tokenizer.fit_on_texts(list(x_tr))\n",
    "\n",
    "#convert text sequences into integer sequences\n",
    "x_tr_seq    =   x_tokenizer.texts_to_sequences(x_tr) \n",
    "x_val_seq   =   x_tokenizer.texts_to_sequences(x_val)\n",
    "\n",
    "#padding zero upto maximum length\n",
    "x_tr    =   pad_sequences(x_tr_seq,  maxlen=max_text_len, padding='post')\n",
    "x_val   =   pad_sequences(x_val_seq, maxlen=max_text_len, padding='post')\n",
    "\n",
    "#size of vocabulary ( +1 for padding token)\n",
    "x_voc   =  x_tokenizer.num_words + 1"
   ]
  },
  {
   "cell_type": "code",
   "execution_count": 23,
   "metadata": {
    "colab": {},
    "colab_type": "code",
    "id": "DCbGMsm4FxiA",
    "outputId": "2d9165f0-e542-4114-91f3-e070d483fce9"
   },
   "outputs": [
    {
     "data": {
      "text/plain": [
       "12941"
      ]
     },
     "execution_count": 23,
     "metadata": {},
     "output_type": "execute_result"
    }
   ],
   "source": [
    "x_voc"
   ]
  },
  {
   "cell_type": "markdown",
   "metadata": {
    "colab_type": "text",
    "id": "uQfKP3sqRxi9"
   },
   "source": [
    "#Summary Tokenizer"
   ]
  },
  {
   "cell_type": "code",
   "execution_count": 24,
   "metadata": {
    "colab": {},
    "colab_type": "code",
    "id": "eRHqyBkBFxiJ"
   },
   "outputs": [],
   "source": [
    "#prepare a tokenizer for reviews on training data\n",
    "y_tokenizer = Tokenizer()   \n",
    "y_tokenizer.fit_on_texts(list(y_tr))"
   ]
  },
  {
   "cell_type": "markdown",
   "metadata": {
    "colab_type": "text",
    "id": "KInA6O6ZSkJz"
   },
   "source": [
    "#Rarewords and its Coverage\n",
    "\n",
    "Let us look at the proportion rare words and its total coverage in the entire summary\n",
    "\n",
    "Here, I am defining the threshold to be 6 which means word whose count is below 6 is considered as a rare word"
   ]
  },
  {
   "cell_type": "code",
   "execution_count": 25,
   "metadata": {
    "colab": {},
    "colab_type": "code",
    "id": "yzE5OiRLFxiM",
    "outputId": "7f7a4f89-b088-4847-8172-09e5a2383d0e"
   },
   "outputs": [
    {
     "name": "stdout",
     "output_type": "stream",
     "text": [
      "% of rare words in vocabulary: 76.74038378797006\n",
      "Total Coverage of rare words: 4.3293281055378\n"
     ]
    }
   ],
   "source": [
    "thresh=6\n",
    "\n",
    "cnt=0\n",
    "tot_cnt=0\n",
    "freq=0\n",
    "tot_freq=0\n",
    "\n",
    "for key,value in y_tokenizer.word_counts.items():\n",
    "    tot_cnt=tot_cnt+1\n",
    "    tot_freq=tot_freq+value\n",
    "    if(value<thresh):\n",
    "        cnt=cnt+1\n",
    "        freq=freq+value\n",
    "    \n",
    "print(\"% of rare words in vocabulary:\",(cnt/tot_cnt)*100)\n",
    "print(\"Total Coverage of rare words:\",(freq/tot_freq)*100)"
   ]
  },
  {
   "cell_type": "markdown",
   "metadata": {
    "colab_type": "text",
    "id": "0PBhzKuRSw_9"
   },
   "source": [
    "Let us define the tokenizer with top most common words for summary."
   ]
  },
  {
   "cell_type": "code",
   "execution_count": 26,
   "metadata": {
    "colab": {},
    "colab_type": "code",
    "id": "-fswLvIgFxiR"
   },
   "outputs": [],
   "source": [
    "#prepare a tokenizer for reviews on training data\n",
    "y_tokenizer = Tokenizer(num_words=tot_cnt-cnt) \n",
    "y_tokenizer.fit_on_texts(list(y_tr))\n",
    "\n",
    "#convert text sequences into integer sequences\n",
    "y_tr_seq    =   y_tokenizer.texts_to_sequences(y_tr) \n",
    "y_val_seq   =   y_tokenizer.texts_to_sequences(y_val) \n",
    "\n",
    "#padding zero upto maximum length\n",
    "y_tr    =   pad_sequences(y_tr_seq, maxlen=max_summary_len, padding='post')\n",
    "y_val   =   pad_sequences(y_val_seq, maxlen=max_summary_len, padding='post')\n",
    "\n",
    "#size of vocabulary\n",
    "y_voc  =   y_tokenizer.num_words +1\n"
   ]
  },
  {
   "cell_type": "markdown",
   "metadata": {
    "colab_type": "text",
    "id": "qqwDUT5oTFmn"
   },
   "source": [
    "Let us check whether word count of start token is equal to length of the training data"
   ]
  },
  {
   "cell_type": "code",
   "execution_count": 27,
   "metadata": {
    "colab": {},
    "colab_type": "code",
    "id": "pR8IX9FRFxiY",
    "outputId": "b116cdbd-42c4-4ede-9f6d-46284115393e"
   },
   "outputs": [
    {
     "data": {
      "text/plain": [
       "(63684, 63684)"
      ]
     },
     "execution_count": 27,
     "metadata": {},
     "output_type": "execute_result"
    }
   ],
   "source": [
    "y_tokenizer.word_counts['sostok'],len(y_tr)   "
   ]
  },
  {
   "cell_type": "markdown",
   "metadata": {
    "colab_type": "text",
    "id": "LVFhFVguTTtw"
   },
   "source": [
    "Delete rows that contain only **START** and **END** tokens"
   ]
  },
  {
   "cell_type": "code",
   "execution_count": 28,
   "metadata": {
    "colab": {},
    "colab_type": "code",
    "id": "kZ-vW82sFxih"
   },
   "outputs": [],
   "source": [
    "ind=[]\n",
    "for i in range(len(y_tr)):\n",
    "    cnt=0\n",
    "    for j in y_tr[i]:\n",
    "        if j!=0:\n",
    "            cnt=cnt+1\n",
    "    if(cnt==2):\n",
    "        ind.append(i)\n",
    "\n",
    "y_tr=np.delete(y_tr,ind, axis=0)\n",
    "x_tr=np.delete(x_tr,ind, axis=0)"
   ]
  },
  {
   "cell_type": "code",
   "execution_count": 29,
   "metadata": {
    "colab": {},
    "colab_type": "code",
    "id": "cx5NISuMFxik"
   },
   "outputs": [],
   "source": [
    "ind=[]\n",
    "for i in range(len(y_val)):\n",
    "    cnt=0\n",
    "    for j in y_val[i]:\n",
    "        if j!=0:\n",
    "            cnt=cnt+1\n",
    "    if(cnt==2):\n",
    "        ind.append(i)\n",
    "\n",
    "y_val=np.delete(y_val,ind, axis=0)\n",
    "x_val=np.delete(x_val,ind, axis=0)"
   ]
  },
  {
   "cell_type": "markdown",
   "metadata": {
    "colab_type": "text",
    "id": "wOtlDcthFxip"
   },
   "source": [
    "# Model \n"
   ]
  },
  {
   "cell_type": "code",
   "execution_count": 30,
   "metadata": {},
   "outputs": [],
   "source": [
    "class BahdanauAttention(tf.keras.layers.Layer):\n",
    "    \n",
    "  def __init__(self, units):\n",
    "    super(BahdanauAttention, self).__init__()\n",
    "    self.W1 = tf.keras.layers.Dense(units)\n",
    "    self.W2 = tf.keras.layers.Dense(units)\n",
    "    self.V = tf.keras.layers.Dense(1)\n",
    "\n",
    "  def call(self, query, values):\n",
    "    # hidden shape == (batch_size, hidden size)\n",
    "    # hidden_with_time_axis shape == (batch_size, 1, hidden size)\n",
    "    # we are doing this to perform addition to calculate the score\n",
    "    hidden_with_time_axis = tf.expand_dims(query, 1)\n",
    "\n",
    "    # score shape == (batch_size, max_length, 1)\n",
    "    # we get 1 at the last axis because we are applying score to self.V\n",
    "    # the shape of the tensor before applying self.V is (batch_size, max_length, units)\n",
    "    score = self.V(tf.nn.tanh(\n",
    "        self.W1(values) + self.W2(hidden_with_time_axis)))\n",
    "\n",
    "    # attention_weights shape == (batch_size, max_length, 1)\n",
    "    attention_weights = tf.nn.softmax(score, axis=1)\n",
    "\n",
    "    # context_vector shape after sum == (batch_size, hidden_size)\n",
    "    context_vector = attention_weights * values\n",
    "    context_vector = tf.reduce_sum(context_vector, axis=1)\n",
    "\n",
    "    return context_vector, attention_weights"
   ]
  },
  {
   "cell_type": "code",
   "execution_count": 31,
   "metadata": {
    "colab": {},
    "colab_type": "code",
    "id": "zXef38nBFxir",
    "outputId": "7ae99521-46f8-4c6f-9cba-4979deffeee8"
   },
   "outputs": [
    {
     "name": "stdout",
     "output_type": "stream",
     "text": [
      "WARNING:tensorflow:From /opt/conda/lib/python3.7/site-packages/tensorflow/python/keras/initializers.py:119: calling RandomUniform.__init__ (from tensorflow.python.ops.init_ops) with dtype is deprecated and will be removed in a future version.\n",
      "Instructions for updating:\n",
      "Call initializer instance with the dtype argument instead of passing it to the constructor\n",
      "WARNING:tensorflow:From /opt/conda/lib/python3.7/site-packages/tensorflow/python/ops/init_ops.py:1251: calling VarianceScaling.__init__ (from tensorflow.python.ops.init_ops) with dtype is deprecated and will be removed in a future version.\n",
      "Instructions for updating:\n",
      "Call initializer instance with the dtype argument instead of passing it to the constructor\n",
      "WARNING:tensorflow:From /opt/conda/lib/python3.7/site-packages/tensorflow/python/ops/init_ops.py:97: calling GlorotUniform.__init__ (from tensorflow.python.ops.init_ops) with dtype is deprecated and will be removed in a future version.\n",
      "Instructions for updating:\n",
      "Call initializer instance with the dtype argument instead of passing it to the constructor\n",
      "WARNING:tensorflow:From /opt/conda/lib/python3.7/site-packages/tensorflow/python/ops/init_ops.py:97: calling Orthogonal.__init__ (from tensorflow.python.ops.init_ops) with dtype is deprecated and will be removed in a future version.\n",
      "Instructions for updating:\n",
      "Call initializer instance with the dtype argument instead of passing it to the constructor\n",
      "WARNING:tensorflow:From /opt/conda/lib/python3.7/site-packages/tensorflow/python/ops/init_ops.py:97: calling Zeros.__init__ (from tensorflow.python.ops.init_ops) with dtype is deprecated and will be removed in a future version.\n",
      "Instructions for updating:\n",
      "Call initializer instance with the dtype argument instead of passing it to the constructor\n",
      "WARNING:tensorflow:Entity <bound method AttentionLayer.call of <attention.AttentionLayer object at 0x7f53afbc0278>> could not be transformed and will be executed as-is. Please report this to the AutgoGraph team. When filing the bug, set the verbosity to 10 (on Linux, `export AUTOGRAPH_VERBOSITY=10`) and attach the full output. Cause: converting <bound method AttentionLayer.call of <attention.AttentionLayer object at 0x7f53afbc0278>>: AttributeError: module 'gast' has no attribute 'Num'\n",
      "WARNING: Entity <bound method AttentionLayer.call of <attention.AttentionLayer object at 0x7f53afbc0278>> could not be transformed and will be executed as-is. Please report this to the AutgoGraph team. When filing the bug, set the verbosity to 10 (on Linux, `export AUTOGRAPH_VERBOSITY=10`) and attach the full output. Cause: converting <bound method AttentionLayer.call of <attention.AttentionLayer object at 0x7f53afbc0278>>: AttributeError: module 'gast' has no attribute 'Num'\n",
      "Model: \"model\"\n",
      "__________________________________________________________________________________________________\n",
      "Layer (type)                    Output Shape         Param #     Connected to                     \n",
      "==================================================================================================\n",
      "input_1 (InputLayer)            [(None, 60)]         0                                            \n",
      "__________________________________________________________________________________________________\n",
      "embedding (Embedding)           (None, 60, 100)      1294100     input_1[0][0]                    \n",
      "__________________________________________________________________________________________________\n",
      "lstm (LSTM)                     (None, 60, 128)      117248      embedding[0][0]                  \n",
      "__________________________________________________________________________________________________\n",
      "lstm_1 (LSTM)                   (None, 60, 128)      131584      lstm[0][0]                       \n",
      "__________________________________________________________________________________________________\n",
      "input_2 (InputLayer)            [(None, None)]       0                                            \n",
      "__________________________________________________________________________________________________\n",
      "bidirectional (Bidirectional)   [(None, 60, 256), (N 263168      lstm_1[0][0]                     \n",
      "__________________________________________________________________________________________________\n",
      "embedding_1 (Embedding)         (None, None, 100)    270400      input_2[0][0]                    \n",
      "__________________________________________________________________________________________________\n",
      "concatenate (Concatenate)       (None, 256)          0           bidirectional[0][1]              \n",
      "                                                                 bidirectional[0][3]              \n",
      "__________________________________________________________________________________________________\n",
      "concatenate_1 (Concatenate)     (None, 256)          0           bidirectional[0][2]              \n",
      "                                                                 bidirectional[0][4]              \n",
      "__________________________________________________________________________________________________\n",
      "lstm_3 (LSTM)                   [(None, None, 256),  365568      embedding_1[0][0]                \n",
      "                                                                 concatenate[0][0]                \n",
      "                                                                 concatenate_1[0][0]              \n",
      "__________________________________________________________________________________________________\n",
      "attention_layer (AttentionLayer ((None, None, 256),  131328      bidirectional[0][0]              \n",
      "                                                                 lstm_3[0][0]                     \n",
      "__________________________________________________________________________________________________\n",
      "concat_layer (Concatenate)      (None, None, 512)    0           lstm_3[0][0]                     \n",
      "                                                                 attention_layer[0][0]            \n",
      "__________________________________________________________________________________________________\n",
      "time_distributed (TimeDistribut (None, None, 2704)   1387152     concat_layer[0][0]               \n",
      "==================================================================================================\n",
      "Total params: 3,960,548\n",
      "Trainable params: 3,960,548\n",
      "Non-trainable params: 0\n",
      "__________________________________________________________________________________________________\n"
     ]
    }
   ],
   "source": [
    "from tensorflow.keras import backend as K \n",
    "\n",
    "K.clear_session()\n",
    "\n",
    "latent_dim = 128\n",
    "embedding_dim=100\n",
    "\n",
    "# Encoder\n",
    "encoder_inputs = Input(shape=(max_text_len,))\n",
    "\n",
    "#embedding layer\n",
    "enc_emb =  Embedding(x_voc, embedding_dim,trainable=True)(encoder_inputs)\n",
    "\n",
    "#encoder lstm 1\n",
    "encoder_lstm1 = LSTM(latent_dim,return_sequences=True,dropout=0.4,recurrent_dropout=0.4)#, merge_mode='concat')\n",
    "encoder_output1 = encoder_lstm1(enc_emb)\n",
    "\n",
    "#encoder lstm 2\n",
    "encoder_lstm2 = LSTM(latent_dim,return_sequences=True,dropout=0.4,recurrent_dropout=0.4)#, merge_mode='concat')\n",
    "encoder_output2 = encoder_lstm2(encoder_output1)\n",
    "\n",
    "#encoder lstm 3\n",
    "encoder_lstm3=Bidirectional(LSTM(latent_dim, return_state=True, return_sequences=True,dropout=0.4,recurrent_dropout=0.4), merge_mode='concat')\n",
    "encoder_outputs, forward_h, forward_c, backward_h, backward_c = encoder_lstm3(encoder_output2)\n",
    "state_h = Concatenate()([forward_h, backward_h])\n",
    "state_c = Concatenate()([forward_c, backward_c])\n",
    "\n",
    "# encoder_lstm3 = LSTM(2*latent_dim, return_state=True, return_sequences=True,dropout=0.4,recurrent_dropout=0.4)\n",
    "# encoder_outputs, state_h, state_c = encoder_lstm3(encoder_output2)                              \n",
    "# encoder_states = [state_h, state_c]\n",
    "# Set up the decoder, using `encoder_states` as initial state.\n",
    "decoder_inputs = Input(shape=(None,))\n",
    "\n",
    "#embedding layer\n",
    "dec_emb_layer = Embedding(y_voc, embedding_dim, trainable=True)\n",
    "dec_emb = dec_emb_layer(decoder_inputs)\n",
    "\n",
    "decoder_lstm = LSTM(2*latent_dim, return_sequences=True, return_state=True,dropout=0.4,recurrent_dropout=0.2)\n",
    "decoder_outputs, decoder_state_h, decoder_state_c = decoder_lstm(dec_emb,initial_state=[state_h, state_c])\n",
    "\n",
    "# attent = BahdanauAttention(latent_dim)\n",
    "# print(decoder_state_h)\n",
    "# attn_out, attn_states = attent(decoder_state_h, encoder_outputs)#, decoder_outputs])\n",
    "# Attention layer\n",
    "attn_layer = AttentionLayer(name='attention_layer')\n",
    "attn_out, attn_states = attn_layer([encoder_outputs, decoder_outputs])\n",
    "\n",
    "\n",
    "\n",
    "# Concat attention input and decoder LSTM output\n",
    "decoder_concat_input = Concatenate(axis=-1, name='concat_layer')([decoder_outputs, attn_out])\n",
    "\n",
    "#dense layer\n",
    "decoder_dense =  TimeDistributed(Dense(y_voc, activation='softmax'))\n",
    "decoder_outputs = decoder_dense(decoder_concat_input)\n",
    "\n",
    "# Define the model \n",
    "model = Model([encoder_inputs, decoder_inputs], decoder_outputs)\n",
    "\n",
    "model.summary() "
   ]
  },
  {
   "cell_type": "markdown",
   "metadata": {
    "colab_type": "text",
    "id": "0ZVlfRuMUcoP"
   },
   "source": [
    "I am using sparse categorical cross-entropy as the loss function since it converts the integer sequence to a one-hot vector on the fly. This overcomes any memory issues."
   ]
  },
  {
   "cell_type": "code",
   "execution_count": 32,
   "metadata": {
    "colab": {},
    "colab_type": "code",
    "id": "Lwfi1Fm8Fxiz"
   },
   "outputs": [],
   "source": [
    "model.compile(optimizer='adam', loss='sparse_categorical_crossentropy')"
   ]
  },
  {
   "cell_type": "markdown",
   "metadata": {
    "colab_type": "text",
    "id": "p0ykDbxfUhyw"
   },
   "source": [
    "Remember the concept of early stopping? It is used to stop training the neural network at the right time by monitoring a user-specified metric. Here, I am monitoring the validation loss (val_loss). Our model will stop training once the validation loss increases:\n"
   ]
  },
  {
   "cell_type": "code",
   "execution_count": 33,
   "metadata": {
    "colab": {},
    "colab_type": "code",
    "id": "s-A3J92MUljB"
   },
   "outputs": [],
   "source": [
    "# es = EarlyStopping(monitor='val_loss', mode='min', verbose=1,patience=2)\n",
    "# file_path1 = \"model_best_train.h5\"\n",
    "file_path2 = \"model_best_val_bi001.h5\"\n",
    "# cp1 = ModelCheckpoint(file_path1, monitor='train_loss', verbose=1, save_best_only=True, mode='min')\n",
    "# cp2 = ModelCheckpoint(file_path2, monitor='val_loss', verbose=1, save_best_only=True, mode='min')\n",
    "\n",
    "model.load_weights(file_path2)"
   ]
  },
  {
   "cell_type": "markdown",
   "metadata": {
    "colab_type": "text",
    "id": "Mw6CVECaUq5b"
   },
   "source": [
    "We’ll train the model on a batch size of 128 and validate it on the holdout set (which is 10% of our dataset):"
   ]
  },
  {
   "cell_type": "code",
   "execution_count": 34,
   "metadata": {
    "colab": {},
    "colab_type": "code",
    "id": "ETnPzA4OFxi3",
    "outputId": "477e374f-7cf2-4d60-f86e-2c49c9cebedb",
    "scrolled": false
   },
   "outputs": [],
   "source": [
    "\n",
    "# history=model.fit([x_tr,y_tr[:,:-1]], y_tr.reshape(y_tr.shape[0],y_tr.shape[1], 1)[:,1:] ,epochs=50,callbacks=[cp2],batch_size=128, validation_data=([x_val,y_val[:,:-1]], y_val.reshape(y_val.shape[0],y_val.shape[1], 1)[:,1:]))"
   ]
  },
  {
   "cell_type": "markdown",
   "metadata": {
    "colab_type": "text",
    "id": "0ezKYOp2UxG5"
   },
   "source": [
    "#Understanding the Diagnostic plot\n",
    "\n",
    "Now, we will plot a few diagnostic plots to understand the behavior of the model over time:"
   ]
  },
  {
   "cell_type": "code",
   "execution_count": 35,
   "metadata": {
    "colab": {},
    "colab_type": "code",
    "id": "tDTNLAURFxjE",
    "outputId": "e2ea6e44-3931-4014-97a1-03fa2a441228"
   },
   "outputs": [],
   "source": [
    "# history_df = pd.DataFrame(history.history)\n",
    "# history_df.to_csv('001_history.csv')\n",
    "# model.save_weights(\"model.h5\")\n",
    "# model.load_weights(\"model.h5\")\n",
    "# from matplotlib import pyplot\n",
    "# pyplot.plot(history.history['loss'], label='train')\n",
    "# pyplot.plot(history.history['val_loss'], label='test')\n",
    "# pyplot.legend()\n",
    "# pyplot.show()"
   ]
  },
  {
   "cell_type": "markdown",
   "metadata": {
    "colab_type": "text",
    "id": "HSyx-HvpUz2o"
   },
   "source": [
    "From the plot, we can infer that validation loss has increased after epoch 17 for 2 successive epochs. Hence, training is stopped at epoch 19.\n",
    "\n",
    "Next, let’s build the dictionary to convert the index to word for target and source vocabulary:"
   ]
  },
  {
   "cell_type": "code",
   "execution_count": 36,
   "metadata": {},
   "outputs": [],
   "source": [
    "# history_df = pd.DataFrame(history.history)\n",
    "# history_df[['loss', 'val_loss']].plot()\n",
    "# history_df[['dice_coef', 'val_dice_coef']].plot()"
   ]
  },
  {
   "cell_type": "code",
   "execution_count": 37,
   "metadata": {
    "colab": {},
    "colab_type": "code",
    "id": "sBX0zZnOFxjW"
   },
   "outputs": [
    {
     "name": "stdout",
     "output_type": "stream",
     "text": [
      "{1: 'sostok', 2: 'eostok', 3: 'great', 4: 'good', 5: 'the', 6: 'not', 7: 'for', 8: 'best', 9: 'and', 10: 'love', 11: 'my', 12: 'it', 13: 'coffee', 14: 'tea', 15: 'this', 16: 'product', 17: 'delicious', 18: 'but', 19: 'is', 20: 'taste', 21: 'very', 22: 'to', 23: 'of', 24: 'dog', 25: 'excellent', 26: 'flavor', 27: 'yummy', 28: 'these', 29: 'tasty', 30: 'like', 31: 'price', 32: 'in', 33: 'food', 34: 'favorite', 35: 'ever', 36: 'too', 37: 'loves', 38: 'so', 39: 'snack', 40: 'stuff', 41: 'awesome', 42: 'dogs', 43: 'are', 44: 'with', 45: 'as', 46: 'on', 47: 'healthy', 48: 'better', 49: 'just', 50: 'you', 51: 'yum', 52: 'chocolate', 53: 'free', 54: 'perfect', 55: 'nice', 56: 'no', 57: 'wonderful', 58: 'them', 59: 'tastes', 60: 'have', 61: 'treat', 62: 'sweet', 63: 'than', 64: 'really', 65: 'what', 66: 'tasting', 67: 'quality', 68: 'treats', 69: 'bad', 70: 'at', 71: 'buy', 72: 'amazing', 73: 'hot', 74: 'cup', 75: 'one', 76: 'chips', 77: 'cat', 78: 'little', 79: 'all', 80: 'do', 81: 'me', 82: 'popcorn', 83: 'easy', 84: 'gluten', 85: 'your', 86: 'sugar', 87: 'value', 88: 'mix', 89: 'pretty', 90: 'ok', 91: 'organic', 92: 'from', 93: 'cookies', 94: 'cats', 95: 'way', 96: 'green', 97: 'they', 98: 'fantastic', 99: 'be', 100: 'much', 101: 'drink', 102: 'more', 103: 'candy', 104: 'deal', 105: 'amazon', 106: 'cereal', 107: 'works', 108: 'will', 109: 'happy', 110: 'was', 111: 'strong', 112: 'sauce', 113: 'salt', 114: 'that', 115: 'rice', 116: 'bars', 117: 'only', 118: 'does', 119: 'low', 120: 'bar', 121: 'can', 122: 'up', 123: 'our', 124: 'expensive', 125: 'loved', 126: 'baby', 127: 'out', 128: 'pasta', 129: 'real', 130: 'did', 131: 'gift', 132: 'cups', 133: 'eat', 134: 'fresh', 135: 'made', 136: 'service', 137: 'go', 138: 'an', 139: 'cannot', 140: 'bread', 141: 'water', 142: 'oil', 143: 'quick', 144: 'alternative', 145: 'wow', 146: 'get', 147: 'breakfast', 148: 'disappointed', 149: 'or', 150: 'blend', 151: 'review', 152: 'coconut', 153: 'new', 154: 'expected', 155: 'decaf', 156: 'if', 157: 'high', 158: 'time', 159: 'dark', 160: 'hard', 161: 'smooth', 162: 'old', 163: 'syrup', 164: 'find', 165: 'super', 166: 'had', 167: 'money', 168: 'soup', 169: 'natural', 170: 'there', 171: 'makes', 172: 'worth', 173: 'salty', 174: 'packaging', 175: 'energy', 176: 'shipping', 177: 'well', 178: 'fast', 179: 'big', 180: 'okay', 181: 'chai', 182: 'butter', 183: 'spicy', 184: 'kids', 185: 'refreshing', 186: 'would', 187: 'mm', 188: 'small', 189: 'convenient', 190: 'milk', 191: 'by', 192: 'use', 193: 'cocoa', 194: 'nothing', 195: 'again', 196: 'vanilla', 197: 'greenies', 198: 'ginger', 199: 'item', 200: 'we', 201: 'light', 202: 'right', 203: 'cookie', 204: 'horrible', 205: 'jerky', 206: 'chicken', 207: 'am', 208: 'beware', 209: 'crackers', 210: 'absolutely', 211: 'awful', 212: 'without', 213: 'honey', 214: 'bit', 215: 'has', 216: 'stale', 217: 'roast', 218: 'found', 219: 'nuts', 220: 'bitter', 221: 'terrible', 222: 'peanut', 223: 'work', 224: 'far', 225: 'poor', 226: 'bold', 227: 'yuck', 228: 'some', 229: 'cheese', 230: 'enough', 231: 'could', 232: 'noodles', 233: 'juice', 234: 'gum', 235: 'fruit', 236: 'black', 237: 'addictive', 238: 'flavored', 239: 'weak', 240: 'flavorful', 241: 'fun', 242: 'simply', 243: 'beef', 244: 'dry', 245: 'wrong', 246: 'white', 247: 'even', 248: 'make', 249: 'flavors', 250: 'disappointing', 251: 'size', 252: 'fabulous', 253: 'its', 254: 'pricey', 255: 'chews', 256: 'rich', 257: 'soda', 258: 'decent', 259: 'crunchy', 260: 'bag', 261: 'protein', 262: 'toy', 263: 'beans', 264: 'overpriced', 265: 'whole', 266: 'special', 267: 'most', 268: 'choice', 269: 'thing', 270: 'goodness', 271: 'different', 272: 'pack', 273: 'pop', 274: 'instant', 275: 'must', 276: 'meal', 277: 'fine', 278: 'oatmeal', 279: 'seasoning', 280: 'another', 281: 'cheaper', 282: 'about', 283: 'seeds', 284: 'granola', 285: 'french', 286: 'cans', 287: 'likes', 288: 'off', 289: 'keurig', 290: 'now', 291: 'training', 292: 'pumpkin', 293: 'worst', 294: 'em', 295: 'tasted', 296: 'try', 297: 'pleased', 298: 'texture', 299: 'variety', 300: 'customer', 301: 'substitute', 302: 'puppy', 303: 'long', 304: 'got', 305: 'yumm', 306: 'day', 307: 'over', 308: 'market', 309: 'never', 310: 'spice', 311: 'purchase', 312: 'brand', 313: 'kind', 314: 'pure', 315: 'ingredients', 316: 'gf', 317: 'around', 318: 'snacks', 319: 'full', 320: 'house', 321: 'licorice', 322: 'waste', 323: 'lovers', 324: 'finally', 325: 'powder', 326: 'still', 327: 'first', 328: 'oh', 329: 'dried', 330: 'used', 331: 'order', 332: 'picky', 333: 'recommended', 334: 'chip', 335: 'almonds', 336: 'world', 337: 'family', 338: 'bears', 339: 'bland', 340: 'home', 341: 'olive', 342: 'iced', 343: 'pepper', 344: 'wheat', 345: 'son', 346: 'store', 347: 'diet', 348: 'almost', 349: 'other', 350: 'why', 351: 'soft', 352: 'nut', 353: 'delivery', 354: 'were', 355: 'cherry', 356: 'heaven', 357: 'after', 358: 'yet', 359: 'lover', 360: 'every', 361: 'quite', 362: 'less', 363: 'back', 364: 'morning', 365: 'outstanding', 366: 'always', 367: 'down', 368: 'red', 369: 'stars', 370: 'chili', 371: 'idea', 372: 'exactly', 373: 'delish', 374: 'lemon', 375: 'here', 376: 'same', 377: 'where', 378: 'hit', 379: 'life', 380: 'surprisingly', 381: 'fat', 382: 'how', 383: 'sour', 384: 'regular', 385: 'tried', 386: 'canned', 387: 'espresso', 388: 'when', 389: 'calorie', 390: 'cheap', 391: 'brown', 392: 'filling', 393: 'calories', 394: 'china', 395: 'box', 396: 'starbucks', 397: 'corn', 398: 'carb', 399: 'crazy', 400: 'arrived', 401: 'potato', 402: 'mountain', 403: 'mild', 404: 'maple', 405: 'crunch', 406: 'cinnamon', 407: 'smells', 408: 'bought', 409: 'highly', 410: 'grey', 411: 'cake', 412: 'gross', 413: 'need', 414: 'satisfying', 415: 'original', 416: 'eating', 417: 'gummi', 418: 'please', 419: 'smell', 420: 'nasty', 421: 'cooking', 422: 'option', 423: 'broken', 424: 'many', 425: 'orange', 426: 'bags', 427: 'pork', 428: 'something', 429: 'disgusting', 430: 'oz', 431: 'terrific', 432: 'advertised', 433: 'two', 434: 'last', 435: 'own', 436: 'chewy', 437: 'mustard', 438: 'sure', 439: 'liked', 440: 'baking', 441: 'delight', 442: 'dented', 443: 'chew', 444: 'nutritious', 445: 'think', 446: 'raw', 447: 'earl', 448: 'satisfied', 449: 'yes', 450: 'doggie', 451: 'addicted', 452: 'simple', 453: 'should', 454: 'apple', 455: 'miracle', 456: 'cracker', 457: 'wish', 458: 'say', 459: 'lot', 460: 'everything', 461: 'formula', 462: 'blue', 463: 'mint', 464: 'popchips', 465: 'kitty', 466: 'package', 467: 'priced', 468: 'average', 469: 'lots', 470: 'dental', 471: 'misleading', 472: 'who', 473: 'gummy', 474: 'cream', 475: 'ice', 476: 'health', 477: 'bbq', 478: 'available', 479: 'husband', 480: 'any', 481: 'mini', 482: 'homemade', 483: 'flour', 484: 'artificial', 485: 'things', 486: 'earth', 487: 'delightful', 488: 'greatest', 489: 'gourmet', 490: 'fiber', 491: 'weight', 492: 'company', 493: 'pie', 494: 'impressed', 495: 'aftertaste', 496: 'fan', 497: 'pizza', 498: 'newman', 499: 'brew', 500: 'addicting', 501: 'teeth', 502: 'dressing', 503: 'date', 504: 'beautiful', 505: 'banana', 506: 'wanted', 507: 'looking', 508: 'ordered', 509: 'cute', 510: 'pancakes', 511: 'lunch', 512: 'biscuits', 513: 'stevia', 514: 'meh', 515: 'products', 516: 'brownies', 517: 'noodle', 518: 'thank', 519: 'lovely', 520: 'daughter', 521: 'thought', 522: 'aroma', 523: 'almond', 524: 'soy', 525: 'salad', 526: 'italian', 527: 'want', 528: 'description', 529: 'change', 530: 'rip', 531: 'wild', 532: 'teas', 533: 'peanuts', 534: 'save', 535: 'give', 536: 'large', 537: 'clean', 538: 'live', 539: 'needs', 540: 'non', 541: 'top', 542: 'nom', 543: 'switch', 544: 'says', 545: 'tree', 546: 'stomach', 547: 'star', 548: 'plastic', 549: 'grain', 550: 'rocks', 551: 'extra', 552: 'fish', 553: 'actually', 554: 'bran', 555: 'year', 556: 'sticks', 557: 'bay', 558: 'english', 559: 'favorites', 560: 'classic', 561: 'cost', 562: 'haribo', 563: 'keeps', 564: 'contains', 565: 'ounce', 566: 'thin', 567: 'us', 568: 'truly', 569: 'san', 570: 'acid', 571: 'darn', 572: 'crack', 573: 'expiration', 574: 'superb', 575: 'creamy', 576: 'hazelnut', 577: 'salmon', 578: 'surprise', 579: 'those', 580: 'received', 581: 'staple', 582: 'goes', 583: 'bean', 584: 'lipton', 585: 'pb', 586: 'strawberry', 587: 'pleasant', 588: 'away', 589: 'versatile', 590: 'wine', 591: 'their', 592: 'hair', 593: 'weird', 594: 'warning', 595: 'winner', 596: 'totally', 597: 'vegan', 598: 'pet', 599: 'dinner', 600: 'plain', 601: 'rinds', 602: 'kid', 603: 'pods', 604: 'bite', 605: 'problems', 606: 'chocolates', 607: 'interesting', 608: 'though', 609: 'berry', 610: 'cold', 611: 'sea', 612: 'been', 613: 'cheesy', 614: 'omg', 615: 'magic', 616: 'bones', 617: 'changed', 618: 'half', 619: 'gone', 620: 'thanks', 621: 'kit', 622: 'nutrition', 623: 'melted', 624: 'unique', 625: 'roasted', 626: 'maybe', 627: 'close', 628: 'add', 629: 'extract', 630: 'medium', 631: 'bacon', 632: 'beer', 633: 'everyone', 634: 'crispy', 635: 'help', 636: 'start', 637: 'disappointment', 638: 'kick', 639: 'raspberry', 640: 'brownie', 641: 'agave', 642: 'surprised', 643: 'convenience', 644: 'keep', 645: 'hate', 646: 'tart', 647: 'worked', 648: 'baked', 649: 'francisco', 650: 'true', 651: 'msg', 652: 'foods', 653: 'read', 654: 'allergies', 655: 'recipe', 656: 'kona', 657: 'extremely', 658: 'plus', 659: 'damaged', 660: 'glad', 661: 'stash', 662: 'loose', 663: 'summer', 664: 'rock', 665: 'curry', 666: 'bottle', 667: 'addition', 668: 'toddler', 669: 'jelly', 670: 'years', 671: 'plant', 672: 'mom', 673: 'fruity', 674: 'beverage', 675: 'sick', 676: 'ingredient', 677: 'vinegar', 678: 'perfectly', 679: 'seems', 680: 'gold', 681: 'meat', 682: 'people', 683: 'she', 684: 'vegetarian', 685: 'replacement', 686: 'definitely', 687: 'huge', 688: 'buyer', 689: 'mouth', 690: 'bargain', 691: 'wife', 692: 'sensitive', 693: 'busy', 694: 'caramel', 695: 'stores', 696: 'packs', 697: 'making', 698: 'hour', 699: 'mango', 700: 'reviews', 701: 'machine', 702: 'paws', 703: 'needed', 704: 'everyday', 705: 'movie', 706: 'edible', 707: 'strange', 708: 'name', 709: 'know', 710: 'anything', 711: 'handy', 712: 'hands', 713: 'sweetener', 714: 'experience', 715: 'microwave', 716: 'dessert', 717: 'tomato', 718: 'rub', 719: 'expired', 720: 'cool', 721: 'shampoo', 722: 'looks', 723: 'tully', 724: 'allergy', 725: 'version', 726: 'problem', 727: 'packaged', 728: 'pretzels', 729: 'grass', 730: 'dont', 731: 'helps', 732: 'guilt', 733: 'friendly', 734: 'healthier', 735: 'sodium', 736: 'nutty', 737: 'muffins', 738: 'saver', 739: 'premium', 740: 'enjoyed', 741: 'ground', 742: 'recommend', 743: 'cashews', 744: 'finicky', 745: 'peach', 746: 'described', 747: 'slightly', 748: 'mixed', 749: 'look', 750: 'leaf', 751: 'basket', 752: 'smaller', 753: 'crystal', 754: 'cherries', 755: 'paste', 756: 'take', 757: 'boost', 758: 'zico', 759: 'buying', 760: 'side', 761: 'seller', 762: 'tangy', 763: 'dr', 764: 'tasteless', 765: 'else', 766: 'remember', 767: 'lime', 768: 'garlic', 769: 'liquid', 770: 'superior', 771: 'style', 772: 'source', 773: 'effective', 774: 'gravy', 775: 'added', 776: 'solid', 777: 'daily', 778: 'boxes', 779: 'kitchen', 780: 'short', 781: 'mess', 782: 'affordable', 783: 'quaker', 784: 'pick', 785: 'instead', 786: 'heat', 787: 'mints', 788: 'messy', 789: 'before', 790: 'incredible', 791: 'fog', 792: 'enjoy', 793: 'heavenly', 794: 'tuna', 795: 'others', 796: 'bisquick', 797: 'babies', 798: 'care', 799: 'approved', 800: 'jam', 801: 'bonsai', 802: 'pill', 803: 'pictured', 804: 'mediocre', 805: 'wonderfully', 806: 'pup', 807: 'ramen', 808: 'lab', 809: 'nectar', 810: 'ones', 811: 'country', 812: 'raisins', 813: 'eater', 814: 'taco', 815: 'brands', 816: 'pieces', 817: 'quickly', 818: 'then', 819: 'coco', 820: 'smart', 821: 'batch', 822: 'friend', 823: 'balance', 824: 'second', 825: 'gets', 826: 'gummies', 827: 'senseo', 828: 'reasonable', 829: 'sardines', 830: 'shipped', 831: 'kashi', 832: 'bulk', 833: 'feel', 834: 'odd', 835: 'authentic', 836: 'believe', 837: 'may', 838: 'thai', 839: 'hips', 840: 'absolute', 841: 'job', 842: 'liver', 843: 'joe', 844: 'tummy', 845: 'touch', 846: 'picture', 847: 'month', 848: 'watch', 849: 'candies', 850: 'pancake', 851: 'party', 852: 'stop', 853: 'man', 854: 'false', 855: 'advertising', 856: 'breath', 857: 'pamela', 858: 'kitties', 859: 'twinings', 860: 'chewers', 861: 'nature', 862: 'grains', 863: 'pecan', 864: 'berries', 865: 'herbal', 866: 'bone', 867: 'caribou', 868: 'cafe', 869: 'tough', 870: 'thick', 871: 'mac', 872: 'amazingly', 873: 'eh', 874: 'seed', 875: 'fix', 876: 'leaves', 877: 'coffe', 878: 'golden', 879: 'addiction', 880: 'robust', 881: 'durable', 882: 'shake', 883: 'umm', 884: 'watery', 885: 'sooo', 886: 'waffles', 887: 'theater', 888: 'prefer', 889: 'powdered', 890: 'pudding', 891: 'rawhide', 892: 'hooked', 893: 'thumbs', 894: 'gave', 895: 'sesame', 896: 'blueberry', 897: 'both', 898: 'expectations', 899: 'secret', 900: 'crisp', 901: 'puck', 902: 'pricing', 903: 'yogi', 904: 'lamb', 905: 'planet', 906: 'sticky', 907: 'fair', 908: 'jack', 909: 'grade', 910: 'cet', 911: 'spices', 912: 'standard', 913: 'zero', 914: 'eats', 915: 'few', 916: 'raisin', 917: 'perfection', 918: 'com', 919: 'bugs', 920: 'caffeine', 921: 'color', 922: 'scrumptious', 923: 'come', 924: 'drinks', 925: 'count', 926: 'toffee', 927: 'cal', 928: 'tips', 929: 'usa', 930: 'cacao', 931: 'dish', 932: 'three', 933: 'bites', 934: 'gas', 935: 'gotta', 936: 'soooo', 937: 'pomegranate', 938: 'doggies', 939: 'yogurt', 940: 'northern', 941: 'such', 942: 'tiny', 943: 'sent', 944: 'bottles', 945: 'cook', 946: 'cheez', 947: 'five', 948: 'prunes', 949: 'being', 950: 'safe', 951: 'latte', 952: 'delicous', 953: 'days', 954: 'doggy', 955: 'somewhat', 956: 'difference', 957: 'shipment', 958: 'pg', 959: 'control', 960: 'dangerous', 961: 'steak', 962: 'storage', 963: 'chaser', 964: 'hibiscus', 965: 'dream', 966: 'cardboard', 967: 'pantry', 968: 'dissapointed', 969: 'office', 970: 'indeed', 971: 'mill', 972: 'stay', 973: 'flavoring', 974: 'soothing', 975: 'turkey', 976: 'wellness', 977: 'design', 978: 'pockets', 979: 'pops', 980: 'vita', 981: 'check', 982: 'going', 983: 'enjoyable', 984: 'double', 985: 'purpose', 986: 'matcha', 987: 'slow', 988: 'wholesome', 989: 'local', 990: 'wolfgang', 991: 'night', 992: 'pleasantly', 993: 'fake', 994: 'solution', 995: 'serious', 996: 'overly', 997: 'hoped', 998: 'went', 999: 'cheddar', 1000: 'broccoli', 1001: 'lasting', 1002: 'power', 1003: 'tender', 1004: 'chef', 1005: 'missing', 1006: 'completely', 1007: 'balanced', 1008: 'miss', 1009: 'egg', 1010: 'awsome', 1011: 'truffle', 1012: 'packing', 1013: 'while', 1014: 'dairy', 1015: 'illy', 1016: 'open', 1017: 'older', 1018: 'trail', 1019: 'catnip', 1020: 'maker', 1021: 'he', 1022: 'seriously', 1023: 'grocery', 1024: 'alright', 1025: 'veggie', 1026: 'american', 1027: 'bpa', 1028: 'nutritional', 1029: 'rancid', 1030: 'donut', 1031: 'selection', 1032: 'salsa', 1033: 'anytime', 1034: 'assortment', 1035: 'complete', 1036: 'zuke', 1037: 'starter', 1038: 'skin', 1039: 'bigelow', 1040: 'kiwi', 1041: 'minty', 1042: 'prepare', 1043: 'basic', 1044: 'adults', 1045: 'apples', 1046: 'yuk', 1047: 'tastey', 1048: 'altoids', 1049: 'cuppa', 1050: 'puppies', 1051: 'balsamic', 1052: 'coffees', 1053: 'yay', 1054: 'moist', 1055: 'kcups', 1056: 'anywhere', 1057: 'easier', 1058: 'disposakups', 1059: 'tassimo', 1060: 'grape', 1061: 'issues', 1062: 'amount', 1063: 'childhood', 1064: 'memories', 1065: 'warm', 1066: 'bob', 1067: 'increase', 1068: 'into', 1069: 'call', 1070: 'beat', 1071: 'covered', 1072: 'except', 1073: 'combination', 1074: 'crust', 1075: 'stick', 1076: 'aid', 1077: 'chia', 1078: 'getting', 1079: 'creme', 1080: 'hershey', 1081: 'delivered', 1082: 'ketchup', 1083: 'combo', 1084: 'done', 1085: 'container', 1086: 'exceptional', 1087: 'medicine', 1088: 'crumbs', 1089: 'none', 1090: 'serving', 1091: 'christmas', 1092: 'snacking', 1093: 'birthday', 1094: 'folgers', 1095: 'fudge', 1096: 'truffles', 1097: 'agree', 1098: 'spot', 1099: 'de', 1100: 'prices', 1101: 'tortilla', 1102: 'crisps', 1103: 'drinker', 1104: 'vs', 1105: 'easily', 1106: 'dieters', 1107: 'royal', 1108: 'expect', 1109: 'valley', 1110: 'ate', 1111: 'brewer', 1112: 'single', 1113: 'naturals', 1114: 'ridiculous', 1115: 'pink', 1116: 'her', 1117: 'period', 1118: 'gives', 1119: 'german', 1120: 'maxwell', 1121: 'goat', 1122: 'taffy', 1123: 'kcup', 1124: 'hated', 1125: 'sorry', 1126: 'lucky', 1127: 'put', 1128: 'condition', 1129: 'flowers', 1130: 'through', 1131: 'yeah', 1132: 'kinda', 1133: 'elsewhere', 1134: 'spoiled', 1135: 'sf', 1136: 'hmm', 1137: 'soups', 1138: 'olives', 1139: 'deliciousness', 1140: 'punch', 1141: 'pay', 1142: 'smoked', 1143: 'loving', 1144: 'his', 1145: 'beyond', 1146: 'longer', 1147: 'caviar', 1148: 'moldy', 1149: 'strips', 1150: 'ears', 1151: 'months', 1152: 'decadent', 1153: 'sized', 1154: 'once', 1155: 'la', 1156: 'wake', 1157: 'mocha', 1158: 'sampler', 1159: 'tomatoes', 1160: 'hint', 1161: 'belgian', 1162: 'cashew', 1163: 'consistency', 1164: 'bowl', 1165: 'also', 1166: 'puffs', 1167: 'god', 1168: 'rose', 1169: 'heavy', 1170: 'packages', 1171: 'clear', 1172: 'peppermint', 1173: 'carbonated', 1174: 'creamer', 1175: 'bring', 1176: 'nantucket', 1177: 'pleasure', 1178: 'fav', 1179: 'relaxing', 1180: 'oily', 1181: 'kettle', 1182: 'yucky', 1183: 'travel', 1184: 'deliciously', 1185: 'acidic', 1186: 'word', 1187: 'ham', 1188: 'oats', 1189: 'holiday', 1190: 'paris', 1191: 'dogswell', 1192: 'bomb', 1193: 'yummo', 1194: 'costco', 1195: 'mostly', 1196: 'per', 1197: 'chipotle', 1198: 'forever', 1199: 'toddlers', 1200: 'careful', 1201: 'marinade', 1202: 'throat', 1203: 'onion', 1204: 'drinking', 1205: 'hates', 1206: 'online', 1207: 'fave', 1208: 'stinky', 1209: 'improved', 1210: 'broth', 1211: 'curls', 1212: 'using', 1213: 'shot', 1214: 'larabar', 1215: 'diabetic', 1216: 'kraft', 1217: 'die', 1218: 'lb', 1219: 'packed', 1220: 'potatoes', 1221: 'rate', 1222: 'test', 1223: 'list', 1224: 'fit', 1225: 'shop', 1226: 'mrs', 1227: 'hand', 1228: 'caution', 1229: 'anyone', 1230: 'past', 1231: 'deceptive', 1232: 'jug', 1233: 'said', 1234: 'peas', 1235: 'sprouts', 1236: 'powerful', 1237: 'hubby', 1238: 'spiced', 1239: 'base', 1240: 'gums', 1241: 'comes', 1242: 'ball', 1243: 'eaters', 1244: 'probably', 1245: 'greasy', 1246: 'gingerbread', 1247: 'heart', 1248: 'buddy', 1249: 'wait', 1250: 'case', 1251: 'davidson', 1252: 'farms', 1253: 'waffle', 1254: 'bother', 1255: 'relief', 1256: 'walnuts', 1257: 'bits', 1258: 'sucralose', 1259: 'portion', 1260: 'four', 1261: 'mother', 1262: 'came', 1263: 'uses', 1264: 'rather', 1265: 'ordering', 1266: 'rainforest', 1267: 'everlasting', 1268: 'unhappy', 1269: 'allergic', 1270: 'least', 1271: 'run', 1272: 'incredibly', 1273: 'subtle', 1274: 'seasonings', 1275: 'excellant', 1276: 'bigger', 1277: 'sunflower', 1278: 'bake', 1279: 'outrageous', 1280: 'might', 1281: 'tell', 1282: 'unbelievably', 1283: 'ghee', 1284: 'anymore', 1285: 'label', 1286: 'lemonade', 1287: 'peppers', 1288: 'naturally', 1289: 'aromatic', 1290: 'spaghetti', 1291: 'hawaiian', 1292: 'winter', 1293: 'barley', 1294: 'fragrant', 1295: 'hits', 1296: 'worse', 1297: 'bodied', 1298: 'body', 1299: 'yuban', 1300: 'blueberries', 1301: 'rest', 1302: 'shelf', 1303: 'girl', 1304: 'smoky', 1305: 'vegetable', 1306: 'roll', 1307: 'boy', 1308: 'adds', 1309: 'pot', 1310: 'subscribe', 1311: 'fancy', 1312: 'chemical', 1313: 'typical', 1314: 'veggies', 1315: 'nd', 1316: 'cappuccino', 1317: 'leave', 1318: 'line', 1319: 'cut', 1320: 'child', 1321: 'usual', 1322: 'jasmine', 1323: 'supplement', 1324: 'kidding', 1325: 'ugh', 1326: 'helped', 1327: 'um', 1328: 'sparkling', 1329: 'zukes', 1330: 'licious', 1331: 'drops', 1332: 'torani', 1333: 'comfort', 1334: 'grow', 1335: 'concentrate', 1336: 'pups', 1337: 'java', 1338: 'lower', 1339: 'savings', 1340: 'himalayan', 1341: 'pod', 1342: 'dead', 1343: 'unusual', 1344: 'sugary', 1345: 'minutes', 1346: 'wafers', 1347: 'results', 1348: 'purchased', 1349: 'root', 1350: 'freeze', 1351: 'larabars', 1352: 'pricy', 1353: 'part', 1354: 'king', 1355: 'eaten', 1356: 'inconsistent', 1357: 'spread', 1358: 'molasses', 1359: 'plants', 1360: 'snaps', 1361: 'fear', 1362: 'yellow', 1363: 'spicey', 1364: 'grits', 1365: 'sausage', 1366: 'drop', 1367: 'ready', 1368: 'hamburger', 1369: 'helper', 1370: 'jar', 1371: 'essential', 1372: 'mate', 1373: 'indian', 1374: 'addict', 1375: 'crushed', 1376: 'pineapple', 1377: 'tin', 1378: 'kibble', 1379: 'macadamia', 1380: 'since', 1381: 'concept', 1382: 'diamond', 1383: 'flat', 1384: 'bell', 1385: 'jalapeno', 1386: 'break', 1387: 'happened', 1388: 'vendor', 1389: 'lacks', 1390: 'sweetner', 1391: 'savory', 1392: 'bear', 1393: 'diabetics', 1394: 'lentils', 1395: 'garbage', 1396: 'turkish', 1397: 'lindt', 1398: 'kefir', 1399: 'quantity', 1400: 'fall', 1401: 'belly', 1402: 'smokey', 1403: 'wet', 1404: 'fairly', 1405: 'flakes', 1406: 'aluminum', 1407: 'upset', 1408: 'six', 1409: 'ridiculously', 1410: 'pleaser', 1411: 'van', 1412: 'chocolatey', 1413: 'gods', 1414: 'empty', 1415: 'seem', 1416: 'smoothies', 1417: 'mayo', 1418: 'benefits', 1419: 'rolls', 1420: 'incorrect', 1421: 'tug', 1422: 'watermelon', 1423: 'clock', 1424: 'twist', 1425: 'meals', 1426: 'sooooo', 1427: 'feast', 1428: 'acquired', 1429: 'next', 1430: 'supermarket', 1431: 'buffalo', 1432: 'lavender', 1433: 'citrus', 1434: 'cocktail', 1435: 'wonder', 1436: 'items', 1437: 'oregon', 1438: 'syrups', 1439: 'diets', 1440: 'difficult', 1441: 'vitamin', 1442: 'choc', 1443: 'funny', 1444: 'yourself', 1445: 'burnt', 1446: 'movies', 1447: 'content', 1448: 'scent', 1449: 'lowrey', 1450: 'broke', 1451: 'habanero', 1452: 'flavorless', 1453: 'freshness', 1454: 'junk', 1455: 'walmart', 1456: 'fries', 1457: 'mistake', 1458: 'rating', 1459: 'irish', 1460: 'unpleasant', 1461: 'information', 1462: 'biscuit', 1463: 'portable', 1464: 'options', 1465: 'lasts', 1466: 'reason', 1467: 'smokehouse', 1468: 'booty', 1469: 'sweetened', 1470: 'let', 1471: 'buds', 1472: 'amish', 1473: 'filter', 1474: 'acceptable', 1475: 'school', 1476: 'inexpensive', 1477: 'mr', 1478: 'meow', 1479: 'holy', 1480: 'gevalia', 1481: 'club', 1482: 'sandwich', 1483: 'peppercorns', 1484: 'melts', 1485: 'pets', 1486: 'mushrooms', 1487: 'animal', 1488: 'ms', 1489: 'cranberry', 1490: 'multi', 1491: 'lean', 1492: 'sweetness', 1493: 'stopped', 1494: 'tast', 1495: 'overpowering', 1496: 'ship', 1497: 'jars', 1498: 'dates', 1499: 'salted', 1500: 'cow', 1501: 'cheerios', 1502: 'cakes', 1503: 'spearmint', 1504: 'flax', 1505: 'lbs', 1506: 'larger', 1507: 'dad', 1508: 'checkups', 1509: 'support', 1510: 'toast', 1511: 'timothy', 1512: 'blech', 1513: 'lucy', 1514: 'inedible', 1515: 'knew', 1516: 'tooth', 1517: 'lady', 1518: 'damn', 1519: 'pound', 1520: 'greenie', 1521: 'supply', 1522: 'shells', 1523: 'kellogg', 1524: 'fried', 1525: 'unbelievable', 1526: 'packets', 1527: 'xylitol', 1528: 'favor', 1529: 'angel', 1530: 'adult', 1531: 'alert', 1532: 'fishy', 1533: 'see', 1534: 'finest', 1535: 'beats', 1536: 'soo', 1537: 'dipping', 1538: 'pistachio', 1539: 'avoid', 1540: 'sam', 1541: 'remembered', 1542: 'greek', 1543: 'entertaining', 1544: 'disposable', 1545: 'bed', 1546: 'fizzy', 1547: 'canidae', 1548: 'recipes', 1549: 'houtte', 1550: 'info', 1551: 'key', 1552: 'saffron', 1553: 'teenie', 1554: 'contain', 1555: 'easiest', 1556: 'carbs', 1557: 'deep', 1558: 'college', 1559: 'delicate', 1560: 'lite', 1561: 'digestive', 1562: 'lavazza', 1563: 'stock', 1564: 'sometimes', 1565: 'yorkie', 1566: 'lacking', 1567: 'wasabi', 1568: 'reliable', 1569: 'receive', 1570: 'children', 1571: 'feed', 1572: 'woof', 1573: 'hearty', 1574: 'place', 1575: 'healthiest', 1576: 'locally', 1577: 'excelent', 1578: 'ranch', 1579: 'air', 1580: 'bait', 1581: 'graham', 1582: 'total', 1583: 'basmati', 1584: 'economical', 1585: 'kong', 1586: 'select', 1587: 'cant', 1588: 're', 1589: 'sold', 1590: 'barely', 1591: 'personal', 1592: 'emerald', 1593: 'thins', 1594: 'train', 1595: 'sprouting', 1596: 'macaroni', 1597: 'defective', 1598: 'promised', 1599: 'mushy', 1600: 'conditioner', 1601: 'clam', 1602: 'chowder', 1603: 'jiffy', 1604: 'pleasing', 1605: 'mellow', 1606: 'helpful', 1607: 'however', 1608: 'pear', 1609: 'spanish', 1610: 'glazed', 1611: 'lish', 1612: 'bliss', 1613: 'buck', 1614: 'juicy', 1615: 'welcome', 1616: 'pace', 1617: 'sprout', 1618: 'someone', 1619: 'equal', 1620: 'deceiving', 1621: 'vet', 1622: 'especially', 1623: 'rubber', 1624: 'send', 1625: 'feeling', 1626: 'afternoon', 1627: 'pass', 1628: 'miso', 1629: 'ultimate', 1630: 'eggs', 1631: 'chihuahua', 1632: 'japanese', 1633: 'lost', 1634: 'smelly', 1635: 'hours', 1636: 'lifesavers', 1637: 'mighty', 1638: 'mixes', 1639: 'possibly', 1640: 'late', 1641: 'delectable', 1642: 'anti', 1643: 'working', 1644: 'disapointed', 1645: 'opinion', 1646: 'crap', 1647: 'because', 1648: 'hip', 1649: 'ages', 1650: 'steaks', 1651: 'kept', 1652: 'saved', 1653: 'chewing', 1654: 'action', 1655: 'chestnuts', 1656: 'grove', 1657: 'moms', 1658: 'shortbread', 1659: 'bitterness', 1660: 'dip', 1661: 'early', 1662: 'smoothie', 1663: 'questionable', 1664: 'buttery', 1665: 'complaints', 1666: 'spectacular', 1667: 'issue', 1668: 'times', 1669: 'giving', 1670: 'brewers', 1671: 'loss', 1672: 'seaweed', 1673: 'odor', 1674: 'lasted', 1675: 'emeril', 1676: 'lollipops', 1677: 'tad', 1678: 'issimo', 1679: 'muffin', 1680: 'present', 1681: 'similar', 1682: 'joy', 1683: 'set', 1684: 'ruined', 1685: 'weruva', 1686: 'gnats', 1687: 'stir', 1688: 'chinese', 1689: 'cereals', 1690: 'died', 1691: 'luv', 1692: 'heartburn', 1693: 'pouch', 1694: 'temptations', 1695: 'carry', 1696: 'st', 1697: 'consistently', 1698: 'thrilled', 1699: 'grown', 1700: 'return', 1701: 'chi', 1702: 'grows', 1703: 'tangerine', 1704: 'normal', 1705: 'sleep', 1706: 'delighted', 1707: 'bang', 1708: 'birds', 1709: 'kill', 1710: 'fooled', 1711: 'favourite', 1712: 'skinny', 1713: 'serve', 1714: 'pretzel', 1715: 'zoe', 1716: 'rooibos', 1717: 'move', 1718: 'rope', 1719: 'brilliant', 1720: 'apricot', 1721: 'restaurant', 1722: 'boys', 1723: 'jumbo', 1724: 'workout', 1725: 'sale', 1726: 'condiment', 1727: 'end', 1728: 'madhava', 1729: 'metromint', 1730: 'boring', 1731: 'don', 1732: 'tacos', 1733: 'splenda', 1734: 'capsules', 1735: 'adorable', 1736: 'crumbly', 1737: 'chewer', 1738: 'num', 1739: 'dough', 1740: 'photo', 1741: 'delightfully', 1742: 'craving', 1743: 'tofu', 1744: 'yummiest', 1745: 'decaffeinated', 1746: 'monster', 1747: 'offer', 1748: 'soul', 1749: 'pocket', 1750: 'jerkey', 1751: 'mi', 1752: 'hydration', 1753: 'nespresso', 1754: 'mallomars', 1755: 'pez', 1756: 'hextra', 1757: 'above', 1758: 'ripoff', 1759: 'community', 1760: 'pies', 1761: 'each', 1762: 'organics', 1763: 'door', 1764: 'sharp', 1765: 'tastiest', 1766: 'vomiting', 1767: 'timely', 1768: 'brittle', 1769: 'chunky', 1770: 'mama', 1771: 'leaking', 1772: 'filled', 1773: 'slices', 1774: 'cough', 1775: 'duck', 1776: 'omaha', 1777: 'pre', 1778: 'marzipan', 1779: 'shrimp', 1780: 'booster', 1781: 'gmo', 1782: 'tarts', 1783: 'expecting', 1784: 'guess', 1785: 'girls', 1786: 'gloria', 1787: 'pump', 1788: 'discs', 1789: 'fussy', 1790: 'stix', 1791: 'waiting', 1792: 'lousy', 1793: 'fortune', 1794: 'british', 1795: 'oolong', 1796: 'orzo', 1797: 'nearly', 1798: 'dust', 1799: 'canine', 1800: 'limited', 1801: 'tropical', 1802: 'pig', 1803: 'oreo', 1804: 'twice', 1805: 'refreshingly', 1806: 'hope', 1807: 'feeding', 1808: 'england', 1809: 'sealed', 1810: 'question', 1811: 'tray', 1812: 'feels', 1813: 'colors', 1814: 'preservatives', 1815: 'paul', 1816: 'mona', 1817: 'fry', 1818: 'shakes', 1819: 'brings', 1820: 'herb', 1821: 'strawberries', 1822: 'couscous', 1823: 'un', 1824: 'tool', 1825: 'listed', 1826: 'mexican', 1827: 'household', 1828: 'bloody', 1829: 'understand', 1830: 'grilled', 1831: 'soon', 1832: 'expresso', 1833: 'confused', 1834: 'fructose', 1835: 'annie', 1836: 'flavour', 1837: 'search', 1838: 'indoor', 1839: 'vegans', 1840: 'sushi', 1841: 'success', 1842: 'keebler', 1843: 'lid', 1844: 'excited', 1845: 'heinz', 1846: 'type', 1847: 'packet', 1848: 'southern', 1849: 'threw', 1850: 'mandarin', 1851: 'hygiene', 1852: 'useful', 1853: 'subscription', 1854: 'head', 1855: 'martini', 1856: 'indulgence', 1857: 'friends', 1858: 'pouches', 1859: 'dents', 1860: 'satisfies', 1861: 'grainy', 1862: 'malt', 1863: 'blah', 1864: 'plate', 1865: 'fly', 1866: 'lightly', 1867: 'prompt', 1868: 'sons', 1869: 'additive', 1870: 'mary', 1871: 'del', 1872: 'favors', 1873: 'th', 1874: 'called', 1875: 'square', 1876: 'game', 1877: 'paper', 1878: 'swiss', 1879: 'class', 1880: 'together', 1881: 'drawer', 1882: 'ghost', 1883: 'fizz', 1884: 'caps', 1885: 'pickle', 1886: 'mine', 1887: 'bubble', 1888: 'hoping', 1889: 'seconds', 1890: 'italy', 1891: 'strength', 1892: 'nicely', 1893: 'delivers', 1894: 'space', 1895: 'lifesaver', 1896: 'keeping', 1897: 'today', 1898: 'guilty', 1899: 'penny', 1900: 'topping', 1901: 'rules', 1902: 'met', 1903: 'sumatra', 1904: 'dingo', 1905: 'swedish', 1906: 'impossible', 1907: 'melitta', 1908: 'answer', 1909: 'grandma', 1910: 'eight', 1911: 'biscotti', 1912: 'sinfully', 1913: 'dolce', 1914: 'runny', 1915: 'doing', 1916: 'fig', 1917: 'ahmad', 1918: 'gifts', 1919: 'potent', 1920: 'slim', 1921: 'cubes', 1922: 'finishing', 1923: 'basically', 1924: 'drinkable', 1925: 'walnut', 1926: 'traveling', 1927: 'pooch', 1928: 'watchers', 1929: 'fans', 1930: 'usually', 1931: 'barbecue', 1932: 'cheapest', 1933: 'kernels', 1934: 'trader', 1935: 'poppy', 1936: 'stew', 1937: 'puzzle', 1938: 'lisa', 1939: 'relax', 1940: 'bouillon', 1941: 'planters', 1942: 'during', 1943: 'frozen', 1944: 'pro', 1945: 'rave', 1946: 'enjoying', 1947: 'links', 1948: 'enhancer', 1949: 'definately', 1950: 'nutiva', 1951: 'arrival', 1952: 'figs', 1953: 'road', 1954: 'barbeque', 1955: 'enchilada', 1956: 'applesauce', 1957: 'ounces', 1958: 'notch', 1959: 'worthy', 1960: 'senior', 1961: 'couple', 1962: 'sun', 1963: 'destroyed', 1964: 'pears', 1965: 'closest', 1966: 'valentine', 1967: 'chocolately', 1968: 'disaster', 1969: 'extraordinary', 1970: 'lift', 1971: 'celestial', 1972: 'ya', 1973: 'cure', 1974: 'crystals', 1975: 'switched', 1976: 'nylabone', 1977: 'blood', 1978: 'chemicals', 1979: 'blackberry', 1980: 'pills', 1981: 'kitten', 1982: 'cleaner', 1983: 'oat', 1984: 'hoo', 1985: 'mold', 1986: 'yeast', 1987: 'crowd', 1988: 'thirst', 1989: 'pain', 1990: 'island', 1991: 'presentation', 1992: 'grew', 1993: 'newmans', 1994: 'dill', 1995: 'diarrhea', 1996: 'killer', 1997: 'apparently', 1998: 'within', 1999: 'weeks', 2000: 'zing', 2001: 'tartar', 2002: 'cooked', 2003: 'blues', 2004: 'horribly', 2005: 'master', 2006: 'ew', 2007: 'tins', 2008: 'peggy', 2009: 'directions', 2010: 'spring', 2011: 'ring', 2012: 'cravings', 2013: 'bright', 2014: 'grind', 2015: 'lol', 2016: 'dirty', 2017: 'popping', 2018: 'stand', 2019: 'chamomile', 2020: 'kups', 2021: 'oral', 2022: 'direct', 2023: 'sample', 2024: 'liquor', 2025: 'attention', 2026: 'freezer', 2027: 'gatorade', 2028: 'inferior', 2029: 'gritty', 2030: 'certified', 2031: 'ick', 2032: 'paprika', 2033: 'velveeta', 2034: 'supposed', 2035: 'colman', 2036: 'hidden', 2037: 'ease', 2038: 'peppery', 2039: 'ride', 2040: 'cupcakes', 2041: 'jean', 2042: 'dandruff', 2043: 'win', 2044: 'fragrance', 2045: 'marvelous', 2046: 'season', 2047: 'wintergreen', 2048: 'teriyaki', 2049: 'baker', 2050: 'zevia', 2051: 'aweful', 2052: 'essence', 2053: 'evening', 2054: 'owner', 2055: 'garden', 2056: 'compare', 2057: 'coombs', 2058: 'puroast', 2059: 'loaded', 2060: 'ways', 2061: 'crumbles', 2062: 'solo', 2063: 'twizzlers', 2064: 'individual', 2065: 'soap', 2066: 'charm', 2067: 'actual', 2068: 'california', 2069: 'toasted', 2070: 'sliced', 2071: 'poorly', 2072: 'shih', 2073: 'cone', 2074: 'preserves', 2075: 'trans', 2076: 'columbian', 2077: 'either', 2078: 'plump', 2079: 'dispenser', 2080: 'horse', 2081: 'stomachs', 2082: 'breed', 2083: 'poodle', 2084: 'goya', 2085: 'gelatin', 2086: 'nutella', 2087: 'major', 2088: 'hide', 2089: 'healthful', 2090: 'harsh', 2091: 'sad', 2092: 'gorgeous', 2093: 'lasagna', 2094: 'opened', 2095: 'bedtime', 2096: 'portions', 2097: 'chow', 2098: 'throw', 2099: 'compared', 2100: 'opening', 2101: 'discovery', 2102: 'roses', 2103: 'rated', 2104: 'extreme', 2105: 'satisfaction', 2106: 'system', 2107: 'production', 2108: 'repeat', 2109: 'melt', 2110: 'goji', 2111: 'snob', 2112: 'relatively', 2113: 'human', 2114: 'munch', 2115: 'reasonably', 2116: 'harvest', 2117: 'highest', 2118: 'dinosaur', 2119: 'takes', 2120: 'hike', 2121: 'badly', 2122: 'rescue', 2123: 'choco', 2124: 'stronger', 2125: 'tulsi', 2126: 'supreme', 2127: 'onions', 2128: 'fab', 2129: 'near', 2130: 'cranberries', 2131: 'desert', 2132: 'sucks', 2133: 'frosting', 2134: 'lids', 2135: 'already', 2136: 'jamaica', 2137: 'nescafe', 2138: 'yr', 2139: 'turn', 2140: 'trap', 2141: 'maltese', 2142: 'jello', 2143: 'costs', 2144: 'mug', 2145: 'pirate', 2146: 'wedding', 2147: 'wonders', 2148: 'chocolaty', 2149: 'neat', 2150: 'dishes', 2151: 'impressive', 2152: 'ass', 2153: 'assam', 2154: 'primal', 2155: 'divine', 2156: 'phenomenal', 2157: 'city', 2158: 'missed', 2159: 'apart', 2160: 'sauces', 2161: 'buster', 2162: 'giant', 2163: 'citric', 2164: 'hype', 2165: 'supplier', 2166: 'assorted', 2167: 'effect', 2168: 'constipation', 2169: 'paw', 2170: 'causes', 2171: 'exotic', 2172: 'cuisine', 2173: 'preferred', 2174: 'vermont', 2175: 'im', 2176: 'cane', 2177: 'town', 2178: 'shirataki', 2179: 'lose', 2180: 'panda', 2181: 'improvement', 2182: 'reduced', 2183: 'auto', 2184: 'ambrosia', 2185: 'carefully', 2186: 'farm', 2187: 'nope', 2188: 'pearl', 2189: 'digestion', 2190: 'sinus', 2191: 'silky', 2192: 'worthless', 2193: 'cheetos', 2194: 'dash', 2195: 'jolly', 2196: 'drinkers', 2197: 'pounds', 2198: 'munchies', 2199: 'dated', 2200: 'chopped', 2201: 'traditional', 2202: 'texas', 2203: 'cooks', 2204: 'kat', 2205: 'matter', 2206: 'firm', 2207: 'loa', 2208: 'topper', 2209: 'bare', 2210: 'correct', 2211: 'washed', 2212: 'paleo', 2213: 'ordinary', 2214: 'west', 2215: 'rasberry', 2216: 'harney', 2217: 'virgin', 2218: 'revolution', 2219: 'superfood', 2220: 'runs', 2221: 'guys', 2222: 'trust', 2223: 'lentil', 2224: 'lack', 2225: 'delicioso', 2226: 'quinoa', 2227: 'plenty', 2228: 'coating', 2229: 'saeco', 2230: 'forget', 2231: 'hell', 2232: 'pecans', 2233: 'rare', 2234: 'nummy', 2235: 'lives', 2236: 'coming', 2237: 'gingery', 2238: 'twin', 2239: 'etc', 2240: 'interested', 2241: 'filters', 2242: 'skip', 2243: 'unsalted', 2244: 'trick', 2245: 'unsweetened', 2246: 'cajun', 2247: 'between', 2248: 'breaks', 2249: 'obsessed', 2250: 'pickled', 2251: 'beagle', 2252: 'definite', 2253: 'servings', 2254: 'breathe', 2255: 'starts', 2256: 'collection', 2257: 'saves', 2258: 'sadly', 2259: 'tzu', 2260: 'happybellies', 2261: 'snow', 2262: 'accurate', 2263: 'manhattan', 2264: 'michael', 2265: 'sirloin', 2266: 'slice', 2267: 'cracked', 2268: 'overwhelming', 2269: 'poison', 2270: 'tip', 2271: 'peaches', 2272: 'thinks', 2273: 'carrots', 2274: 'straight', 2275: 'bowls', 2276: 'aspartame', 2277: 'funbites', 2278: 'rotten', 2279: 'iams', 2280: 'stuffed', 2281: 'machines', 2282: 'glass', 2283: 'compares', 2284: 'trouble', 2285: 'weather', 2286: 'eye', 2287: 'exquisite', 2288: 'puffed', 2289: 'note', 2290: 'pom', 2291: 'shepherd', 2292: 'jittery', 2293: 'points', 2294: 'suprisingly', 2295: 'costa', 2296: 'entree', 2297: 'decadence', 2298: 'palm', 2299: 'didnt', 2300: 'waxy', 2301: 'cha', 2302: 'processed', 2303: 'bye', 2304: 'bet', 2305: 'mangosteen', 2306: 'entirely', 2307: 'sensation', 2308: 'japan', 2309: 'guy', 2310: 'tootsie', 2311: 'petrodex', 2312: 'soooooo', 2313: 'bagels', 2314: 'kittens', 2315: 'wierd', 2316: 'yoo', 2317: 'basil', 2318: 'vomit', 2319: 'stains', 2320: 'gusto', 2321: 'grapefruit', 2322: 'cardamom', 2323: 'hey', 2324: 'decafe', 2325: 'spam', 2326: 'hemp', 2327: 'pepperoni', 2328: 'jump', 2329: 'ole', 2330: 'camping', 2331: 'silver', 2332: 'users', 2333: 'smashed', 2334: 'coat', 2335: 'caramels', 2336: 'bagged', 2337: 'bleh', 2338: 'lo', 2339: 'effects', 2340: 'adore', 2341: 'sweets', 2342: 'surprising', 2343: 'crave', 2344: 'knorr', 2345: 'ear', 2346: 'whoa', 2347: 'point', 2348: 'pectin', 2349: 'halloween', 2350: 'consumer', 2351: 'shame', 2352: 'reward', 2353: 'poo', 2354: 'everytime', 2355: 'tops', 2356: 'goodies', 2357: 'shower', 2358: 'pistachios', 2359: 'burned', 2360: 'killed', 2361: 'iffy', 2362: 'tic', 2363: 'slimy', 2364: 'amazed', 2365: 'evoo', 2366: 'bergamot', 2367: 'mommy', 2368: 'bird', 2369: 'perhaps', 2370: 'kicking', 2371: 'oreos', 2372: 'changing', 2373: 'caffeinated', 2374: 'caused', 2375: 'india', 2376: 'leather', 2377: 'dieting', 2378: 'tested', 2379: 'ella', 2380: 'ii', 2381: 'doh', 2382: 'ravioli', 2383: 'ol', 2384: 'oils', 2385: 'candied', 2386: 'decaffinated', 2387: 'until', 2388: 'petite', 2389: 'finger', 2390: 'holder', 2391: 'under', 2392: 'seal', 2393: 'bucks', 2394: 'plan', 2395: 'glutino', 2396: 'round', 2397: 'clams', 2398: 'left', 2399: 'honest', 2400: 'lemons', 2401: 'smelled', 2402: 'transaction', 2403: 'yummie', 2404: 'overall', 2405: 'rishi', 2406: 'anchovies', 2407: 'form', 2408: 'shape', 2409: 'jacks', 2410: 'mind', 2411: 'danger', 2412: 'olds', 2413: 'containers', 2414: 'sort', 2415: 'crappy', 2416: 'several', 2417: 'kosher', 2418: 'london', 2419: 'donuts', 2420: 'maruchan', 2421: 'risotto', 2422: 'river', 2423: 'pumkin', 2424: 'rule', 2425: 'gfcf', 2426: 'sprouter', 2427: 'carrot', 2428: 'vegetables', 2429: 'scam', 2430: 'gustaf', 2431: 'aware', 2432: 'protien', 2433: 'seen', 2434: 'chex', 2435: 'coca', 2436: 'mask', 2437: 'peachy', 2438: 'puff', 2439: 'marshmallows', 2440: 'rings', 2441: 'considering', 2442: 'mildly', 2443: 'plocky', 2444: 'handling', 2445: 'mochas', 2446: 'bull', 2447: 'news', 2448: 'ripped', 2449: 'comparison', 2450: 'facts', 2451: 'betty', 2452: 'finish', 2453: 'whiskas', 2454: 'roland', 2455: 'flaxseed', 2456: 'pea', 2457: 'ceylon', 2458: 'fragile', 2459: 'buzz', 2460: 'silk', 2461: 'stated', 2462: 'rubbery', 2463: 'sturdy', 2464: 'litter', 2465: 'crema', 2466: 'grill', 2467: 'oak', 2468: 'ovaltine', 2469: 'increased', 2470: 'sesmark', 2471: 'fondant', 2472: 'volume', 2473: 'bistro', 2474: 'tradition', 2475: 'kombucha', 2476: 'warned', 2477: 'deserves', 2478: 'neither', 2479: 'grahams', 2480: 'inside', 2481: 'reaction', 2482: 'recall', 2483: 'closer', 2484: 'goooood', 2485: 'thinking', 2486: 'wisconsin', 2487: 'gouging', 2488: 'spray', 2489: 'terribly', 2490: 'hum', 2491: 'flower', 2492: 'dachshund', 2493: 'lunches', 2494: 'worlds', 2495: 'spit', 2496: 'lobster', 2497: 'bisque', 2498: 'izze', 2499: 'hersheys', 2500: 'entertainment', 2501: 'scalp', 2502: 'potassium', 2503: 'mills', 2504: 'carrying', 2505: 'mexico', 2506: 'previous', 2507: 'brewed', 2508: 'failed', 2509: 'lickin', 2510: 'ehh', 2511: 'competitive', 2512: 'brothers', 2513: 'mush', 2514: 'yerba', 2515: 'upon', 2516: 'heartland', 2517: 'dollar', 2518: 'rum', 2519: 'increases', 2520: 'hunger', 2521: 'heck', 2522: 'snickers', 2523: 'loyal', 2524: 'environmentally', 2525: 'stinks', 2526: 'consistent', 2527: 'mangoes', 2528: 'chutney', 2529: 'european', 2530: 'america', 2531: 'asian', 2532: 'prime', 2533: 'healty', 2534: 'brulee', 2535: 'snobs', 2536: 'burgers', 2537: 'sprinkles', 2538: 'pinch', 2539: 'pu', 2540: 'erh', 2541: 'flamingo', 2542: 'whip', 2543: 'dang', 2544: 'mayonnaise', 2545: 'fenugreek', 2546: 'sandwiches', 2547: 'doubled', 2548: 'burst', 2549: 'calming', 2550: 'ale', 2551: 'ten', 2552: 'luxury', 2553: 'drive', 2554: 'balls', 2555: 'writer', 2556: 'twins', 2557: 'chalky', 2558: 'dutch', 2559: 'cleansing', 2560: 'kernals', 2561: 'celsius', 2562: 'produce', 2563: 'evo', 2564: 'colombian', 2565: 'monin', 2566: 'ouch', 2567: 'week', 2568: 'bubbly', 2569: 'running', 2570: 'recent', 2571: 'namaste', 2572: 'lighter', 2573: 'tahini', 2574: 'winning', 2575: 'splash', 2576: 'imitation', 2577: 'bee', 2578: 'wafer', 2579: 'fire', 2580: 'choking', 2581: 'gag', 2582: 'bubbles', 2583: 'delcious', 2584: 'fail', 2585: 'pleases', 2586: 'grab', 2587: 'turns', 2588: 'cleaning', 2589: 'bakery', 2590: 'da', 2591: 'crab', 2592: 'hummus', 2593: 'earthy', 2594: 'yumminess', 2595: 'advertisement', 2596: 'crispbread', 2597: 'memory', 2598: 'foul', 2599: 'cocaine', 2600: 'arrowhead', 2601: 'minute', 2602: 'reminds', 2603: 'ah', 2604: 'nutmeg', 2605: 'grandkids', 2606: 'hormel', 2607: 'hash', 2608: 'higher', 2609: 'theatre', 2610: 'garbanzo', 2611: 'possible', 2612: 'russian', 2613: 'insanely', 2614: 'med', 2615: 'pens', 2616: 'tiger', 2617: 'watering', 2618: 'sweeter', 2619: 'fuel', 2620: 'certainly', 2621: 'unhealthy', 2622: 'wary', 2623: 'mahogany', 2624: 'poop', 2625: 'goods', 2626: 'shown', 2627: 'tazo', 2628: 'skillet', 2629: 'often', 2630: 'hi', 2631: 'pug', 2632: 'gummis', 2633: 'fashioned', 2634: 'attractive', 2635: 'boyfriend', 2636: 'hazelnuts', 2637: 'competition', 2638: 'write', 2639: 'musty', 2640: 'intense', 2641: 'hairball', 2642: 'shedding', 2643: 'triple', 2644: 'nong', 2645: 'shim', 2646: 'chile', 2647: 'tube', 2648: 'tummies', 2649: 'show', 2650: 'celiacs', 2651: 'stuck', 2652: 'hfcs', 2653: 'instinct', 2654: 'charges', 2655: 'entire', 2656: 'mauna', 2657: 'navitas', 2658: 'dirt', 2659: 'markers', 2660: 'link', 2661: 'skittles', 2662: 'libby', 2663: 'further', 2664: 'custard', 2665: 'moisturizer', 2666: 'perfume', 2667: 'cola', 2668: 'recovery', 2669: 'specialty', 2670: 'cornbread', 2671: 'catfood', 2672: 'stonewall', 2673: 'nana', 2674: 'parents', 2675: 'en', 2676: 'yummies', 2677: 'fatty', 2678: 'celiac', 2679: 'oatcakes', 2680: 'otherwise', 2681: 'trade', 2682: 'itself', 2683: 'cap', 2684: 'popped', 2685: 'tullys', 2686: 'costly', 2687: 'seafood', 2688: 'prevent', 2689: 'sip', 2690: 'rosemary', 2691: 'holistic', 2692: 'cents', 2693: 'carob', 2694: 'fluffy', 2695: 'fusilli', 2696: 'customers', 2697: 'juniper', 2698: 'caffe', 2699: 'mcp', 2700: 'wings', 2701: 'exceeded', 2702: 'zesty', 2703: 'mccormick', 2704: 'vienna', 2705: 'rain', 2706: 'yummers', 2707: 'detox', 2708: 'ewwww', 2709: 'cider', 2710: 'residue', 2711: 'claims', 2712: 'popular', 2713: 'correctly', 2714: 'hull', 2715: 'standards', 2716: 'puree', 2717: 'gentle', 2718: 'corned', 2719: 'flor', 2720: 'spike', 2721: 'jims', 2722: 'jimmies', 2723: 'digest', 2724: 'alive', 2725: 'along', 2726: 'papaya', 2727: 'deluxe', 2728: 'breast', 2729: 'alternate', 2730: 'ahoy', 2731: 'hungry', 2732: 'tapioca', 2733: 'sugarless', 2734: 'chilled', 2735: 'necessary', 2736: 'sweetleaf', 2737: 'research', 2738: 'gotten', 2739: 'million', 2740: 'harbor', 2741: 'rejoice', 2742: 'canola', 2743: 'crocker', 2744: 'ill', 2745: 'spinach', 2746: 'bariani', 2747: 'palatable', 2748: 'earths', 2749: 'allergen', 2750: 'dissolves', 2751: 'number', 2752: 'shaved', 2753: 'millet', 2754: 'dig', 2755: 'husky', 2756: 'zest', 2757: 'board', 2758: 'kracker', 2759: 'cones', 2760: 'truth', 2761: 'sells', 2762: 'alcohol', 2763: 'canin', 2764: 'erythritol', 2765: 'poppin', 2766: 'imo', 2767: 'joint', 2768: 'dissatisfied', 2769: 'bowser', 2770: 'stays', 2771: 'gerber', 2772: 'spoil', 2773: 'ideal', 2774: 'om', 2775: 'progresso', 2776: 'age', 2777: 'tastier', 2778: 'golean', 2779: 'reflux', 2780: 'response', 2781: 'center', 2782: 'refined', 2783: 'boxed', 2784: 'whipped', 2785: 'excellence', 2786: 'mtn', 2787: 'stroganoff', 2788: 'decorating', 2789: 'awhile', 2790: 'cesar', 2791: 'dependable', 2792: 'awesomely', 2793: 'tons', 2794: 'somewhere', 2795: 'tang', 2796: 'appealing', 2797: 'ho', 2798: 'pete', 2799: 'bottom', 2800: 'bummer', 2801: 'emerils', 2802: 'eatin', 2803: 'rican', 2804: 'based', 2805: 'contents', 2806: 'doctor', 2807: 'tails', 2808: 'user', 2809: 'popchip', 2810: 'yakisoba', 2811: 'flies', 2812: 'sorta', 2813: 'porridge', 2814: 'choices', 2815: 'whatsoever', 2816: 'folger', 2817: 'lemony', 2818: 'anise', 2819: 'antioxidants', 2820: 'men', 2821: 'enjoys', 2822: 'budget', 2823: 'burning', 2824: 'smarties', 2825: 'rawhides', 2826: 'orleans', 2827: 'promptly', 2828: 'rabbit', 2829: 'blends', 2830: 'excessive', 2831: 'starving', 2832: 'overrated', 2833: 'fresher', 2834: 'level', 2835: 'happybaby', 2836: 'tots', 2837: 'hcg', 2838: 'sore', 2839: 'unimpressed', 2840: 'jell', 2841: 'vinaigrette', 2842: 'among', 2843: 'due', 2844: 'known', 2845: 'corgi', 2846: 'dijon', 2847: 'snap', 2848: 'multigrain', 2849: 'passion', 2850: 'sub', 2851: 'ghirardelli', 2852: 'quencher', 2853: 'piece', 2854: 'chicago', 2855: 'sound', 2856: 'beverages', 2857: 'minicongo', 2858: 'land', 2859: 'freshly', 2860: 'meds', 2861: 'wants', 2862: 'mozzarella', 2863: 'splendid', 2864: 'lil', 2865: 'paid', 2866: 'looked', 2867: 'thunder', 2868: 'coarse', 2869: 'boot', 2870: 'pumps', 2871: 'salami', 2872: 'glycemic', 2873: 'hickory', 2874: 'labs', 2875: 'dogfood', 2876: 'uh', 2877: 'mid', 2878: 'americolor', 2879: 'gooood', 2880: 'trip', 2881: 'lame', 2882: 'farmer', 2883: 'ive', 2884: 'doesnt', 2885: 'suprised', 2886: 'herring', 2887: 'mystery', 2888: 'leaky', 2889: 'softer', 2890: 'hello', 2891: 'pucker', 2892: 'ener', 2893: 'meaty', 2894: 'chance', 2895: 'shaped', 2896: 'ask', 2897: 'young', 2898: 'expires', 2899: 'gobbled', 2900: 'squirrels', 2901: 'devour', 2902: 'filler', 2903: 'frontier', 2904: 'smelling', 2905: 'table', 2906: 'student', 2907: 'asked', 2908: 'gras', 2909: 'smoothest', 2910: 'refused', 2911: 'cotton', 2912: 'post', 2913: 'vodka', 2914: 'scratch', 2915: 'pour', 2916: 'comment', 2917: 'having', 2918: 'creek', 2919: 'concentrated', 2920: 'title', 2921: 'nausea', 2922: 'mcvities', 2923: 'cincinnati', 2924: 'tortillas', 2925: 'blast', 2926: 'medicinal', 2927: 'bully', 2928: 'scout', 2929: 'teavana', 2930: 'caveat', 2931: 'bank', 2932: 'share', 2933: 'recomended', 2934: 'sweeteners', 2935: 'mega', 2936: 'aa', 2937: 'wins', 2938: 'expire', 2939: 'reviewer', 2940: 'meets', 2941: 'oberto', 2942: 'mothers', 2943: 'sunbutter', 2944: 'particularly', 2945: 'ibd', 2946: 'disappointingly', 2947: 'sensible', 2948: 'pregnant', 2949: 'licking', 2950: 'dreadful', 2951: 'amy', 2952: 'shocked', 2953: 'rocky', 2954: 'imho', 2955: 'unremarkable', 2956: 'growth', 2957: 'satisfy', 2958: 'kili', 2959: 'chewies', 2960: 'sooner', 2961: 'below', 2962: 'law', 2963: 'happily', 2964: 'kitchens', 2965: 'dissappointed', 2966: 'lowery', 2967: 'act', 2968: 'entertained', 2969: 'ray', 2970: 'halves', 2971: 'pressure', 2972: 'australian', 2973: 'lickety', 2974: 'gano', 2975: 'tastic', 2976: 'remedy', 2977: 'horrid', 2978: 'kudos', 2979: 'bow', 2980: 'chunk', 2981: 'gassy', 2982: 'fart', 2983: 'commercial', 2984: 'labeling', 2985: 'yorkies', 2986: 'repellant', 2987: 'seasoned', 2988: 'cheeze', 2989: 'dreams', 2990: 'pudge', 2991: 'immediately', 2992: 'salads', 2993: 'purple', 2994: 'active', 2995: 'availability', 2996: 'exellent', 2997: 'avocado', 2998: 'course', 2999: 'lived', 3000: 'yup', 3001: 'scary', 3002: 'toys', 3003: 'cayenne', 3004: 'tonic', 3005: 'favs', 3006: 'hassle', 3007: 'death', 3008: 'everywhere', 3009: 'nuggets', 3010: 'udon', 3011: 'chicory', 3012: 'instructions', 3013: 'final', 3014: 'calcium', 3015: 'view', 3016: 'ships', 3017: 'risk', 3018: 'daughters', 3019: 'macadamias', 3020: 'kirkland', 3021: 'pickles', 3022: 'twists', 3023: 'whatever', 3024: 'chick', 3025: 'twix', 3026: 'carmel', 3027: 'face', 3028: 'ex', 3029: 'escapes', 3030: 'purse', 3031: 'follow', 3032: 'watered', 3033: 'sizes', 3034: 'execution', 3035: 'vitamins', 3036: 'powdery', 3037: 'yorkshire', 3038: 'greens', 3039: 'culinary', 3040: 'meatless', 3041: 'branston', 3042: 'ww', 3043: 'kool', 3044: 'stocking', 3045: 'numi', 3046: 'buckwheat', 3047: 'chest', 3048: 'animals', 3049: 'lard', 3050: 'kenya', 3051: 'peppered', 3052: 'gym', 3053: 'survival', 3054: 'words', 3055: 'minus', 3056: 'elegant', 3057: 'cancer', 3058: 'zipfizz', 3059: 'fits', 3060: 'margarita', 3061: 'omega', 3062: 'utterly', 3063: 'nutrient', 3064: 'burn', 3065: 'hooray', 3066: 'exciting', 3067: 'business', 3068: 'nibs', 3069: 'adding', 3070: 'cheesecake', 3071: 'sufferers', 3072: 'freakin', 3073: 'emergency', 3074: 'smoker', 3075: 'deelish', 3076: 'relish', 3077: 'penne', 3078: 'gunpowder', 3079: 'ibs', 3080: 'canadian', 3081: 'shipper', 3082: 'parmesan', 3083: 'goo', 3084: 'nori', 3085: 'cause', 3086: 'dunkin', 3087: 'thinkthin', 3088: 'site', 3089: 'main', 3090: 'anna', 3091: 'nor', 3092: 'cameron', 3093: 'breeds', 3094: 'shopping', 3095: 'via', 3096: 'warming', 3097: 'dane', 3098: 'sencha', 3099: 'mile', 3100: 'wont', 3101: 'herbs', 3102: 'nerds', 3103: 'frogs', 3104: 'effort', 3105: 'erin', 3106: 'trips', 3107: 'starbuck', 3108: 'seemed', 3109: 'blackstrap', 3110: 'rind', 3111: 'saltines', 3112: 'automatic', 3113: 'pocky', 3114: 'alfalfa', 3115: 'terrier', 3116: 'disapointing', 3117: 'lundberg', 3118: 'whiskey', 3119: 'alba', 3120: 'facial', 3121: 'grassy', 3122: 'bills', 3123: 'wrapped', 3124: 'vitality', 3125: 'everybody', 3126: 'uncle', 3127: 'grandpa', 3128: 'po', 3129: 'soggy', 3130: 'walkers', 3131: 'means', 3132: 'dreamfields', 3133: 'useless', 3134: 'reusable', 3135: 'brainer', 3136: 'occasions', 3137: 'palate', 3138: 'backup', 3139: 'sausages', 3140: 'au', 3141: 'jus', 3142: 'sounds', 3143: 'rockin', 3144: 'smoother', 3145: 'became', 3146: 'concern', 3147: 'beach', 3148: 'invention', 3149: 'influenster', 3150: 'meyenberg', 3151: 'highland', 3152: 'retail', 3153: 'tastless', 3154: 'angry', 3155: 'headache', 3156: 'hiding', 3157: 'forward', 3158: 'lip', 3159: 'speedy', 3160: 'boston', 3161: 'innovative', 3162: 'suggestion', 3163: 'forgot', 3164: 'dance', 3165: 'split', 3166: 'suitable', 3167: 'delicacy', 3168: 'papillon', 3169: 'callard', 3170: 'starburst', 3171: 'web', 3172: 'middle', 3173: 'chun', 3174: 'gem', 3175: 'science', 3176: 'horseradish', 3177: 'snickerdoodle', 3178: 'russell', 3179: 'factory', 3180: 'additives', 3181: 'starting', 3182: 'luvs', 3183: 'bitters', 3184: 'madras', 3185: 'barry', 3186: 'took', 3187: 'target', 3188: 'grams', 3189: 'probe', 3190: 'wheats', 3191: 'praise', 3192: 'pho', 3193: 'goodbye', 3194: 'room', 3195: 'tot', 3196: 'fusion', 3197: 'inconsistant', 3198: 'jim', 3199: 'zippy', 3200: 'distinct', 3201: 'modified', 3202: 'shiny', 3203: 'shots', 3204: 'hotter', 3205: 'dissapointing', 3206: 'orchid', 3207: 'disc', 3208: 'misrepresented', 3209: 'sardine', 3210: 'learn', 3211: 'imagined', 3212: 'remarkable', 3213: 'immune', 3214: 'hydrogenated', 3215: 'hold', 3216: 'nirvana', 3217: 'print', 3218: 'dude', 3219: 'ginseng', 3220: 'charms', 3221: 'nifty', 3222: 'stool', 3223: 'meet', 3224: 'elderly', 3225: 'bounty', 3226: 'purchases', 3227: 'sawdust', 3228: 'runner', 3229: 'ehhh', 3230: 'snyder', 3231: 'skinner', 3232: 'pernigotti', 3233: 'arthritis', 3234: 'droste', 3235: 'batter', 3236: 'addictively', 3237: 'supper', 3238: 'dishwasher', 3239: 'peppercorn', 3240: 'lie', 3241: 'recipients', 3242: 'counter', 3243: 'proof', 3244: 'notice', 3245: 'elk', 3246: 'fountain', 3247: 'uk', 3248: 'petal', 3249: 'ky', 3250: 'dulce', 3251: 'able', 3252: 'sucker', 3253: 'knows', 3254: 'hairballs', 3255: 'sage', 3256: 'bentley', 3257: 'disappear', 3258: 'princess', 3259: 'halva', 3260: 'website', 3261: 'torrone', 3262: 'recieved', 3263: 'toasty', 3264: 'unreal', 3265: 'batman', 3266: 'prep', 3267: 'faulty', 3268: 'confusing', 3269: 'cloud', 3270: 'butt', 3271: 'shredded', 3272: 'anyway', 3273: 'meats', 3274: 'partially', 3275: 'ziwi', 3276: 'shabby', 3277: 'kisses', 3278: 'arrangement', 3279: 'refreshment', 3280: 'chunks', 3281: 'expiry', 3282: 'range', 3283: 'solved', 3284: 'icicle', 3285: 'melon', 3286: 'hanover', 3287: 'tierra', 3288: 'cavender', 3289: 'spicing', 3290: 'galil', 3291: 'wrap', 3292: 'addicts', 3293: 'alone', 3294: 'cheated', 3295: 'breastfeeding', 3296: 'hypoallergenic', 3297: 'gems', 3298: 'eden', 3299: 'complain', 3300: 'zip', 3301: 'revv', 3302: 'pulse', 3303: 'baskets', 3304: 'thats', 3305: 'clicker', 3306: 'served', 3307: 'resist', 3308: 'attack', 3309: 'mornings', 3310: 'velvet', 3311: 'dee', 3312: 'distraction', 3313: 'varieties', 3314: 've', 3315: 'flaw', 3316: 'reduction', 3317: 'woman', 3318: 'listen', 3319: 'pilaf', 3320: 'treasure', 3321: 'efficient', 3322: 'indulgent', 3323: 'hazard', 3324: 'twinnings', 3325: 'beast', 3326: 'deeeelicious', 3327: 'details', 3328: 'bueno', 3329: 'quadratini', 3330: 'felines', 3331: 'tac', 3332: 'gram', 3333: 'fur', 3334: 'halo', 3335: 'smoking', 3336: 'occasional', 3337: 'returning', 3338: 'unpopped', 3339: 'acai', 3340: 'easter', 3341: 'literally', 3342: 'masala', 3343: 'sense', 3344: 'listing', 3345: 'mo', 3346: 'yi', 3347: 'peel', 3348: 'international', 3349: 'choose', 3350: 'chewed', 3351: 'term', 3352: 'bahlsen', 3353: 'weed', 3354: 'electrolytes', 3355: 'girlfriend', 3356: 'talk', 3357: 'fyi', 3358: 'gyro', 3359: 'marshmallow', 3360: 'min', 3361: 'oyster', 3362: 'nursing', 3363: 'play', 3364: 'spelt', 3365: 'galore', 3366: 'stuffing', 3367: 'natures', 3368: 'path', 3369: 'golf', 3370: 'bulldog', 3371: 'loses', 3372: 'brewing', 3373: 'nacho', 3374: 'doritos', 3375: 'substitue', 3376: 'inaccurate', 3377: 'bulgur', 3378: 'painful', 3379: 'pastas', 3380: 'maldon', 3381: 'stink', 3382: 'east', 3383: 'hawaii', 3384: 'brother', 3385: 'returns', 3386: 'chocoholic', 3387: 'enzymatic', 3388: 'boxer', 3389: 'pepperidge', 3390: 'kalua', 3391: 'rosso', 3392: 'strip', 3393: 'sitting', 3394: 'melissa', 3395: 'useable', 3396: 'bees', 3397: 'sunday', 3398: 'crash', 3399: 'fond', 3400: 'fennel', 3401: 'african', 3402: 'dislike', 3403: 'bunch', 3404: 'although', 3405: 'fixed', 3406: 'leak', 3407: 'diappointed', 3408: 'lips', 3409: 'scooby', 3410: 'parties', 3411: 'jolt', 3412: 'teething', 3413: 'subtly', 3414: 'hodgson', 3415: 'happen', 3416: 'demand', 3417: 'pasty', 3418: 'hardly', 3419: 'plum', 3420: 'bottled', 3421: 'linda', 3422: 'soba', 3423: 'varies', 3424: 'continue', 3425: 'taking', 3426: 'oro', 3427: 'clump', 3428: 'parts', 3429: 'bam', 3430: 'gi', 3431: 'walden', 3432: 'caesar', 3433: 'lifestyle', 3434: 'wash', 3435: 'oranges', 3436: 'turmeric', 3437: 'venus', 3438: 'smoke', 3439: 'potentially', 3440: 'skeptical', 3441: 'project', 3442: 'coloring', 3443: 'org', 3444: 'yam', 3445: 'granny', 3446: 'overload', 3447: 'decaff', 3448: 'funky', 3449: 'soooooooo', 3450: 'hansen', 3451: 'distinctive', 3452: 'liking', 3453: 'torn', 3454: 'eco', 3455: 'freshest', 3456: 'sangria', 3457: 'caf', 3458: 'pungent', 3459: 'discount', 3460: 'rates', 3461: 'ups', 3462: 'dent', 3463: 'gout', 3464: 'concerns', 3465: 'safety', 3466: 'bummed', 3467: 'ancho', 3468: 'hugger', 3469: 'dieter', 3470: 'navy', 3471: 'zen', 3472: 'sweat', 3473: 'aloe', 3474: 'icing', 3475: 'southwest', 3476: 'wtf', 3477: 'homestyle', 3478: 'necta', 3479: 'ct', 3480: 'creamers', 3481: 'laxative', 3482: 'wakes', 3483: 'fermented', 3484: 'icky', 3485: 'former', 3486: 'lowfat', 3487: 'logic', 3488: 'chops', 3489: 'wilton', 3490: 'alternatives', 3491: 'counts', 3492: 'discovered', 3493: 'building', 3494: 'yahoo', 3495: 'agar', 3496: 'canada', 3497: 'mass', 3498: 'ugly', 3499: 'champions', 3500: 'montreal', 3501: 'revolting', 3502: 'xtra', 3503: 'insane', 3504: 'vote', 3505: 'standby', 3506: 'lakewood', 3507: 'virginia', 3508: 'que', 3509: 'dick', 3510: 'probiotic', 3511: 'meant', 3512: 'lammy', 3513: 'seasons', 3514: 'states', 3515: 'lapsang', 3516: 'triplets', 3517: 'labrada', 3518: 'nutri', 3519: 'imported', 3520: 'sooooooo', 3521: 'ehhhh', 3522: 'bella', 3523: 'happier', 3524: 'harmony', 3525: 'shell', 3526: 'outside', 3527: 'marinara', 3528: 'bug', 3529: 'riceselect', 3530: 'avoderm', 3531: 'david', 3532: 'huckleberry', 3533: 'rinse', 3534: 'veg', 3535: 'pad', 3536: 'epic', 3537: 'clearly', 3538: 'stephen', 3539: 'apricots', 3540: 'caff', 3541: 'drank', 3542: 'bamboo', 3543: 'manna', 3544: 'brookside', 3545: 'pugs', 3546: 'halvah', 3547: 'person', 3548: 'marmalade', 3549: 'shortage', 3550: 'choclate', 3551: 'orbit', 3552: 'maid', 3553: 'cartons', 3554: 'washington', 3555: 'wheatgrass', 3556: 'mangos', 3557: 'freaking', 3558: 'advised', 3559: 'error', 3560: 'krispy', 3561: 'cross', 3562: 'trying', 3563: 'tablets', 3564: 'eukanuba', 3565: 'discontinued', 3566: 'yogourmet', 3567: 'syrupy', 3568: 'cramps', 3569: 'deliver', 3570: 'individually', 3571: 'lindor', 3572: 'par', 3573: 'turned', 3574: 'aunt', 3575: 'mushroom', 3576: 'pitcher', 3577: 'truely', 3578: 'cheeseburger', 3579: 'fool', 3580: 'pipes', 3581: 'iron', 3582: 'bellies', 3583: 'husks', 3584: 'knock', 3585: 'fran', 3586: 'passed', 3587: 'john', 3588: 'crumby', 3589: 'underwhelmed', 3590: 'stuffer', 3591: 'occasion', 3592: 'prune', 3593: 'worried', 3594: 'leaked', 3595: 'doggone', 3596: 'moxie', 3597: 'lara', 3598: 'wasa', 3599: 'cosmic', 3600: 'unexpected', 3601: 'folks', 3602: 'chebe', 3603: 'ackee', 3604: 'dachshunds', 3605: 'socks', 3606: 'friskies', 3607: 'cupcake', 3608: 'slight', 3609: 'cofee', 3610: 'florida', 3611: 'clever', 3612: 'fanatic', 3613: 'bumble', 3614: 'depends', 3615: 'leafy', 3616: 'newton', 3617: 'describe', 3618: 'despite', 3619: 'horrendous', 3620: 'ish', 3621: 'morton', 3622: 'salsas', 3623: 'soymilk', 3624: 'moroccan', 3625: 'wanna', 3626: 'maggie', 3627: 'tonkatsu', 3628: 'sours', 3629: 'enzyme', 3630: 'greyhounds', 3631: 'grower', 3632: 'devoured', 3633: 'jules', 3634: 'chik', 3635: 'holidays', 3636: 'tillamook', 3637: 'buffet', 3638: 'granulated', 3639: 'dumb', 3640: 'israel', 3641: 'vino', 3642: 'italiano', 3643: 'pit', 3644: 'practically', 3645: 'believer', 3646: 'hannah', 3647: 'fulfilling', 3648: 'stable', 3649: 'yoohoo', 3650: 'absurd', 3651: 'fingers', 3652: 'jeremiah', 3653: 'ditto', 3654: 'upper', 3655: 'sipping', 3656: 'third', 3657: 'puffins', 3658: 'whew', 3659: 'mcdougall', 3660: 'wheel', 3661: 'gogo', 3662: 'squares', 3663: 'deee', 3664: 'match', 3665: 'whats', 3666: 'lefse', 3667: 'interest', 3668: 'fondue', 3669: 'tears', 3670: 'refrigerator', 3671: 'yep', 3672: 'sweeten', 3673: 'affect', 3674: 'spoonful', 3675: 'croutons', 3676: 'bananas', 3677: 'nephew', 3678: 'bogus', 3679: 'handle', 3680: 'scientific', 3681: 'dew', 3682: 'additions', 3683: 'types', 3684: 'gooooood', 3685: 'campbells', 3686: 'him', 3687: 'indigestion', 3688: 'experiencing', 3689: 'burger', 3690: 'strongly', 3691: 'saturated', 3692: 'falls', 3693: 'beginner', 3694: 'spry', 3695: 'spots', 3696: 'mulberry', 3697: 'bravo', 3698: 'eagle', 3699: 'obsession', 3700: 'mixer', 3701: 'workouts', 3702: 'll', 3703: 'convient', 3704: 'dot', 3705: 'grandson', 3706: 'taylor', 3707: 'beets', 3708: 'suck', 3709: 'baklava', 3710: 'nanas', 3711: 'buns', 3712: 'mberry', 3713: 'decorations', 3714: 'sweetest', 3715: 'genetically', 3716: 'glorified', 3717: 'yuppy', 3718: 'south', 3719: 'overwhelms', 3720: 'classy', 3721: 'convert', 3722: 'volumizing', 3723: 'crumbled', 3724: 'panettone', 3725: 'kopi', 3726: 'nowhere', 3727: 'situation', 3728: 'appeal', 3729: 'hangover', 3730: 'owned', 3731: 'krusteaz', 3732: 'therapy', 3733: 'sugars', 3734: 'peasy', 3735: 'ch', 3736: 'fewer', 3737: 'magical', 3738: 'unsatisfied', 3739: 'speaking', 3740: 'pros', 3741: 'godsend', 3742: 'supermarkets', 3743: 'grounds', 3744: 'passable', 3745: 'creative', 3746: 'carr', 3747: 'recommends', 3748: 'disappoint', 3749: 'given', 3750: 'mareblu', 3751: 'sees', 3752: 'stocked', 3753: 'caffiene', 3754: 'aji', 3755: 'gringo', 3756: 'bandito', 3757: 'scone', 3758: 'nights', 3759: 'antler', 3760: 'lactation', 3761: 'tooo', 3762: 'saladitos', 3763: 'alcoholic', 3764: 'eggnog', 3765: 'bittersweet', 3766: 'sooooooooooo', 3767: 'chilli', 3768: 'strangely', 3769: 'gobble', 3770: 'rib', 3771: 'sell', 3772: 'merrick', 3773: 'florentine', 3774: 'utter', 3775: 'random', 3776: 'luck', 3777: 'breakage', 3778: 'hp', 3779: 'dancing', 3780: 'deer', 3781: 'retriever', 3782: 'frustrated', 3783: 'feline', 3784: 'tire', 3785: 'max', 3786: 'camp', 3787: 'hurts', 3788: 'sport', 3789: 'stong', 3790: 'aloha', 3791: 'pedigree', 3792: 'shed', 3793: 'receipt', 3794: 'deadly', 3795: 'baba', 3796: 'irresistible', 3797: 'rodeo', 3798: 'grandmother', 3799: 'mood', 3800: 'dandy', 3801: 'kelloggs', 3802: 'minced', 3803: 'glory', 3804: 'floral', 3805: 'fruitcake', 3806: 'vitakraft', 3807: 'cucumber', 3808: 'clears', 3809: 'safflower', 3810: 'mic', 3811: 'brick', 3812: 'occupied', 3813: 'feelings', 3814: 'greener', 3815: 'deserve', 3816: 'al', 3817: 'worms', 3818: 'properly', 3819: 'salts', 3820: 'aged', 3821: 'dentastix', 3822: 'pamelas', 3823: 'glee', 3824: 'airtight', 3825: 'wicked', 3826: 'pits', 3827: 'artificially', 3828: 'hound', 3829: 'salada', 3830: 'spirit', 3831: 'bustelo', 3832: 'replace', 3833: 'process', 3834: 'moderately', 3835: 'pan', 3836: 'pine', 3837: 'os', 3838: 'foie', 3839: 'utz', 3840: 'kuerig', 3841: 'pappy', 3842: 'wax', 3843: 'yams', 3844: 'samoa', 3845: 'goood', 3846: 'exceptionally', 3847: 'festive', 3848: 'learned', 3849: 'converted', 3850: 'outdated', 3851: 'junkie', 3852: 'appreciated', 3853: 'digestives', 3854: 'coke', 3855: 'rounds', 3856: 'gin', 3857: 'rtd', 3858: 'sams', 3859: 'loacker', 3860: 'important', 3861: 'safer', 3862: 'multiple', 3863: 'jambalaya', 3864: 'wasted', 3865: 'woo', 3866: 'generous', 3867: 'postage', 3868: 'mail', 3869: 'chihuahuas', 3870: 'massive', 3871: 'marathon', 3872: 'magically', 3873: 'model', 3874: 'comparable', 3875: 'writes', 3876: 'marcona', 3877: 'dud', 3878: 'dehydrated', 3879: 'uck', 3880: 'violet', 3881: 'expiring', 3882: 'dietary', 3883: 'twang', 3884: 'expectation', 3885: 'fl', 3886: 'lemongrass', 3887: 'ka', 3888: 'pleasures', 3889: 'cape', 3890: 'cod', 3891: 'hydrate', 3892: 'toothpicks', 3893: 'sodas', 3894: 'welch', 3895: 'yea', 3896: 'moment', 3897: 'ramyun', 3898: 'taiwan', 3899: 'provided', 3900: 'organizer', 3901: 'chiclets', 3902: 'faster', 3903: 'positive', 3904: 'become', 3905: 'mae', 3906: 'mat', 3907: 'certain', 3908: 'preference', 3909: 'magnificent', 3910: 'sause', 3911: 'worries', 3912: 'dishonest', 3913: 'spoon', 3914: 'tasy', 3915: 'germany', 3916: 'gooey', 3917: 'artifical', 3918: 'smokies', 3919: 'leonidas', 3920: 'liner', 3921: 'atkins', 3922: 'molly', 3923: 'fails', 3924: 'snapper', 3925: 'oriental', 3926: 'yummyyyy', 3927: 'gastrointestinal', 3928: 'anticipated', 3929: 'fed', 3930: 'peace', 3931: 'writing', 3932: 'waaaay', 3933: 'graber', 3934: 'father', 3935: 'renal', 3936: 'fantastico', 3937: 'suckers', 3938: 'undrinkable', 3939: 'dinners', 3940: 'current', 3941: 'leading', 3942: 'women', 3943: 'names', 3944: 'famous', 3945: 'music', 3946: 'rocket', 3947: 'jaw', 3948: 'kookaburra', 3949: 'koma', 3950: 'dynamite', 3951: 'keeper', 3952: 'walk', 3953: 'darker', 3954: 'delicioius', 3955: 'stik', 3956: 'carne', 3957: 'asada', 3958: 'saving', 3959: 'omgoodness', 3960: 'carbquik', 3961: 'skillets', 3962: 'overcooked', 3963: 'burns', 3964: 'pyramid', 3965: 'levels', 3966: 'unfortunately', 3967: 'preserve', 3968: 'ghiradelli', 3969: 'kernel', 3970: 'flight', 3971: 'arsenic', 3972: 'skippy', 3973: 'creates', 3974: 'dilute', 3975: 'selling', 3976: 'mcvitie', 3977: 'flaky', 3978: 'canning', 3979: 'crf', 3980: 'fussie', 3981: 'switching', 3982: 'fantabulous', 3983: 'petco', 3984: 'muy', 3985: 'grilling', 3986: 'windows', 3987: 'sri', 3988: 'lanka', 3989: 'neo', 3990: 'albacore', 3991: 'fell', 3992: 'syndrome', 3993: 'lava', 3994: 'underwhelming', 3995: 'healing', 3996: 'noisy', 3997: 'sampling', 3998: 'mocafe', 3999: 'magnifico', 4000: 'infant', 4001: 'reds', 4002: 'doubt', 4003: 'muesli', 4004: 'wabash', 4005: 'finely', 4006: 'milder', 4007: 'teabag', 4008: 'aggressive', 4009: 'tourangelle', 4010: 'caponata', 4011: 'flytrap', 4012: 'stools', 4013: 'mentos', 4014: 'cento', 4015: 'tinkyada', 4016: 'maine', 4017: 'enjoyment', 4018: 'amber', 4019: 'pigs', 4020: 'tings', 4021: 'expense', 4022: 'team', 4023: 'deeelicious', 4024: 'buyers', 4025: 'breads', 4026: 'dipped', 4027: 'coast', 4028: 'rumford', 4029: 'purina', 4030: 'sickness', 4031: 'richard', 4032: 'ribs', 4033: 'spiciest', 4034: 'cheezies', 4035: 'appetizer', 4036: 'husbands', 4037: 'bored', 4038: 'waters', 4039: 'increasing', 4040: 'dollars', 4041: 'dave', 4042: 'frying', 4043: 'tiki', 4044: 'booda', 4045: 'fondarific', 4046: 'changer', 4047: 'cascadian', 4048: 'colorado', 4049: 'tight', 4050: 'fuji', 4051: 'acidity', 4052: 'usda', 4053: 'eb', 4054: 'tired', 4055: 'edge', 4056: 'def', 4057: 'mania', 4058: 'general', 4059: 'which', 4060: 'frank', 4061: 'practical', 4062: 'twelve', 4063: 'bilberry', 4064: 'senna', 4065: 'matters', 4066: 'hellman', 4067: 'internet', 4068: 'subsitute', 4069: 'disliked', 4070: 'stems', 4071: 'goof', 4072: 'bulbs', 4073: 'makers', 4074: 'mead', 4075: 'habit', 4076: 'ago', 4077: 'sweeeeet', 4078: 'families', 4079: 'guava', 4080: 'appropriate', 4081: 'phenominal', 4082: 'arizona', 4083: 'kenyan', 4084: 'heads', 4085: 'heard', 4086: 'joes', 4087: 'jif', 4088: 'dinosaurs', 4089: 'ez', 4090: 'sweetz', 4091: 'teabags', 4092: 'crisco', 4093: 'shortening', 4094: 'rhubarb', 4095: 'rid', 4096: 'maui', 4097: 'hay', 4098: 'savers', 4099: 'probiotics', 4100: 'code', 4101: 'york', 4102: 'conscious', 4103: 'net', 4104: 'orgasmic', 4105: 'modification', 4106: 'restaurants', 4107: 'sports', 4108: 'ooooh', 4109: 'myself', 4110: 'tolerable', 4111: 'exact', 4112: 'mamma', 4113: 'thoroughly', 4114: 'buen', 4115: 'buena', 4116: 'varied', 4117: 'lactose', 4118: 'cumin', 4119: 'watcher', 4120: 'bagel', 4121: 'disgustingly', 4122: 'souchong', 4123: 'approval', 4124: 'murray', 4125: 'veri', 4126: 'beneficial', 4127: 'frantoia', 4128: 'prefers', 4129: 'confessions', 4130: 'brava', 4131: 'infections', 4132: 'darned', 4133: 'sensitivity', 4134: 'energetic', 4135: 'mesquite', 4136: 'chestnut', 4137: 'camper', 4138: 'intended', 4139: 'relaxation', 4140: 'electric', 4141: 'zhena', 4142: 'lawn', 4143: 'causing', 4144: 'lovin', 4145: 'wraps', 4146: 'moving', 4147: 'growing', 4148: 'sister', 4149: 'slimey', 4150: 'mon', 4151: 'trial', 4152: 'woeber', 4153: 'pioneer', 4154: 'helping', 4155: 'suprise', 4156: 'clamato', 4157: 'rye', 4158: 'mean', 4159: 'lock', 4160: 'slurp', 4161: 'fashion', 4162: 'kup', 4163: 'pk', 4164: 'mars', 4165: 'shockingly', 4166: 'wasteful', 4167: 'rootbeer', 4168: 'manufacturer', 4169: 'handful', 4170: 'leche', 4171: 'juices', 4172: 'sunshine', 4173: 'bugles', 4174: 'glorious', 4175: 'signature', 4176: 'math', 4177: 'sophie', 4178: 'granddaughter', 4179: 'waited', 4180: 'sit', 4181: 'themselves', 4182: 'mueslix', 4183: 'mole', 4184: 'veranda', 4185: 'blonde', 4186: 'starch', 4187: 'nabisco', 4188: 'originals', 4189: 'cody', 4190: 'catch', 4191: 'flawed', 4192: 'yumyum', 4193: 'cooler', 4194: 'blooming', 4195: 'smiles', 4196: 'trash', 4197: 'endurance', 4198: 'madhouse', 4199: 'belts', 4200: 'mounds', 4201: 'unexciting', 4202: 'pesto', 4203: 'blackened', 4204: 'squeeze', 4205: 'policy', 4206: 'smile', 4207: 'mashed', 4208: 'poppers', 4209: 'bundle', 4210: 'bergamont', 4211: 'speed', 4212: 'santa', 4213: 'report', 4214: 'disappoints', 4215: 'maki', 4216: 'patty', 4217: 'plane', 4218: 'parrot', 4219: 'pulp', 4220: 'kikkoman', 4221: 'challenge', 4222: 'campbell', 4223: 'theory', 4224: 'mystic', 4225: 'ultra', 4226: 'turtles', 4227: 'dilmah', 4228: 'gummie', 4229: 'dissapointment', 4230: 'becoming', 4231: 'bunnies', 4232: 'brag', 4233: 'nutro', 4234: 'cleanser', 4235: 'ryvita', 4236: 'wayyy', 4237: 'dino', 4238: 'kiddos', 4239: 'street', 4240: 'freak', 4241: 'ziwipeak', 4242: 'gallon', 4243: 'cofffee', 4244: 'won', 4245: 'udi', 4246: 'unnatural', 4247: 'verona', 4248: 'incomplete', 4249: 'sleepy', 4250: 'flu', 4251: 'bill', 4252: 'replaces', 4253: 'ohhhhh', 4254: 'cigar', 4255: 'masters', 4256: 'szechuan', 4257: 'enery', 4258: 'encountered', 4259: 'neck', 4260: 'marble', 4261: 'stride', 4262: 'sparingly', 4263: 'skins', 4264: 'minimal', 4265: 'bringing', 4266: 'goldfish', 4267: 'emergen', 4268: 'happiness', 4269: 'tilda', 4270: 'peak', 4271: 'exploding', 4272: 'emptor', 4273: 'heath', 4274: 'spritzer', 4275: 'genuine', 4276: 'sammy', 4277: 'frenzy', 4278: 'headaches', 4279: 'reactions', 4280: 'couldnt', 4281: 'britain', 4282: 'potatoe', 4283: 'oskri', 4284: 'watching', 4285: 'included', 4286: 'rancher', 4287: 'microwavable', 4288: 'substitution', 4289: 'brit', 4290: 'cleanse', 4291: 'joke', 4292: 'cloves', 4293: 'wrappers', 4294: 'tubs', 4295: 'weaker', 4296: 'ewww', 4297: 'recipient', 4298: 'cappucino', 4299: 'semi', 4300: 'prudhomme', 4301: 'mixture', 4302: 'owners', 4303: 'ad', 4304: 'cleans', 4305: 'card', 4306: 'approve', 4307: 'weber', 4308: 'jablum', 4309: 'fuss', 4310: 'vials', 4311: 'sufferer', 4312: 'colorful', 4313: 'latest', 4314: 'fills', 4315: 'texmati', 4316: 'tacs', 4317: 'refrigerate', 4318: 'modifications', 4319: 'inch', 4320: 'pearls', 4321: 'mouthwatering', 4322: 'banged', 4323: 'gut', 4324: 'ins', 4325: 'variation', 4326: 'pitted', 4327: 'method', 4328: 'sloppy', 4329: 'ton', 4330: 'aspen', 4331: 'fully', 4332: 'caravan', 4333: 'sending', 4334: 'lunchboxes', 4335: 'wise', 4336: 'frosted', 4337: 'furikake', 4338: 'blessed', 4339: 'pal', 4340: 'import', 4341: 'ink', 4342: 'glug', 4343: 'di', 4344: 'refried', 4345: 'butterfinger', 4346: 'consider', 4347: 'cuban', 4348: 'chop', 4349: 'putrid', 4350: 'sizing', 4351: 'ist', 4352: 'energizing', 4353: 'elliott', 4354: 'gracious', 4355: 'fraud', 4356: 'oi', 4357: 'gardenia', 4358: 'counting', 4359: 'neighbor', 4360: 'bellini', 4361: 'sensational', 4362: 'jordan', 4363: 'atomic', 4364: 'ants', 4365: 'outrageously', 4366: 'munchos', 4367: 'belgium', 4368: 'purrs', 4369: 'demerara', 4370: 'fact', 4371: 'standing', 4372: 'technically', 4373: 'margaret', 4374: 'edensoy', 4375: 'hops', 4376: 'lollypops', 4377: 'shows', 4378: 'dop', 4379: 'particular', 4380: 'defies', 4381: 'uti', 4382: 'jimmy', 4383: 'everybodys', 4384: 'pastries', 4385: 'sugarfree', 4386: 'teapot', 4387: 'premier', 4388: 'gnawhide', 4389: 'waggin', 4390: 'conventional', 4391: 'horrific', 4392: 'canisters', 4393: 'woth', 4394: 'mistro', 4395: 'generic', 4396: 'department', 4397: 'floss', 4398: 'fluorescent', 4399: 'complaint', 4400: 'fritos', 4401: 'delights', 4402: 'evar', 4403: 'spare', 4404: 'bellagio', 4405: 'hydrating', 4406: 'barista', 4407: 'prima', 4408: 'tolerated', 4409: 'redskin', 4410: 'dye', 4411: 'boo', 4412: 'israeli', 4413: 'cd', 4414: 'reformulated', 4415: 'dissolve', 4416: 'filet', 4417: 'gumbo', 4418: 'envy', 4419: 'kellogs', 4420: 'dissappointment', 4421: 'fromm', 4422: 'fats', 4423: 'hazardous', 4424: 'material', 4425: 'breaker', 4426: 'uneven', 4427: 'bolder', 4428: 'crock', 4429: 'gadget', 4430: 'suggested', 4431: 'postum', 4432: 'fresca', 4433: 'naan', 4434: 'riesling', 4435: 'cutting', 4436: 'doughnut', 4437: 'amore', 4438: 'dare', 4439: 'polar', 4440: 'muir', 4441: 'glen', 4442: 'tetley', 4443: 'brought', 4444: 'dressings', 4445: 'rolled', 4446: 'snyders', 4447: 'yikes', 4448: 'wireless', 4449: 'record', 4450: 'fiesta', 4451: 'edges', 4452: 'frenchy', 4453: 'chico', 4454: 'tamarind', 4455: 'ribbon', 4456: 'ferret', 4457: 'journey', 4458: 'restricted', 4459: 'turtle', 4460: 'powered', 4461: 'envirokidz', 4462: 'adequate', 4463: 'cheep', 4464: 'thinner', 4465: 'tempting', 4466: 'chocolat', 4467: 'descripton', 4468: 'pow', 4469: 'refuses', 4470: 'slick', 4471: 'amounts', 4472: 'pina', 4473: 'colada', 4474: 'ewwwww', 4475: 'promise', 4476: 'showed', 4477: 'updated', 4478: 'toothbrush', 4479: 'simplicity', 4480: 'genuinely', 4481: 'oysters', 4482: 'anxiety', 4483: 'cupboard', 4484: 'scottish', 4485: 'oversweet', 4486: 'huh', 4487: 'sustained', 4488: 'cabinet', 4489: 'foil', 4490: 'temperature', 4491: 'thicker', 4492: 'healthwise', 4493: 'transit', 4494: 'burma', 4495: 'lysander', 4496: 'global', 4497: 'reall', 4498: 'frito', 4499: 'pathetic', 4500: 'pr', 4501: 'marie', 4502: 'biscuts', 4503: 'gels', 4504: 'liquorice', 4505: 'deet', 4506: 'sauerkraut', 4507: 'memorable', 4508: 'piana', 4509: 'dove', 4510: 'carmels', 4511: 'securely', 4512: 'goop', 4513: 'havahart', 4514: 'critter', 4515: 'ridder', 4516: 'pooches', 4517: 'chuckles', 4518: 'caring', 4519: 'luwak', 4520: 'enriched', 4521: 'gray', 4522: 'cri', 4523: 'outdoors', 4524: 'gun', 4525: 'brain', 4526: 'thyme', 4527: 'fussiest', 4528: 'reorder', 4529: 'foulest', 4530: 'deeee', 4531: 'ignore', 4532: 'tho', 4533: 'farmers', 4534: 'hopefully', 4535: 'gal', 4536: 'snapple', 4537: 'facility', 4538: 'micro', 4539: 'stunning', 4540: 'cheers', 4541: 'prone', 4542: 'gorilla', 4543: 'recording', 4544: 'claeys', 4545: 'ceral', 4546: 'moss', 4547: 'safely', 4548: 'pemmican', 4549: 'employees', 4550: 'frenchie', 4551: 'platinum', 4552: 'laces', 4553: 'lies', 4554: 'foot', 4555: 'ekojava', 4556: 'revised', 4557: 'jitters', 4558: 'lakerol', 4559: 'kalamata', 4560: 'tasteful', 4561: 'grinder', 4562: 'hotsauce', 4563: 'searching', 4564: 'rotation', 4565: 'beginning', 4566: 'vege', 4567: 'sal', 4568: 'stone', 4569: 'orangina', 4570: 'noh', 4571: 'novice', 4572: 'mickey', 4573: 'gluey', 4574: 'fruitchia', 4575: 'tone', 4576: 'flavorfull', 4577: 'unit', 4578: 'produced', 4579: 'disappearing', 4580: 'peruvian', 4581: 'dassant', 4582: 'newbie', 4583: 'reading', 4584: 'foodshouldtastegood', 4585: 'ese', 4586: 'patches', 4587: 'gravel', 4588: 'calling', 4589: 'harrogate', 4590: 'pristine', 4591: 'fence', 4592: 'tainted', 4593: 'introduction', 4594: 'solids', 4595: 'mouthwash', 4596: 'ignored', 4597: 'orgran', 4598: 'capt', 4599: 'milano', 4600: 'greys', 4601: 'puts', 4602: 'impossibly', 4603: 'brandi', 4604: 'suprises', 4605: 'licorette', 4606: 'guiltless', 4607: 'represented', 4608: 'incorrectly', 4609: 'roof', 4610: 'highway', 4611: 'homegrown', 4612: 'snappy', 4613: 'steal', 4614: 'awe', 4615: 'reviewed', 4616: 'energizer', 4617: 'bunny', 4618: 'cappaccino', 4619: 'beefy', 4620: 'string', 4621: 'nu', 4622: 'silken', 4623: 'values', 4624: 'emergencies', 4625: 'satisified', 4626: 'fage', 4627: 'talkingrain', 4628: 'pringles', 4629: 'textured', 4630: 'hides', 4631: 'imagine', 4632: 'conditioning', 4633: 'guinea', 4634: 'buffy', 4635: 'quali', 4636: 'tis', 4637: 'mmh', 4638: 'casserole', 4639: 'confection', 4640: 'intensely', 4641: 'limes', 4642: 'purchaser', 4643: 'ratio', 4644: 'looseleaf', 4645: 'tires', 4646: 'treads', 4647: 'soupy', 4648: 'kimchi', 4649: 'ingrediants', 4650: 'exp', 4651: 'bergin', 4652: 'quesadillas', 4653: 'carries', 4654: 'thomas', 4655: 'alpen', 4656: 'spat', 4657: 'bjs', 4658: 'frappes', 4659: 'rippin', 4660: 'harissa', 4661: 'lately', 4662: 'bichon', 4663: 'cooper', 4664: 'pantene', 4665: 'kay', 4666: 'marley', 4667: 'substance', 4668: 'tricks', 4669: 'explodes', 4670: 'exercise', 4671: 'coffeee', 4672: 'naked', 4673: 'lox', 4674: 'deli', 4675: 'gr', 4676: 'teddy', 4677: 'dea', 4678: 'controlled', 4679: 'regret', 4680: 'olde', 4681: 'attacks', 4682: 'yummi', 4683: 'cran', 4684: 'vegg', 4685: 'identical', 4686: 'explosive', 4687: 'ahhhh', 4688: 'shoulder', 4689: 'talking', 4690: 'ant', 4691: 'yummilicious', 4692: 'sanding', 4693: 'nutrisystem', 4694: 'creativity', 4695: 'accept', 4696: 'fi', 4697: 'shock', 4698: 'xylichew', 4699: 'wonton', 4700: 'glaze', 4701: 'dente', 4702: 'cover', 4703: 'beautifully', 4704: 'tasts', 4705: 'misses', 4706: 'mark', 4707: 'gosh', 4708: 'consumption', 4709: 'saddened', 4710: 'beauty', 4711: 'loaf', 4712: 'corny', 4713: 'sneak', 4714: 'flexible', 4715: 'seeking', 4716: 'mad', 4717: 'returned', 4718: 'walker', 4719: 'flavours', 4720: 'thankful', 4721: 'yoghurt', 4722: 'westie', 4723: 'shoddy', 4724: 'weary', 4725: 'pat', 4726: 'heavens', 4727: 'jo', 4728: 'chilis', 4729: 'self', 4730: 'pen', 4731: 'yrs', 4732: 'flashes', 4733: 'colored', 4734: 'lowreys', 4735: 'horehound', 4736: 'favortie', 4737: 'cancelled', 4738: 'surpassed', 4739: 'fred', 4740: 'meyer', 4741: 'canes', 4742: 'appetizing', 4743: 'senses', 4744: 'bobs', 4745: 'clumps', 4746: 'provider', 4747: 'ramune', 4748: 'rubbish', 4749: 'gumball', 4750: 'dusty', 4751: 'according', 4752: 'masses', 4753: 'lg', 4754: 'spout', 4755: 'competing', 4756: 'clark', 4757: 'explore', 4758: 'writers', 4759: 'lesson', 4760: 'dissolving', 4761: 'jacklinks', 4762: 'offensive', 4763: 'producer', 4764: 'uninspiring', 4765: 'elegance', 4766: 'vacation', 4767: 'tricky', 4768: 'zinger', 4769: 'sucked', 4770: 'favorate', 4771: 'allows', 4772: 'insects', 4773: 'disclaimer', 4774: 'innova', 4775: 'dha', 4776: 'pounce', 4777: 'clif', 4778: 'fettuccine', 4779: 'environment', 4780: 'deboles', 4781: 'artichoke', 4782: 'piggy', 4783: 'oven', 4784: 'heathy', 4785: 'pressed', 4786: 'doctoring', 4787: 'disposakup', 4788: 'fantastically', 4789: 'newtons', 4790: 'gimborn', 4791: 'garam', 4792: 'pregnancy', 4793: 'tarrazu', 4794: 'pond', 4795: 'thermometer', 4796: 'lifetime', 4797: 'woofed', 4798: 'crunchiness', 4799: 'cocolate', 4800: 'waist', 4801: 'wu', 4802: 'failure', 4803: 'cholocate', 4804: 'reviewing', 4805: 'angelo', 4806: 'pietro', 4807: 'porcini', 4808: 'fajita', 4809: 'nightmare', 4810: 'anyday', 4811: 'folk', 4812: 'complement', 4813: 'fettucine', 4814: 'creations', 4815: 'frothy', 4816: 'fazer', 4817: 'starchy', 4818: 'honeycomb', 4819: 'mutt', 4820: 'loud', 4821: 'worthwhile', 4822: 'reeses', 4823: 'coupon', 4824: 'otis', 4825: 'sorbet', 4826: 'disposacups', 4827: 'korean', 4828: 'turducken', 4829: 'pins', 4830: 'glucose', 4831: 'needing', 4832: 'krispies', 4833: 'aussie', 4834: 'uno', 4835: 'robinson', 4836: 'oooh', 4837: 'surprises', 4838: 'morocco', 4839: 'gm', 4840: 'baronet', 4841: 'honeytree', 4842: 'chiles', 4843: 'egyptian', 4844: 'ploy', 4845: 'lazzaroni', 4846: 'stops', 4847: 'wildberry', 4848: 'wouldnt', 4849: 'centerpiece', 4850: 'detail', 4851: 'feathers', 4852: 'stage', 4853: 'resealable', 4854: 'pommie', 4855: 'stout', 4856: 'cry', 4857: 'dean', 4858: 'sylvia', 4859: 'spain', 4860: 'convent', 4861: 'mislabeled', 4862: 'hella', 4863: 'byron', 4864: 'caliente', 4865: 'abused', 4866: 'younger', 4867: 'ezekiel', 4868: 'grrrr', 4869: 'kinds', 4870: 'taster', 4871: 'engaging', 4872: 'soso', 4873: 'kills', 4874: 'accepted', 4875: 'thyroid', 4876: 'miraculous', 4877: 'tatses', 4878: 'sourness', 4879: 'liter', 4880: 'wolfgand', 4881: 'puke', 4882: 'distant', 4883: 'baconnaise', 4884: 'arm', 4885: 'remind', 4886: 'stands', 4887: 'evil', 4888: 'cinnabon', 4889: 'medjool', 4890: 'crystallized', 4891: 'superstar', 4892: 'taylors', 4893: 'vinci', 4894: 'wallop', 4895: 'munchkin', 4896: 'snails', 4897: 'league', 4898: 'tenders', 4899: 'mideast', 4900: 'activity', 4901: 'puggle', 4902: 'preamp', 4903: 'scented', 4904: 'zoom', 4905: 'improves', 4906: 'itty', 4907: 'bitty', 4908: 'confections', 4909: 'richer', 4910: 'granules', 4911: 'doa', 4912: 'kelp', 4913: 'grace', 4914: 'lively', 4915: 'asparagus', 4916: 'cooker', 4917: 'athletes', 4918: 'berg', 4919: 'halal', 4920: 'pike', 4921: 'equipment', 4922: 'educational', 4923: 'hollywood', 4924: 'gobbles', 4925: 'gsd', 4926: 'greece', 4927: 'barf', 4928: 'doo', 4929: 'april', 4930: 'taters', 4931: 'reordering', 4932: 'ff', 4933: 'pdq', 4934: 'havanese', 4935: 'cholesterol', 4936: 'symptoms', 4937: 'begone', 4938: 'rosamonte', 4939: 'overtones', 4940: 'ayurvedic', 4941: 'manuka', 4942: 'bent', 4943: 'hippie', 4944: 'mailing', 4945: 'severe', 4946: 'smoothe', 4947: 'horses', 4948: 'picaridin', 4949: 'soldier', 4950: 'speak', 4951: 'jury', 4952: 'compatible', 4953: 'hr', 4954: 'tor', 4955: 'whenever', 4956: 'dangerously', 4957: 'preservative', 4958: 'smokin', 4959: 'toss', 4960: 'starkist', 4961: 'tasteing', 4962: 'holes', 4963: 'hots', 4964: 'bowel', 4965: 'bb', 4966: 'reducing', 4967: 'kits', 4968: 'bal', 4969: 'calm', 4970: 'scare', 4971: 'escape', 4972: 'paella', 4973: 'liquer', 4974: 'silly', 4975: 'conversation', 4976: 'asthma', 4977: 'tuscany', 4978: 'dimension', 4979: 'faux', 4980: 'saltine', 4981: 'familia', 4982: 'distress', 4983: 'jones', 4984: 'illustrated', 4985: 'genius', 4986: 'flakey', 4987: 'vice', 4988: 'dispensers', 4989: 'sassy', 4990: 'asleep', 4991: 'colas', 4992: 'instantly', 4993: 'tandoori', 4994: 'breadsticks', 4995: 'doodles', 4996: 'apply', 4997: 'tinged', 4998: 'bribe', 4999: 'necessity', 5000: 'aptly', 5001: 'named', 5002: 'curbs', 5003: 'extras', 5004: 'rosehip', 5005: 'guests', 5006: 'purist', 5007: 'personally', 5008: 'blair', 5009: 'essentials', 5010: 'sugarworks', 5011: 'debris', 5012: 'shortcake', 5013: 'mainly', 5014: 'spreadable', 5015: 'ymmv', 5016: 'regularly', 5017: 'squashed', 5018: 'float', 5019: 'boat', 5020: 'sockeye', 5021: 'skinners', 5022: 'autistic', 5023: 'gouge', 5024: 'vending', 5025: 'glucosamine', 5026: 'ripe', 5027: 'skyline', 5028: 'flavorings', 5029: 'milka', 5030: 'soybean', 5031: 'scooper', 5032: 'indestructible', 5033: 'digestible', 5034: 'downhill', 5035: 'informative', 5036: 'teenager', 5037: 'nuff', 5038: 'yowza', 5039: 'rejuvenating', 5040: 'promises', 5041: 'celebration', 5042: 'deceitful', 5043: 'trolli', 5044: 'miserable', 5045: 'refuse', 5046: 'mochi', 5047: 'tartlets', 5048: 'pollen', 5049: 'blending', 5050: 'crabmeat', 5051: 'wide', 5052: 'dolmas', 5053: 'kodiak', 5054: 'digital', 5055: 'potatos', 5056: 'comforting', 5057: 'relieved', 5058: 'apo', 5059: 'compact', 5060: 'sicilian', 5061: 'realistic', 5062: 'alaea', 5063: 'blossom', 5064: 'award', 5065: 'crystalized', 5066: 'germ', 5067: 'algae', 5068: 'grit', 5069: 'skewers', 5070: 'constipated', 5071: 'domino', 5072: 'hive', 5073: 'appreciate', 5074: 'fantasic', 5075: 'sarracenia', 5076: 'leucophylla', 5077: 'boscoli', 5078: 'throats', 5079: 'screw', 5080: 'lane', 5081: 'yolk', 5082: 'nylabones', 5083: 'kellog', 5084: 'cockapoo', 5085: 'reviewers', 5086: 'wished', 5087: 'perfecto', 5088: 'barn', 5089: 'poms', 5090: 'truvia', 5091: 'twisted', 5092: 'shoppe', 5093: 'forming', 5094: 'bailey', 5095: 'reordered', 5096: 'horizon', 5097: 'columbia', 5098: 'fajitas', 5099: 'munching', 5100: 'humans', 5101: 'latin', 5102: 'thanksgiving', 5103: 'thumb', 5104: 'thirsty', 5105: 'xmas', 5106: 'panko', 5107: 'licks', 5108: 'sparkle', 5109: 'snak', 5110: 'arent', 5111: 'licked', 5112: 'indulge', 5113: 'sand', 5114: 'chloe', 5115: 'unsweet', 5116: 'sunkist', 5117: 'pumpkins', 5118: 'vegitarian', 5119: 'gumballs', 5120: 'bisphenol', 5121: 'gratification', 5122: 'babka', 5123: 'toner', 5124: 'crunchies', 5125: 'lindy', 5126: 'crepes', 5127: 'co', 5128: 'workers', 5129: 'metal', 5130: 'weighing', 5131: 'north', 5132: 'drugstore', 5133: 'awesomeness', 5134: 'downsized', 5135: 'bigtime', 5136: 'setup', 5137: 'marketing', 5138: 'insanity', 5139: 'unavailable', 5140: 'peels', 5141: 'alessi', 5142: 'od', 5143: 'summertime', 5144: 'soil', 5145: 'beg', 5146: 'differ', 5147: 'freezing', 5148: 'graet', 5149: 'dececco', 5150: 'capellini', 5151: 'devious', 5152: 'porkrinds', 5153: 'dentist', 5154: 'baconaise', 5155: 'lowest', 5156: 'obviously', 5157: 'convienent', 5158: 'hostess', 5159: 'jerquee', 5160: 'garnish', 5161: 'figured', 5162: 'coffeemate', 5163: 'loads', 5164: 'greater', 5165: 'awfully', 5166: 'carousel', 5167: 'yummier', 5168: 'sophisticated', 5169: 'wheaten', 5170: 'suggest', 5171: 'apriva', 5172: 'yumo', 5173: 'carbonation', 5174: 'rices', 5175: 'oodles', 5176: 'diner', 5177: 'alot', 5178: 'biggest', 5179: 'versus', 5180: 'escargot', 5181: 'kmr', 5182: 'grrrreat', 5183: 'reduce', 5184: 'altoid', 5185: 'tobacco', 5186: 'breakfasts', 5187: 'digging', 5188: 'alvita', 5189: 'lets', 5190: 'boyardee', 5191: 'clove', 5192: 'dat', 5193: 'labrador', 5194: 'producto', 5195: 'cons', 5196: 'itching', 5197: 'heathly', 5198: 'multifaceted', 5199: 'menthol', 5200: 'smiley', 5201: 'pair', 5202: 'soldiers', 5203: 'afghanistan', 5204: 'looooove', 5205: 'station', 5206: 'pomegranite', 5207: 'warmed', 5208: 'trailmix', 5209: 'whatta', 5210: 'abit', 5211: 'tvp', 5212: 'munchy', 5213: 'dubble', 5214: 'shared', 5215: 'medication', 5216: 'peri', 5217: 'flatbread', 5218: 'kippered', 5219: 'created', 5220: 'wimpy', 5221: 'coo', 5222: 'humble', 5223: 'patch', 5224: 'creation', 5225: 'chester', 5226: 'xoxo', 5227: 'rats', 5228: 'stiff', 5229: 'sans', 5230: 'grossly', 5231: 'horray', 5232: 'potting', 5233: 'sticking', 5234: 'cheaply', 5235: 'bariatric', 5236: 'patients', 5237: 'weeds', 5238: 'bttls', 5239: 'metallic', 5240: 'hounds', 5241: 'cowboy', 5242: 'comparing', 5243: 'brews', 5244: 'duper', 5245: 'stabilizer', 5246: 'proper', 5247: 'rabitos', 5248: 'quaility', 5249: 'nutrigrain', 5250: 'snacky', 5251: 'advertise', 5252: 'horsetail', 5253: 'remebered', 5254: 'scoop', 5255: 'singles', 5256: 'struck', 5257: 'zatarain', 5258: 'pinhead', 5259: 'marionberry', 5260: 'supplies', 5261: 'choked', 5262: 'vibrant', 5263: 'nitrites', 5264: 'tase', 5265: 'disapointment', 5266: 'dogslove', 5267: 'advertized', 5268: 'fogchaser', 5269: 'dublin', 5270: 'soyrizo', 5271: 'somebody', 5272: 'ja', 5273: 'france', 5274: 'cheezy', 5275: 'trusted', 5276: 'alfredo', 5277: 'menu', 5278: 'tastiness', 5279: 'maya', 5280: 'bike', 5281: 'germination', 5282: 'sustainable', 5283: 'suited', 5284: 'picante', 5285: 'separates', 5286: 'stirring', 5287: 'chock', 5288: 'amazingness', 5289: 'energize', 5290: 'police', 5291: 'tepid', 5292: 'jungle', 5293: 'cinn', 5294: 'directed', 5295: 'crunchie', 5296: 'munchie', 5297: 'jet', 5298: 'lightweight', 5299: 'kongs', 5300: 'chicks', 5301: 'prize', 5302: 'multipurpose', 5303: 'nicest', 5304: 'yo', 5305: 'laden', 5306: 'uber', 5307: 'solutions', 5308: 'pull', 5309: 'conditions', 5310: 'candycane', 5311: 'oregano', 5312: 'rica', 5313: 'state', 5314: 'freshner', 5315: 'flowering', 5316: 'resort', 5317: 'warehouse', 5318: 'merguez', 5319: 'mays', 5320: 'constipating', 5321: 'ache', 5322: 'patient', 5323: 'houses', 5324: 'amla', 5325: 'universal', 5326: 'kobe', 5327: 'lotions', 5328: 'pkg', 5329: 'pkgs', 5330: 'classics', 5331: 'luzianne', 5332: 'tv', 5333: 'border', 5334: 'collie', 5335: 'geat', 5336: 'kavli', 5337: 'ladies', 5338: 'koi', 5339: 'momma', 5340: 'decision', 5341: 'angelina', 5342: 'clients', 5343: 'tahitian', 5344: 'later', 5345: 'bursting', 5346: 'thrives', 5347: 'detectable', 5348: 'spectrum', 5349: 'mack', 5350: 'orangemint', 5351: 'norcal', 5352: 'eggplant', 5353: 'sbux', 5354: 'practice', 5355: 'stella', 5356: 'evangers', 5357: 'nite', 5358: 'licorage', 5359: 'unsafe', 5360: 'venison', 5361: 'infested', 5362: 'cj', 5363: 'hottest', 5364: 'butterscotch', 5365: 'february', 5366: 'required', 5367: 'chemo', 5368: 'rashers', 5369: 'homerun', 5370: 'stain', 5371: 'rific', 5372: 'allergens', 5373: 'penta', 5374: 'benefit', 5375: 'bouquet', 5376: 'fluid', 5377: 'yorkiepoo', 5378: 'verified', 5379: 'ben', 5380: 'blows', 5381: 'midnight', 5382: 'sigh', 5383: 'teeny', 5384: 'nips', 5385: 'ojai', 5386: 'lemonaise', 5387: 'disposa', 5388: 'nicer', 5389: 'taj', 5390: 'mahal', 5391: 'chardonnay', 5392: 'tastebuds', 5393: 'jr', 5394: 'grassfed', 5395: 'applied', 5396: 'awefull', 5397: 'rubs', 5398: 'tongue', 5399: 'eatable', 5400: 'hopes', 5401: 'learning', 5402: 'shoe', 5403: 'americana', 5404: 'central', 5405: 'macchiatos', 5406: 'sinful', 5407: 'martha', 5408: 'nearby', 5409: 'mislead', 5410: 'vacuum', 5411: 'lotta', 5412: 'includes', 5413: 'initial', 5414: 'misrepresentation', 5415: 'yamamotoyama', 5416: 'alittle', 5417: 'amaaaaaaazing', 5418: 'plantation', 5419: 'legendary', 5420: 'fido', 5421: 'superman', 5422: 'bisto', 5423: 'dalmatian', 5424: 'ferns', 5425: 'indescribably', 5426: 'floor', 5427: 'glutin', 5428: 'spill', 5429: 'groats', 5430: 'rat', 5431: 'grinds', 5432: 'dalfour', 5433: 'grated', 5434: 'inn', 5435: 'satay', 5436: 'lightening', 5437: 'quanity', 5438: 'ahhh', 5439: 'revelation', 5440: 'boil', 5441: 'greeen', 5442: 'sassafras', 5443: 'midday', 5444: 'marriage', 5445: 'industrial', 5446: 'awake', 5447: 'shin', 5448: 'hulless', 5449: 'olivella', 5450: 'honestly', 5451: 'arare', 5452: 'experiment', 5453: 'prepared', 5454: 'coach', 5455: 'spaetzle', 5456: 'iranian', 5457: 'satisfactory', 5458: 'cobbler', 5459: 'coated', 5460: 'started', 5461: 'passes', 5462: 'lord', 5463: 'cocktails', 5464: 'pillsbury', 5465: 'dropped', 5466: 'replacing', 5467: 'sandy', 5468: 'beanboozled', 5469: 'barilla', 5470: 'shelves', 5471: 'bionature', 5472: 'savu', 5473: 'sonny', 5474: 'grand', 5475: 'pac', 5476: 'unbeatable', 5477: 'gfi', 5478: 'romano', 5479: 'confirmed', 5480: 'poke', 5481: 'castor', 5482: 'smackin', 5483: 'beaba', 5484: 'pikes', 5485: 'nutter', 5486: 'critical', 5487: 'polish', 5488: 'flood', 5489: 'snacker', 5490: 'darjeeling', 5491: 'maintenance', 5492: 'currants', 5493: 'baxter', 5494: 'lily', 5495: 'spoken', 5496: 'occassions', 5497: 'duped', 5498: 'popper', 5499: 'grammy', 5500: 'paying', 5501: 'est', 5502: 'considered', 5503: 'seals', 5504: 'bing', 5505: 'cretors', 5506: 'sunmaid', 5507: 'vera', 5508: 'reese', 5509: 'confuses', 5510: 'seven', 5511: 'hills', 5512: 'cr', 5513: 'babysitting', 5514: 'biscoff', 5515: 'agrees', 5516: 'itchy', 5517: 'worthington', 5518: 'grrrrrrreat', 5519: 'sweety', 5520: 'nutrish', 5521: 'lattes', 5522: 'tub', 5523: 'hurry', 5524: 'geriatric', 5525: 'allure', 5526: 'avoiding', 5527: 'fruits', 5528: 'peanutbutter', 5529: 'caterpillar', 5530: 'legal', 5531: 'raisen', 5532: 'sharing', 5533: 'mineral', 5534: 'functional', 5535: 'ann', 5536: 'codd', 5537: 'maynard', 5538: 'filets', 5539: 'ends', 5540: 'jolokia', 5541: 'virbac', 5542: 'mg', 5543: 'popocorn', 5544: 'hometown', 5545: 'hocks', 5546: 'excellently', 5547: 'breaking', 5548: 'nose', 5549: 'lick', 5550: 'brazil', 5551: 'wallet', 5552: 'charity', 5553: 'sanity', 5554: 'beetle', 5555: 'amaretto', 5556: 'weakest', 5557: 'harmful', 5558: 'redwood', 5559: 'flashback', 5560: 'airborne', 5561: 'coooool', 5562: 'payday', 5563: 'purposes', 5564: 'downright', 5565: 'nutritiously', 5566: 'goodlife', 5567: 'fern', 5568: 'goats', 5569: 'misunderstood', 5570: 'autumn', 5571: 'ting', 5572: 'whoopie', 5573: 'og', 5574: 'impression', 5575: 'agressive', 5576: 'bust', 5577: 'amos', 5578: 'official', 5579: 'moon', 5580: 'runts', 5581: 'hartz', 5582: 'africa', 5583: 'odorless', 5584: 'minimum', 5585: 'ferrets', 5586: 'spiciness', 5587: 'blessing', 5588: 'logs', 5589: 'ours', 5590: 'capsule', 5591: 'losing', 5592: 'carbquick', 5593: 'sky', 5594: 'purchasing', 5595: 'leg', 5596: 'likey', 5597: 'miniature', 5598: 'thoughts', 5599: 'challenging', 5600: 'declicious', 5601: 'toilet', 5602: 'image', 5603: 'tek', 5604: 'tum', 5605: 'timothys', 5606: 'brazilian', 5607: 'doxie', 5608: 'measurements', 5609: 'thee', 5610: 'chocula', 5611: 'bisquits', 5612: 'pate', 5613: 'sherry', 5614: 'cocker', 5615: 'spaniel', 5616: 'stomache', 5617: 'frog', 5618: 'whee', 5619: 'quest', 5620: 'barfing', 5621: 'normally', 5622: 'terra', 5623: 'krinkle', 5624: 'irresistable', 5625: 'batches', 5626: 'terry', 5627: 'intact', 5628: 'delisious', 5629: 'checkout', 5630: 'fudgy', 5631: 'born', 5632: 'car', 5633: 'noms', 5634: 'loooove', 5635: 'spent', 5636: 'pussy', 5637: 'mollie', 5638: 'proven', 5639: 'ehhhhh', 5640: 'dunking', 5641: 'spits', 5642: 'update', 5643: 'essenza', 5644: 'crop', 5645: 'flavourful', 5646: 'powerhouse', 5647: 'itch', 5648: 'stinger', 5649: 'stole', 5650: 'preparation', 5651: 'trident', 5652: 'told', 5653: 'craft', 5654: 'ruins', 5655: 'bands', 5656: 'clover', 5657: 'fill', 5658: 'conveniently', 5659: 'wakeup', 5660: 'recyclable', 5661: 'across', 5662: 'australia', 5663: 'chewable', 5664: 'fru', 5665: 'grreat', 5666: 'beefeaters', 5667: 'request', 5668: 'coleslaw', 5669: 'karen', 5670: 'cuts', 5671: 'ml', 5672: 'vintage', 5673: 'permanent', 5674: 'shitzu', 5675: 'furniture', 5676: 'suggests', 5677: 'lake', 5678: 'changes', 5679: 'aspertame', 5680: 'cousin', 5681: 'mannheim', 5682: 'hs', 5683: 'worm', 5684: 'feminine', 5685: 'dakine', 5686: 'stack', 5687: 'drowsiness', 5688: 'straws', 5689: 'pep', 5690: 'cutter', 5691: 'jake', 5692: 'stamped', 5693: 'rush', 5694: 'pacific', 5695: 'bengal', 5696: 'cube', 5697: 'healthfood', 5698: 'thrown', 5699: 'pomegranates', 5700: 'arf', 5701: 'spotted', 5702: 'bargin', 5703: 'eligible', 5704: 'loco', 5705: 'canines', 5706: 'resolved', 5707: 'accent', 5708: 'voxbox', 5709: 'neutral', 5710: 'placebo', 5711: 'refund', 5712: 'molded', 5713: 'mackerel', 5714: 'stadium', 5715: 'brushing', 5716: 'downfall', 5717: 'include', 5718: 'qa', 5719: 'snickerdoodles', 5720: 'wally', 5721: 'savor', 5722: 'isnt', 5723: 'hybrid', 5724: 'haven', 5725: 'unappetizing', 5726: 'integrity', 5727: 'greats', 5728: 'jax', 5729: 'kickin', 5730: 'jamaican', 5731: 'chives', 5732: 'vietnam', 5733: 'pretz', 5734: 'precious', 5735: 'critters', 5736: 'moravian', 5737: 'fa', 5738: 'smalls', 5739: 'ziplock', 5740: 'desk', 5741: 'pastry', 5742: 'waking', 5743: 'hungarian', 5744: 'falsely', 5745: 'cozy', 5746: 'needle', 5747: 'squid', 5748: 'rides', 5749: 'minis', 5750: 'catmilk', 5751: 'meatloaf', 5752: 'chipped', 5753: 'propylene', 5754: 'glycol', 5755: 'sweaty', 5756: 'maeda', 5757: 'jerk', 5758: 'wowed', 5759: 'mongolian', 5760: 'unsure', 5761: 'canceling', 5762: 'jamica', 5763: 'garlicky', 5764: 'celery', 5765: 'anchovy', 5766: 'perspective', 5767: 'eww', 5768: 'croissants', 5769: 'quackers', 5770: 'ethical', 5771: 'bladder', 5772: 'chocolote', 5773: 'hellmann', 5774: 'orangy', 5775: 'warmth', 5776: 'zante', 5777: 'chasing', 5778: 'coats', 5779: 'roxy', 5780: 'hotdog', 5781: 'stellar', 5782: 'foster', 5783: 'crabcakes', 5784: 'bath', 5785: 'peanutty', 5786: 'destrooper', 5787: 'grocer', 5788: 'smooooth', 5789: 'devine', 5790: 'rio', 5791: 'kadoya', 5792: 'charge', 5793: 'sodastream', 5794: 'mulling', 5795: 'legged', 5796: 'trays', 5797: 'arrives', 5798: 'muss', 5799: 'thickness', 5800: 'mung', 5801: 'experimental', 5802: 'greeenies', 5803: 'choo', 5804: 'hydrated', 5805: 'orders', 5806: 'charles', 5807: 'vegetarians', 5808: 'luscious', 5809: 'mmgood', 5810: 'impress', 5811: 'queen', 5812: 'toppers', 5813: 'cheezit', 5814: 'felt', 5815: 'pacifier', 5816: 'garibaldi', 5817: 'nestle', 5818: 'bloating', 5819: 'boba', 5820: 'paradise', 5821: 'gain', 5822: 'currant', 5823: 'poppyseed', 5824: 'units', 5825: 'wayy', 5826: 'quench', 5827: 'strictly', 5828: 'thistle', 5829: 'bubblegum', 5830: 'rediculous', 5831: 'sobe', 5832: 'snake', 5833: 'plentiful', 5834: 'warms', 5835: 'goooooood', 5836: 'manner', 5837: 'similac', 5838: 'ratings', 5839: 'sadaf', 5840: 'ran', 5841: 'ruff', 5842: 'pixy', 5843: 'restuarant', 5844: 'truson', 5845: 'thus', 5846: 'dragon', 5847: 'ju', 5848: 'meringue', 5849: 'shipments', 5850: 'thickener', 5851: 'devours', 5852: 'toxic', 5853: 'iodine', 5854: 'suppose', 5855: 'lakes', 5856: 'setting', 5857: 'colony', 5858: 'anniversary', 5859: 'fibergourmet', 5860: 'travels', 5861: 'happytots', 5862: 'fluoride', 5863: 'rough', 5864: 'amaranth', 5865: 'kame', 5866: 'robbery', 5867: 'breading', 5868: 'kiddy', 5869: 'squirrel', 5870: 'poodles', 5871: 'softens', 5872: 'till', 5873: 'salon', 5874: 'noticeable', 5875: 'fanatics', 5876: 'mar', 5877: 'crips', 5878: 'fare', 5879: 'parma', 5880: 'responsible', 5881: 'ito', 5882: 'amazons', 5883: 'nc', 5884: 'opposite', 5885: 'fattening', 5886: 'cage', 5887: 'yuccchhhhh', 5888: 'foodtek', 5889: 'ooh', 5890: 'bouliion', 5891: 'restocked', 5892: 'mandoline', 5893: 'slicer', 5894: 'saying', 5895: 'genious', 5896: 'countryside', 5897: 'tempura', 5898: 'eliminates', 5899: 'juniors', 5900: 'outrageious', 5901: 'tay', 5902: 'stee', 5903: 'elixir', 5904: 'nt', 5905: 'poopcorn', 5906: 'unacceptably', 5907: 'tarter', 5908: 'occassion', 5909: 'losers', 5910: 'critique', 5911: 'sourced', 5912: 'praline', 5913: 'ocha', 5914: 'dinobone', 5915: 'pastuerized', 5916: 'hock', 5917: 'fiz', 5918: 'desi', 5919: 'msjbird', 5920: 'faint', 5921: 'pale', 5922: 'redeeming', 5923: 'synonymous', 5924: 'drives', 5925: 'bush', 5926: 'stunned', 5927: 'completly', 5928: 'tamers', 5929: 'oughtta', 5930: 'fireball', 5931: 'bulging', 5932: 'yummylicious', 5933: 'essiac', 5934: 'ruv', 5935: 'jazz', 5936: 'tna', 5937: 'rainbow', 5938: 'lays', 5939: 'doxies', 5940: 'comprehension', 5941: 'glitter', 5942: 'russo', 5943: 'zap', 5944: 'luster', 5945: 'judith', 5946: 'pita', 5947: 'marry', 5948: 'aaaccchhh', 5949: 'equivalent', 5950: 'tobasco', 5951: 'lines', 5952: 'ziggies', 5953: 'russel', 5954: 'droool', 5955: 'azmira', 5956: 'deans', 5957: 'botanica', 5958: 'sfbay', 5959: 'charging', 5960: 'bg', 5961: 'weekend', 5962: 'polynesian', 5963: 'rosie', 5964: 'lumpfish', 5965: 'blandness', 5966: 'frys', 5967: 'branded', 5968: 'jasian', 5969: 'vitalife', 5970: 'deter', 5971: 'rodents', 5972: 'zevias', 5973: 'frappe', 5974: 'luvers', 5975: 'gummys', 5976: 'longest', 5977: 'lee', 5978: 'streit', 5979: 'enrrgy', 5980: 'majorly', 5981: 'lining', 5982: 'hokey', 5983: 'smokes', 5984: 'interchangeable', 5985: 'smkey', 5986: 'noodlicious', 5987: 'fritzi', 5988: 'havent', 5989: 'slowing', 5990: 'dnb', 5991: 'swapinc', 5992: 'angelhair', 5993: 'ski', 5994: 'sanitation', 5995: 'iridescent', 5996: 'pixie', 5997: 'tes', 5998: 'exacty', 5999: 'staying', 6000: 'avast', 6001: 'shiver', 6002: 'timbers', 6003: 'moscato', 6004: 'vine', 6005: 'warn', 6006: 'pekingese', 6007: 'violently', 6008: 'jojo', 6009: 'experi', 6010: 'terror', 6011: 'wind', 6012: 'prie', 6013: 'garbonzo', 6014: 'ox', 6015: 'waker', 6016: 'garret', 6017: 'franciso', 6018: 'unreasonably', 6019: 'darjelling', 6020: 'places', 6021: 'rex', 6022: 'ectasy', 6023: 'croix', 6024: 'vox', 6025: 'robin', 6026: 'hood', 6027: 'jstockton', 6028: 'twizzler', 6029: 'file', 6030: 'kasha', 6031: 'ounc', 6032: 'cescob', 6033: 'uncommon', 6034: 'biold', 6035: 'reman', 6036: 'kim', 6037: 'chee', 6038: 'sachet', 6039: 'eternally', 6040: 'patently', 6041: 'riceworks', 6042: 'unite', 6043: 'quieted', 6044: 'dyeing', 6045: 'fibers', 6046: 'magma', 6047: 'occupy', 6048: 'flypaper', 6049: 'sooooooooo', 6050: 'designed', 6051: 'dogwell', 6052: 'cecco', 6053: 'lapped', 6054: 'chipolle', 6055: 'fda', 6056: 'pancreatitis', 6057: 'tortas', 6058: 'overpowered', 6059: 'breeze', 6060: 'tahina', 6061: 'improving', 6062: 'sticker', 6063: 'buonissimo', 6064: 'rubbing', 6065: 'enoyable', 6066: 'spilt', 6067: 'jullienne', 6068: 'disposal', 6069: 'marked', 6070: 'studies', 6071: 'dances', 6072: 'thermometers', 6073: 'claws', 6074: 'orangey', 6075: 'tangeriney', 6076: 'figgy', 6077: 'yummyy', 6078: 'glute', 6079: 'litttle', 6080: 'elite', 6081: 'variations', 6082: 'deez', 6083: 'nutz', 6084: 'bischon', 6085: 'intuitive', 6086: 'mission', 6087: 'proportions', 6088: 'morph', 6089: 'incompetent', 6090: 'hawaian', 6091: 'regards', 6092: 'cheetah', 6093: 'allegry', 6094: 'dinos', 6095: 'appetit', 6096: 'steamed', 6097: 'sec', 6098: 'vidalia', 6099: 'newbies', 6100: 'brandy', 6101: 'ohmygodisitgoood', 6102: 'tim', 6103: 'horton', 6104: 'theday', 6105: 'counters', 6106: 'aegean', 6107: 'dum', 6108: 'dums', 6109: 'chocococo', 6110: 'whilesome', 6111: 'robusta', 6112: 'ugghhhhhh', 6113: 'adverstising', 6114: 'measure', 6115: 'acv', 6116: 'colicky', 6117: 'poopsie', 6118: 'underrated', 6119: 'wunderbar', 6120: 'absoloutly', 6121: 'uhhhhhh', 6122: 'flavorite', 6123: 'sascat', 6124: 'tries', 6125: 'himself', 6126: 'bertie', 6127: 'bots', 6128: 'abot', 6129: 'poisons', 6130: 'krafty', 6131: 'finishes', 6132: 'steep', 6133: 'briefly', 6134: 'biscuitlets', 6135: 'olewo', 6136: 'pax', 6137: 'romani', 6138: 'aceti', 6139: 'wars', 6140: 'oxymoronic', 6141: 'bluebirds', 6142: 'stayed', 6143: 'bons', 6144: 'polyanna', 6145: 'terrabone', 6146: 'membership', 6147: 'perfomance', 6148: 'ha', 6149: 'deviled', 6150: 'begin', 6151: 'indeedy', 6152: 'practicing', 6153: 'congou', 6154: 'tighly', 6155: 'anisette', 6156: 'ripened', 6157: 'omigosh', 6158: 'gained', 6159: 'farts', 6160: 'flava', 6161: 'restaurents', 6162: 'cirmi', 6163: 'favoritr', 6164: 'hebal', 6165: 'drool', 6166: 'branstolicious', 6167: 'midwest', 6168: 'create', 6169: 'welcomed', 6170: 'rosita', 6171: 'thses', 6172: 'favoritte', 6173: 'barrel', 6174: 'tarallini', 6175: 'theaters', 6176: 'fiberone', 6177: 'stingwer', 6178: 'destination', 6179: 'bledie', 6180: 'lekker', 6181: 'overstatement', 6182: 'vicki', 6183: 'teacup', 6184: 'shaking', 6185: 'stimulant', 6186: 'replicate', 6187: 'lentis', 6188: 'whales', 6189: 'lemonylicious', 6190: 'amedei', 6191: 'concentrates', 6192: 'gelvalia', 6193: 'aaahhhhhh', 6194: 'moisturizing', 6195: 'softener', 6196: 'xanthan', 6197: 'worls', 6198: 'slower', 6199: 'priority', 6200: 'bionaturae', 6201: 'pappardell', 6202: 'triscuits', 6203: 'videos', 6204: 'tao', 6205: 'vile', 6206: 'lawry', 6207: 'mixoligy', 6208: 'fin', 6209: 'roots', 6210: 'tantaling', 6211: 'chocolatety', 6212: 'florist', 6213: 'splits', 6214: 'necap', 6215: 'refillable', 6216: 'teriaki', 6217: 'stunningly', 6218: 'dimensions', 6219: 'missie', 6220: 'professor', 6221: 'awesomest', 6222: 'eastman', 6223: 'cell', 6224: 'prawn', 6225: 'hairy', 6226: 'adjust', 6227: 'shazo', 6228: 'steve', 6229: 'definitively', 6230: 'delicously', 6231: 'elves', 6232: 'br', 6233: 'firming', 6234: 'tastin', 6235: 'marker', 6236: 'fishes', 6237: 'aching', 6238: 'joints', 6239: 'endless', 6240: 'molassas', 6241: 'processors', 6242: 'generally', 6243: 'sonora', 6244: 'envirokid', 6245: 'curl', 6246: 'unbeleivable', 6247: 'noticablely', 6248: 'aznd', 6249: 'retained', 6250: 'glitch', 6251: 'hospital', 6252: 'lowers', 6253: 'agra', 6254: 'teasy', 6255: 'emphasis', 6256: 'cadbury', 6257: 'tha', 6258: 'measured', 6259: 'humongus', 6260: 'metrx', 6261: 'absolutley', 6262: 'dynamic', 6263: 'gran', 6264: 'collezione', 6265: 'fizziness', 6266: 'ammonia', 6267: 'goody', 6268: 'decilious', 6269: 'chessy', 6270: 'papillions', 6271: 'sososo', 6272: 'raised', 6273: 'seeing', 6274: 'nector', 6275: 'affordably', 6276: 'thanking', 6277: 'haves', 6278: 'compliment', 6279: 'initially', 6280: 'kebob', 6281: 'lysanders', 6282: 'teaching', 6283: 'nad', 6284: 'nobody', 6285: 'opener', 6286: 'sojos', 6287: 'shoulders', 6288: 'elusive', 6289: 'abso', 6290: 'vegit', 6291: 'kringle', 6292: 'cicco', 6293: 'linguine', 6294: 'tease', 6295: 'reccomended', 6296: 'muchas', 6297: 'gracias', 6298: 'fatal', 6299: 'juuuuust', 6300: 'liqueur', 6301: 'marathons', 6302: 'nicole', 6303: 'wears', 6304: 'marrons', 6305: 'glaces', 6306: 'fizzier', 6307: 'haupia', 6308: 'mande', 6309: 'recalled', 6310: 'lemonhead', 6311: 'sweetie', 6312: 'legacy', 6313: 'screwed', 6314: 'dreamafields', 6315: 'husker', 6316: 'mrp', 6317: 'deeeeeeee', 6318: 'contradicting', 6319: 'language', 6320: 'barrier', 6321: 'britt', 6322: 'chereos', 6323: 'tigger', 6324: 'maltedmultigrain', 6325: 'wafflemix', 6326: 'puhleeeeeeeeeeeez', 6327: 'bullmastiff', 6328: 'meaningful', 6329: 'prce', 6330: 'hayfever', 6331: 'finncrisp', 6332: 'gra', 6333: 'undecided', 6334: 'suffering', 6335: 'cracks', 6336: 'abound', 6337: 'compensation', 6338: 'matzo', 6339: 'farfel', 6340: 'fortified', 6341: 'hummy', 6342: 'bacterial', 6343: 'occasionally', 6344: 'aussies', 6345: 'annoying', 6346: 'cases', 6347: 'sulfites', 6348: 'consultant', 6349: 'thomy', 6350: 'maniac', 6351: 'equalizer', 6352: 'gnawhides', 6353: 'flavorz', 6354: 'extremly', 6355: 'replaced', 6356: 'couples', 6357: 'shady', 6358: 'bridge', 6359: 'cuttiest', 6360: 'century', 6361: 'wayyyyyy', 6362: 'bleach', 6363: 'lumpy', 6364: 'workday', 6365: 'claim', 6366: 'kh', 6367: 'chike', 6368: 'sweats', 6369: 'sergeant', 6370: 'marinades', 6371: 'blossoms', 6372: 'sixth', 6373: 'advise', 6374: 'kar', 6375: 'geeta', 6376: 'wissotzky', 6377: 'char', 6378: 'asafoetida', 6379: 'robery', 6380: 'jasmati', 6381: 'bbbbbbarley', 6382: 'outweigh', 6383: 'presels', 6384: 'tagline', 6385: 'reversed', 6386: 'kiddies', 6387: 'shining', 6388: 'shihpoo', 6389: 'mori', 6390: 'bizarre', 6391: 'sassafrass', 6392: 'nutrisoda', 6393: 'belief', 6394: 'exceptable', 6395: 'jeri', 6396: 'ca', 6397: 'existence', 6398: 'sarge', 6399: 'blow', 6400: 'backpacking', 6401: 'viva', 6402: 'mugicha', 6403: 'prpduct', 6404: 'prostate', 6405: 'slushy', 6406: 'eez', 6407: 'tri', 6408: 'paks', 6409: 'papua', 6410: 'sourdough', 6411: 'nutrion', 6412: 'fussiness', 6413: 'evidence', 6414: 'saucesome', 6415: 'hygrade', 6416: 'guidance', 6417: 'woudn', 6418: 'westies', 6419: 'netrition', 6420: 'bo', 6421: 'marshmellow', 6422: 'bakers', 6423: 'buddies', 6424: 'saltly', 6425: 'emerill', 6426: 'pigg', 6427: 'jane', 6428: 'rehydrating', 6429: 'cinninot', 6430: 'achva', 6431: 'screaming', 6432: 'kicks', 6433: 'challenged', 6434: 'inhalers', 6435: 'steamship', 6436: 'valentines', 6437: 'hints', 6438: 'ridge', 6439: 'tapoiocca', 6440: 'humm', 6441: 'millstone', 6442: 'beaver', 6443: 'confident', 6444: 'trend', 6445: 'pinto', 6446: 'ocean', 6447: 'valerie', 6448: 'magster', 6449: 'disguising', 6450: 'moos', 6451: 'consistenly', 6452: 'detangling', 6453: 'celestia', 6454: 'teenage', 6455: 'rotton', 6456: 'schrumshist', 6457: 'looovee', 6458: 'jennifer', 6459: 'wholesale', 6460: 'ghanouge', 6461: 'cairn', 6462: 'tzus', 6463: 'pekinese', 6464: 'index', 6465: 'wideride', 6466: 'addicitive', 6467: 'zots', 6468: 'ecology', 6469: 'samplers', 6470: 'friggin', 6471: 'valuable', 6472: 'straightforward', 6473: 'outthere', 6474: 'shocking', 6475: 'detest', 6476: 'peanuty', 6477: 'muselix', 6478: 'giner', 6479: 'ahhhhhhhhhhhhhh', 6480: 'bleeeeeeeeeeeeeeeeeeeeeeech', 6481: 'attempt', 6482: 'calmer', 6483: 'robert', 6484: 'june', 6485: 'burritos', 6486: 'gustav', 6487: 'sleepytime', 6488: 'suuuper', 6489: 'grahms', 6490: 'drawing', 6491: 'forest', 6492: 'sicily', 6493: 'stroopwafels', 6494: 'wafels', 6495: 'hob', 6496: 'nobs', 6497: 'diaper', 6498: 'deborah', 6499: 'cholesteroal', 6500: 'bonkers', 6501: 'heavily', 6502: 'chivey', 6503: 'pairing', 6504: 'plato', 6505: 'bllue', 6506: 'hallelujah', 6507: 'oilcancharley', 6508: 'notinstant', 6509: 'looooong', 6510: 'hmo', 6511: 'pcs', 6512: 'evergreen', 6513: 'joulie', 6514: 'barbecued', 6515: 'extravagance', 6516: 'franken', 6517: 'indispensable', 6518: 'gifted', 6519: 'thickner', 6520: 'greyhound', 6521: 'mopo', 6522: 'carmine', 6523: 'sweetners', 6524: 'arrr', 6525: 'mspi', 6526: 'regimen', 6527: 'kinetic', 6528: 'kraziness', 6529: 'capacity', 6530: 'frites', 6531: 'cottonmouth', 6532: 'treaty', 6533: 'jeremiahs', 6534: 'xtreme', 6535: 'gene', 6536: 'qualiy', 6537: 'occupies', 6538: 'coleman', 6539: 'sk', 6540: 'lucini', 6541: 'containing', 6542: 'alice', 6543: 'medicating', 6544: 'crescent', 6545: 'ludicrous', 6546: 'opion', 6547: 'sides', 6548: 'staff', 6549: 'study', 6550: 'besides', 6551: 'shave', 6552: 'insurance', 6553: 'desperation', 6554: 'debbie', 6555: 'receiving', 6556: 'discovering', 6557: 'buuut', 6558: 'tipping', 6559: 'siwiec', 6560: 'quicker', 6561: 'meiji', 6562: 'goto', 6563: 'brightest', 6564: 'partners', 6565: 'wisecrackers', 6566: 'layered', 6567: 'daniels', 6568: 'earlier', 6569: 'mott', 6570: 'yogart', 6571: 'adver', 6572: 'rewards', 6573: 'excelentes', 6574: 'versatility', 6575: 'braided', 6576: 'snobby', 6577: 'shiitake', 6578: 'everrr', 6579: 'deeeeeeeee', 6580: 'edema', 6581: 'swollen', 6582: 'ankles', 6583: 'juicer', 6584: 'suppress', 6585: 'appetite', 6586: 'victorian', 6587: 'lace', 6588: 'madagascar', 6589: 'bourbon', 6590: 'carnation', 6591: 'maravilloso', 6592: 'removable', 6593: 'connected', 6594: 'preorder', 6595: 'hondo', 6596: 'lior', 6597: 'smores', 6598: 'archway', 6599: 'airline', 6600: 'shippping', 6601: 'lager', 6602: 'pitbull', 6603: 'maltise', 6604: 'glutened', 6605: 'leader', 6606: 'flazseed', 6607: 'pleasent', 6608: 'offset', 6609: 'playdough', 6610: 'sizzling', 6611: 'ahh', 6612: 'wp', 6613: 'swans', 6614: 'edited', 6615: 'refill', 6616: 'madness', 6617: 'wire', 6618: 'caffine', 6619: 'casing', 6620: 'husk', 6621: 'engineering', 6622: 'pauper', 6623: 'pizzelle', 6624: 'hatch', 6625: 'healthys', 6626: 'smack', 6627: 'delouse', 6628: 'forgetaboutit', 6629: 'buried', 6630: 'stashi', 6631: 'cosmos', 6632: 'novelty', 6633: 'rainy', 6634: 'seashells', 6635: 'step', 6636: 'tident', 6637: 'mip', 6638: 'oranginaish', 6639: 'fiji', 6640: 'sholud', 6641: 'overbake', 6642: 'wegman', 6643: 'quenching', 6644: 'redskins', 6645: 'baught', 6646: 'committed', 6647: 'awfull', 6648: 'porduct', 6649: 'farro', 6650: 'wiggly', 6651: 'sssshhhh', 6652: 'pans', 6653: 'izzes', 6654: 'souper', 6655: 'pasteurized', 6656: 'astringent', 6657: 'guatemalan', 6658: 'iby', 6659: 'astronaut', 6660: 'desired', 6661: 'biodegradable', 6662: 'sucrets', 6663: 'mode', 6664: 'seahawks', 6665: 'croatian', 6666: 'verry', 6667: 'restaraunts', 6668: 'berrylicious', 6669: 'typo', 6670: 'nutrients', 6671: 'tenessee', 6672: 'lightnin', 6673: 'customary', 6674: 'candidate', 6675: 'banned', 6676: 'substances', 6677: 'starr', 6678: 'foreign', 6679: 'nachos', 6680: 'prem', 6681: 'albeit', 6682: 'slide', 6683: 'africafe', 6684: 'growup', 6685: 'contamination', 6686: 'settings', 6687: 'dellicious', 6688: 'pleasingly', 6689: 'keurigs', 6690: 'allday', 6691: 'kate', 6692: 'seattlelee', 6693: 'supervision', 6694: 'freight', 6695: 'jerusalem', 6696: 'superlight', 6697: 'substitutes', 6698: 'palmiers', 6699: 'wal', 6700: 'mart', 6701: 'werithers', 6702: 'ballpark', 6703: 'baseball', 6704: 'suave', 6705: 'expeller', 6706: 'twings', 6707: 'speaks', 6708: 'breezy', 6709: 'feeds', 6710: 'yougurt', 6711: 'yuummy', 6712: 'quit', 6713: 'pam', 6714: 'applejuice', 6715: 'mechanically', 6716: 'separated', 6717: 'promotes', 6718: 'differently', 6719: 'bible', 6720: 'reserve', 6721: 'gouda', 6722: 'rajah', 6723: 'ginerbread', 6724: 'blackjack', 6725: 'monitor', 6726: 'latency', 6727: 'bodywash', 6728: 'oliver', 6729: 'blew', 6730: 'rays', 6731: 'dryest', 6732: 'oakcakes', 6733: 'overprice', 6734: 'lollies', 6735: 'swimming', 6736: 'pool', 6737: 'cs', 6738: 'fofanalana', 6739: 'snout', 6740: 'coronas', 6741: 'akita', 6742: 'swapped', 6743: 'delay', 6744: 'consul', 6745: 'giraffes', 6746: 'queso', 6747: 'spark', 6748: 'moisture', 6749: 'donkeys', 6750: 'ording', 6751: 'sundae', 6752: 'hazzard', 6753: 'frappuccino', 6754: 'mountian', 6755: 'plated', 6756: 'aussi', 6757: 'licorce', 6758: 'remy', 6759: 'martin', 6760: 'annual', 6761: 'houseboat', 6762: 'yummlicious', 6763: 'heidi', 6764: 'marybeth', 6765: 'peoper', 6766: 'figaro', 6767: 'fabulosa', 6768: 'hazards', 6769: 'darjeeking', 6770: 'suprising', 6771: 'spaces', 6772: 'queasy', 6773: 'shiznit', 6774: 'delious', 6775: 'buiscuits', 6776: 'sunstrike', 6777: 'cocacola', 6778: 'cared', 6779: 'kibbles', 6780: 'threads', 6781: 'toppings', 6782: 'domestic', 6783: 'towels', 6784: 'gfree', 6785: 'sweetheart', 6786: 'rd', 6787: 'ingred', 6788: 'gon', 6789: 'toddles', 6790: 'blown', 6791: 'bubba', 6792: 'stover', 6793: 'redbard', 6794: 'jordon', 6795: 'curds', 6796: 'hopies', 6797: 'clumpiness', 6798: 'warnings', 6799: 'dull', 6800: 'idiot', 6801: 'guide', 6802: 'gummybears', 6803: 'geliva', 6804: 'doll', 6805: 'tropicana', 6806: 'jumps', 6807: 'fortnightly', 6808: 'bodybuilders', 6809: 'bigtaz', 6810: 'tuff', 6811: 'phillipines', 6812: 'dosen', 6813: 'shelter', 6814: 'boss', 6815: 'liters', 6816: 'tempted', 6817: 'lowry', 6818: 'safers', 6819: 'marshall', 6820: 'oboy', 6821: 'orderhappy', 6822: 'dignified', 6823: 'bubblemint', 6824: 'extermely', 6825: 'shrinkage', 6826: 'foood', 6827: 'hibachi', 6828: 'herbalist', 6829: 'terrrrific', 6830: 'revamped', 6831: 'continues', 6832: 'mudcat', 6833: 'front', 6834: 'worthles', 6835: 'annies', 6836: 'babel', 6837: 'culture', 6838: 'grrrrreat', 6839: 'amazin', 6840: 'reminiscent', 6841: 'hangovers', 6842: 'dose', 6843: 'penicillin', 6844: 'stream', 6845: 'fantastick', 6846: 'hotsauces', 6847: 'believing', 6848: 'splurge', 6849: 'audience', 6850: 'pickup', 6851: 'imperial', 6852: 'vanishes', 6853: 'pickme', 6854: 'quck', 6855: 'wellington', 6856: 'dentabites', 6857: 'volumize', 6858: 'undiscovered', 6859: 'stingy', 6860: 'reeds', 6861: 'malty', 6862: 'hasta', 6863: 'ahora', 6864: 'tengo', 6865: 'quejas', 6866: 'pricier', 6867: 'maize', 6868: 'calls', 6869: 'spitup', 6870: 'constipates', 6871: 'deliciusss', 6872: 'noirot', 6873: 'noodes', 6874: 'koala', 6875: 'dentest', 6876: 'chair', 6877: 'bunches', 6878: 'swiatek', 6879: 'jonesing', 6880: 'dingooooo', 6881: 'squeeker', 6882: 'sixlets', 6883: 'mjc', 6884: 'tuo', 6885: 'smacking', 6886: 'michelada', 6887: 'siberian', 6888: 'lima', 6889: 'xclnt', 6890: 'finnaly', 6891: 'robbed', 6892: 'sympathy', 6893: 'unreliable', 6894: 'itsstriketime', 6895: 'exceeds', 6896: 'weenie', 6897: 'relations', 6898: 'prison', 6899: 'trashcan', 6900: 'labelled', 6901: 'cockers', 6902: 'accidents', 6903: 'hero', 6904: 'spongetastic', 6905: 'ruby', 6906: 'xxx', 6907: 'pomeranian', 6908: 'mcbutter', 6909: 'shortest', 6910: 'fulfills', 6911: 'urges', 6912: 'porous', 6913: 'kelping', 6914: 'espressivo', 6915: 'willinghams', 6916: 'eboost', 6917: 'bday', 6918: 'grands', 6919: 'chewd', 6920: 'zataraine', 6921: 'maryland', 6922: 'remotely', 6923: 'ziploc', 6924: 'aphids', 6925: 'catalina', 6926: 'chesapeake', 6927: 'reprehensible', 6928: 'slurpishly', 6929: 'professional', 6930: 'menues', 6931: 'quarter', 6932: 'andersons', 6933: 'gheetastic', 6934: 'rejuvinating', 6935: 'falafel', 6936: 'ottimo', 6937: 'grana', 6938: 'padano', 6939: 'rise', 6940: 'shine', 6941: 'crumbily', 6942: 'flatulence', 6943: 'chianti', 6944: 'trition', 6945: 'noddles', 6946: 'cheapened', 6947: 'artesanal', 6948: 'bedbathand', 6949: 'babyfood', 6950: 'sludgy', 6951: 'lov', 6952: 'lined', 6953: 'buggy', 6954: 'nicaraguan', 6955: 'iv', 6956: 'whamlicious', 6957: 'cured', 6958: 'kashmiri', 6959: 'discerning', 6960: 'cheapness', 6961: 'conniebella', 6962: 'trucker', 6963: 'everlast', 6964: 'graisse', 6965: 'canard', 6966: 'abolt', 6967: 'saltie', 6968: 'celcius', 6969: 'coffeetime', 6970: 'methi', 6971: 'macaroon', 6972: 'purines', 6973: 'raspbery', 6974: 'naaaaaaaaaaaaasty', 6975: 'flecks', 6976: 'applications', 6977: 'singleservecoffee', 6978: 'cresteds', 6979: 'cel', 6980: 'thier', 6981: 'neighborhood', 6982: 'costing', 6983: 'tates', 6984: 'ciacco', 6985: 'purrrrrrrrrrrrrrfect', 6986: 'chocholate', 6987: 'reallllllly', 6988: 'glue', 6989: 'uncooked', 6990: 'hse', 6991: 'artisana', 6992: 'spacesaver', 6993: 'bevvie', 6994: 'tangfastic', 6995: 'schoolers', 6996: 'hankering', 6997: 'nothin', 6998: 'hammer', 6999: 'soulistic', 7000: 'gelee', 7001: 'finiky', 7002: 'deployment', 7003: 'mazing', 7004: 'simplify', 7005: 'beignets', 7006: 'petit', 7007: 'fishey', 7008: 'singer', 7009: 'granoloa', 7010: 'aleternative', 7011: 'tangles', 7012: 'florescent', 7013: 'schokolade', 7014: 'unpopular', 7015: 'lingering', 7016: 'excellet', 7017: 'lexie', 7018: 'chocoholics', 7019: 'fatigue', 7020: 'optimal', 7021: 'decade', 7022: 'nunaturals', 7023: 'nustevia', 7024: 'sanfrancisco', 7025: 'bambinos', 7026: 'tinned', 7027: 'anton', 7028: 'discouraged', 7029: 'kir', 7030: 'maca', 7031: 'opposed', 7032: 'conflicted', 7033: 'melting', 7034: 'gardetto', 7035: 'sahlen', 7036: 'ume', 7037: 'leclerc', 7038: 'bicewholesale', 7039: 'vinegary', 7040: 'dooobie', 7041: 'sometime', 7042: 'mcallan', 7043: 'chupa', 7044: 'chups', 7045: 'astragalus', 7046: 'cows', 7047: 'mackeral', 7048: 'gusting', 7049: 'vadouvan', 7050: 'interactive', 7051: 'sight', 7052: 'retailer', 7053: 'iightly', 7054: 'slowly', 7055: 'hollandaise', 7056: 'inorganic', 7057: 'fantasitc', 7058: 'fiend', 7059: 'secretly', 7060: 'wolfgan', 7061: 'casein', 7062: 'sacrificing', 7063: 'weathertight', 7064: 'hm', 7065: 'especial', 7066: 'goodbar', 7067: 'systems', 7068: 'addictions', 7069: 'frst', 7070: 'oggi', 7071: 'delectible', 7072: 'roasts', 7073: 'isabella', 7074: 'zingers', 7075: 'canday', 7076: 'cartilage', 7077: 'yuuuh', 7078: 'uumm', 7079: 'obedience', 7080: 'fettucini', 7081: 'petsmart', 7082: 'doors', 7083: 'tickles', 7084: 'orang', 7085: 'enseda', 7086: 'quintessence', 7087: 'discrepancy', 7088: 'mere', 7089: 'comments', 7090: 'monopoly', 7091: 'herbalicious', 7092: 'unneeded', 7093: 'jv', 7094: 'hung', 7095: 'amongst', 7096: 'mistrial', 7097: 'aguas', 7098: 'frescas', 7099: 'bacony', 7100: 'snackwell', 7101: 'competetive', 7102: 'core', 7103: 'mis', 7104: 'beavery', 7105: 'mardi', 7106: 'ahhliv', 7107: 'tillandsia', 7108: 'ionantha', 7109: 'absooooooo', 7110: 'lutely', 7111: 'irritable', 7112: 'sources', 7113: 'teryaki', 7114: 'poptarts', 7115: 'cripsy', 7116: 'dgs', 7117: 'hesitated', 7118: 'blank', 7119: 'canvas', 7120: 'jawbreakers', 7121: 'slimfast', 7122: 'brandie', 7123: 'migraines', 7124: 'koppers', 7125: 'delishy', 7126: 'splinter', 7127: 'azteca', 7128: 'steps', 7129: 'capresso', 7130: 'justifies', 7131: 'amazinggggg', 7132: 'overheated', 7133: 'yuuuummy', 7134: 'decadently', 7135: 'irregularity', 7136: 'bridget', 7137: 'dreamfield', 7138: 'gumdrops', 7139: 'milkshake', 7140: 'repertoire', 7141: 'stylish', 7142: 'aftermarket', 7143: 'brush', 7144: 'strewn', 7145: 'infuse', 7146: 'perform', 7147: 'flavoured', 7148: 'filberts', 7149: 'champ', 7150: 'porked', 7151: 'yuuum', 7152: 'velvetta', 7153: 'happyhipster', 7154: 'senchas', 7155: 'overfilling', 7156: 'houseplant', 7157: 'habits', 7158: 'scrumptuous', 7159: 'foaming', 7160: 'allens', 7161: 'popeye', 7162: 'sailing', 7163: 'lenore', 7164: 'poe', 7165: 'eclipses', 7166: 'winegums', 7167: 'additional', 7168: 'succulent', 7169: 'lodi', 7170: 'gayle', 7171: 'vets', 7172: 'hooey', 7173: 'uniquely', 7174: 'mayonaise', 7175: 'hersey', 7176: 'zicolicious', 7177: 'brine', 7178: 'lye', 7179: 'tellicherry', 7180: 'acesulfame', 7181: 'intestinal', 7182: 'aaaaaagh', 7183: 'coffeelicious', 7184: 'maddie', 7185: 'tomatos', 7186: 'enrich', 7187: 'tagged', 7188: 'garrett', 7189: 'barbara', 7190: 'snackimals', 7191: 'imaginable', 7192: 'decidedly', 7193: 'weightwatchers', 7194: 'anastasia', 7195: 'liscious', 7196: 'coon', 7197: 'warheads', 7198: 'vital', 7199: 'colon', 7200: 'bugsy', 7201: 'slowest', 7202: 'calamari', 7203: 'alphabet', 7204: 'eternal', 7205: 'climber', 7206: 'ehrrmahgerrdd', 7207: 'banener', 7208: 'nert', 7209: 'breardd', 7210: 'bearcreek', 7211: 'sarabeth', 7212: 'tendons', 7213: 'treatment', 7214: 'zupreem', 7215: 'subscrition', 7216: 'mover', 7217: 'thinne', 7218: 'wiley', 7219: 'bayer', 7220: 'badass', 7221: 'bruiser', 7222: 'fueling', 7223: 'displeased', 7224: 'alike', 7225: 'fablous', 7226: 'towel', 7227: 'godo', 7228: 'licoirice', 7229: 'quappy', 7230: 'whey', 7231: 'knott', 7232: 'boysenberry', 7233: 'skytime', 7234: 'schoko', 7235: 'trainng', 7236: 'flavia', 7237: 'ohhhh', 7238: 'rasberries', 7239: 'bukkake', 7240: 'brits', 7241: 'patrick', 7242: 'buttons', 7243: 'poppie', 7244: 'decide', 7245: 'aficionado', 7246: 'bonanza', 7247: 'pardner', 7248: 'wylde', 7249: 'evaluation', 7250: 'desserts', 7251: 'popsicle', 7252: 'herbals', 7253: 'pleaant', 7254: 'unwind', 7255: 'snowball', 7256: 'teh', 7257: 'traumatic', 7258: 'kaese', 7259: 'gt', 7260: 'synergy', 7261: 'addictiveness', 7262: 'wat', 7263: 'maddy', 7264: 'theses', 7265: 'receved', 7266: 'mash', 7267: 'abi', 7268: 'langers', 7269: 'pomegran', 7270: 'smoooooth', 7271: 'evah', 7272: 'aliens', 7273: 'samatra', 7274: 'hulls', 7275: 'driver', 7276: 'hang', 7277: 'preventor', 7278: 'ace', 7279: 'beatiful', 7280: 'tumeric', 7281: 'julie', 7282: 'snackwells', 7283: 'rasin', 7284: 'hundred', 7285: 'hardens', 7286: 'passionfruit', 7287: 'davidsons', 7288: 'reformed', 7289: 'drugs', 7290: 'senitive', 7291: 'phase', 7292: 'peaceful', 7293: 'profile', 7294: 'sou', 7295: 'borderline', 7296: 'pur', 7297: 'savoring', 7298: 'lying', 7299: 'baja', 7300: 'tingling', 7301: 'sweden', 7302: 'countries', 7303: 'eay', 7304: 'cousacous', 7305: 'mississippi', 7306: 'mathmom', 7307: 'togarashi', 7308: 'gigantic', 7309: 'sadie', 7310: 'coughing', 7311: 'schmeck', 7312: 'emerls', 7313: 'sesameflavor', 7314: 'earn', 7315: 'smarter', 7316: 'caramet', 7317: 'puzzler', 7318: 'freah', 7319: 'cop', 7320: 'bresed', 7321: 'valid', 7322: 'ket', 7323: 'anchiote', 7324: 'condensed', 7325: 'boursin', 7326: 'lebanon', 7327: 'saba', 7328: 'chewey', 7329: 'devotee', 7330: 'cantuski', 7331: 'bombs', 7332: 'encounter', 7333: 'marking', 7334: 'fontinella', 7335: 'grounded', 7336: 'mel', 7337: 'subscribed', 7338: 'diabeetus', 7339: 'fryer', 7340: 'boylan', 7341: 'escabeche', 7342: 'meowingly', 7343: 'supremo', 7344: 'bigbert', 7345: 'acne', 7346: 'wooden', 7347: 'complements', 7348: 'naseau', 7349: 'manischewitz', 7350: 'trappey', 7351: 'porkyland', 7352: 'raccoons', 7353: 'lurve', 7354: 'crotch', 7355: 'mimiccreme', 7356: 'coupons', 7357: 'tullyrific', 7358: 'nasal', 7359: 'irrigatiin', 7360: 'ambers', 7361: 'reallemon', 7362: 'goaty', 7363: 'anythign', 7364: 'stinking', 7365: 'pastrami', 7366: 'clasico', 7367: 'lingonberries', 7368: 'greeeaattt', 7369: 'freaken', 7370: 'wannabe', 7371: 'exclusively', 7372: 'ta', 7373: 'gravey', 7374: 'commodity', 7375: 'bestest', 7376: 'hear', 7377: 'assembly', 7378: 'alpacas', 7379: 'das', 7380: 'burner', 7381: 'notches', 7382: 'grate', 7383: 'orchard', 7384: 'reception', 7385: 'happysqueezes', 7386: 'fishing', 7387: 'shines', 7388: 'nb', 7389: 'pureed', 7390: 'olively', 7391: 'milled', 7392: 'pticey', 7393: 'checked', 7394: 'bucket', 7395: 'likely', 7396: 'semisweet', 7397: 'dumbells', 7398: 'oldie', 7399: 'tantalizingly', 7400: 'piquant', 7401: 'ganocafe', 7402: 'happycamper', 7403: 'topslisa', 7404: 'shareable', 7405: 'bicarbonate', 7406: 'yuuuuuum', 7407: 'mccoy', 7408: 'glyco', 7409: 'flexiii', 7410: 'reader', 7411: 'cavemen', 7412: 'wealthy', 7413: 'dela', 7414: 'webs', 7415: 'necklaces', 7416: 'eric', 7417: 'easiyo', 7418: 'rowntree', 7419: 'buttercream', 7420: 'domata', 7421: 'living', 7422: 'labled', 7423: 'corozonas', 7424: 'plasmon', 7425: 'downsize', 7426: 'thickens', 7427: 'stackable', 7428: 'addins', 7429: 'croissant', 7430: 'einstein', 7431: 'eaa', 7432: 'puerh', 7433: 'luxardo', 7434: 'zang', 7435: 'nutritiousbar', 7436: 'oomph', 7437: 'remembers', 7438: 'lemonheads', 7439: 'republic', 7440: 'blechhk', 7441: 'tatsy', 7442: 'tweaks', 7443: 'hafner', 7444: 'colombia', 7445: 'banish', 7446: 'babaganouge', 7447: 'dob', 7448: 'cholate', 7449: 'cruch', 7450: 'artwork', 7451: 'coupe', 7452: 'aioli', 7453: 'quaff', 7454: 'amended', 7455: 'clusters', 7456: 'evolution', 7457: 'brimming', 7458: 'terms', 7459: 'overhyped', 7460: 'louisville', 7461: 'welll', 7462: 'gonna', 7463: 'mncook', 7464: 'agava', 7465: 'pedialyte', 7466: 'estupendo', 7467: 'massel', 7468: 'ultracubes', 7469: 'deed', 7470: 'cookin', 7471: 'dozen', 7472: 'afford', 7473: 'tenderlicious', 7474: 'mastiffs', 7475: 'dine', 7476: 'coachman', 7477: 'suites', 7478: 'regarding', 7479: 'urban', 7480: 'controversy', 7481: 'expensively', 7482: 'sneaky', 7483: 'adulteration', 7484: 'splecccchhhhda', 7485: 'verdergetbetterpackageing', 7486: 'forteto', 7487: 'holics', 7488: 'lindsor', 7489: 'choloate', 7490: 'funnel', 7491: 'flavacol', 7492: 'valerian', 7493: 'kidney', 7494: 'smelliest', 7495: 'stinkiest', 7496: 'verrry', 7497: 'greendogs', 7498: 'happpy', 7499: 'lawrey', 7500: 'shatila', 7501: 'baklawa', 7502: 'jaws', 7503: 'praisin', 7504: 'kava', 7505: 'eczema', 7506: 'coffer', 7507: 'doogswell', 7508: 'ong', 7509: 'outback', 7510: 'steakhouse', 7511: 'grrrreeeatttt', 7512: 'dreamfilelds', 7513: 'economy', 7514: 'toothsome', 7515: 'mature', 7516: 'lettuce', 7517: 'cuba', 7518: 'ohs', 7519: 'adores', 7520: 'becareful', 7521: 'anita', 7522: 'veterinarian', 7523: 'necklace', 7524: 'intolerant', 7525: 'omnomnomnomnomnom', 7526: 'breakroom', 7527: 'jakey', 7528: 'eyes', 7529: 'ala', 7530: 'peices', 7531: 'philippine', 7532: 'reeks', 7533: 'ammonium', 7534: 'reednikki', 7535: 'smooths', 7536: 'cent', 7537: 'prettier', 7538: 'breakfest', 7539: 'acknowledged', 7540: 'dhall', 7541: 'shore', 7542: 'luau', 7543: 'als', 7544: 'refilling', 7545: 'luke', 7546: 'theraflu', 7547: 'mightyleaf', 7548: 'mildew', 7549: 'convienient', 7550: 'aquired', 7551: 'develop', 7552: 'margaritas', 7553: 'cleared', 7554: 'conscience', 7555: 'orance', 7556: 'tack', 7557: 'pc', 7558: 'foodshouldtastethisgood', 7559: 'gnatts', 7560: 'qulaity', 7561: 'loooovee', 7562: 'ittt', 7563: 'andes', 7564: 'derived', 7565: 'rusty', 7566: 'rcv', 7567: 'buffa', 7568: 'lolipops', 7569: 'trading', 7570: 'hollow', 7571: 'snouts', 7572: 'lungs', 7573: 'topchips', 7574: 'ryevita', 7575: 'treets', 7576: 'spritzers', 7577: 'mommies', 7578: 'fil', 7579: 'motion', 7580: 'blessings', 7581: 'akmak', 7582: 'falavoring', 7583: 'lumps', 7584: 'cottie', 7585: 'conumdrum', 7586: 'necter', 7587: 'tastinf', 7588: 'spresso', 7589: 'azur', 7590: 'scott', 7591: 'hirt', 7592: 'nurseries', 7593: 'task', 7594: 'overdone', 7595: 'emptied', 7596: 'doggys', 7597: 'shiba', 7598: 'inu', 7599: 'avoided', 7600: 'trix', 7601: 'aromatherapy', 7602: 'sniffs', 7603: 'airport', 7604: 'prebiotics', 7605: 'wheelbarrow', 7606: 'carosel', 7607: 'soooooooooooo', 7608: 'adout', 7609: 'ewwwwwwwwww', 7610: 'reece', 7611: 'storing', 7612: 'tazoberry', 7613: 'makin', 7614: 'breakdown', 7615: 'crumble', 7616: 'replaqcement', 7617: 'workmanship', 7618: 'landjaeger', 7619: 'upgraded', 7620: 'carse', 7621: 'clutch', 7622: 'ty', 7623: 'ling', 7624: 'rejoyce', 7625: 'thicking', 7626: 'excellente', 7627: 'quarterly', 7628: 'beefaroni', 7629: 'consuming', 7630: 'slime', 7631: 'gnawing', 7632: 'mas', 7633: 'barato', 7634: 'espa', 7635: 'costosa', 7636: 'es', 7637: 'wahoo', 7638: 'choicw', 7639: 'chilada', 7640: 'basketwas', 7641: 'wolgang', 7642: 'picard', 7643: 'cliff', 7644: 'sheds', 7645: 'buellton', 7646: 'kats', 7647: 'necassary', 7648: 'sulphite', 7649: 'tennesee', 7650: 'unfiltered', 7651: 'grrrrr', 7652: 'cascabel', 7653: 'desolove', 7654: 'cesaly', 7655: 'twiggy', 7656: 'spangler', 7657: 'feliciaflan', 7658: 'sonse', 7659: 'switcheroo', 7660: 'alergies', 7661: 'hunny', 7662: 'nalewka', 7663: 'babuni', 7664: 'ewm', 7665: 'haiku', 7666: 'hibicus', 7667: 'pekoe', 7668: 'frankenwheat', 7669: 'underroasted', 7670: 'awesine', 7671: 'atrocious', 7672: 'evalution', 7673: 'entrega', 7674: 'empaque', 7675: 'mal', 7676: 'howerver', 7677: 'sweetening', 7678: 'abbott', 7679: 'bridal', 7680: 'restaruant', 7681: 'havarti', 7682: 'pastilles', 7683: 'menopause', 7684: 'hydrates', 7685: 'management', 7686: 'keto', 7687: 'pok', 7688: 'mobility', 7689: 'intolerent', 7690: 'billion', 7691: 'kingdom', 7692: 'claimed', 7693: 'longtime', 7694: 'pj', 7695: 'deeelectable', 7696: 'announcement', 7697: 'smokers', 7698: 'reg', 7699: 'pepermint', 7700: 'overcook', 7701: 'outcome', 7702: 'clueless', 7703: 'vendors', 7704: 'chocolage', 7705: 'turkery', 7706: 'closeout', 7707: 'stewart', 7708: 'yumzilla', 7709: 'cheesymac', 7710: 'rama', 7711: 'cornsilk', 7712: 'scores', 7713: 'awarded', 7714: 'mafia', 7715: 'fentiman', 7716: 'shandy', 7717: 'grownup', 7718: 'unsorted', 7719: 'cherrybrook', 7720: 'faithful', 7721: 'tingle', 7722: 'tooooooooooo', 7723: 'excessively', 7724: 'paducah', 7725: 'roasty', 7726: 'sportea', 7727: 'recive', 7728: 'verrryyyy', 7729: 'frequently', 7730: 'deelicious', 7731: 'mist', 7732: 'finesse', 7733: 'wt', 7734: 'grotesque', 7735: 'bd', 7736: 'glitterati', 7737: 'exquisitely', 7738: 'schmippered', 7739: 'golly', 7740: 'quaint', 7741: 'loveeeee', 7742: 'tull', 7743: 'cocoas', 7744: 'pruchased', 7745: 'ewweee', 7746: 'tooooooo', 7747: 'busybone', 7748: 'chewnola', 7749: 'grabbers', 7750: 'entangled', 7751: 'petals', 7752: 'seagull', 7753: 'chintzy', 7754: 'usage', 7755: 'preground', 7756: 'modern', 7757: 'weim', 7758: 'football', 7759: 'hempshake', 7760: 'mystified', 7761: 'bulky', 7762: 'cuisinart', 7763: 'disposacup', 7764: 'timing', 7765: 'teat', 7766: 'windsor', 7767: 'grandchildren', 7768: 'listened', 7769: 'soaked', 7770: 'theee', 7771: 'liars', 7772: 'hamster', 7773: 'chesnuts', 7774: 'importer', 7775: 'swap', 7776: 'behind', 7777: 'weaver', 7778: 'flavorable', 7779: 'morsels', 7780: 'ermerils', 7781: 'kyjen', 7782: 'jigsaw', 7783: 'glider', 7784: 'build', 7785: 'prized', 7786: 'ade', 7787: 'soulmate', 7788: 'puddingy', 7789: 'dripping', 7790: 'granddaughters', 7791: 'naw', 7792: 'pickling', 7793: 'wolfed', 7794: 'relative', 7795: 'alacore', 7796: 'ebelskiver', 7797: 'fuirt', 7798: 'compost', 7799: 'frother', 7800: 'chic', 7801: 'smith', 7802: 'zantac', 7803: 'raving', 7804: 'punkin', 7805: 'flux', 7806: 'gs', 7807: 'goldendoodle', 7808: 'extraneous', 7809: 'jaffa', 7810: 'dots', 7811: 'tremendous', 7812: 'hula', 7813: 'hoops', 7814: 'payton', 7815: 'smartwater', 7816: 'ravin', 7817: 'sheen', 7818: 'airbrush', 7819: 'justin', 7820: 'grnd', 7821: 'blk', 7822: 'readercook', 7823: 'jenny', 7824: 'medi', 7825: 'sudden', 7826: 'milds', 7827: 'spend', 7828: 'deltona', 7829: 'fiddle', 7830: 'majic', 7831: 'nueske', 7832: 'eeehhh', 7833: 'maryann', 7834: 'creamier', 7835: 'basted', 7836: 'proto', 7837: 'ostrim', 7838: 'soa', 7839: 'example', 7840: 'barrista', 7841: 'hardness', 7842: 'remover', 7843: 'metabisulfite', 7844: 'jerkie', 7845: 'exorbitant', 7846: 'lice', 7847: 'prominently', 7848: 'finn', 7849: 'szeged', 7850: 'households', 7851: 'cloying', 7852: 'foggy', 7853: 'substandard', 7854: 'cinnamints', 7855: 'tangeine', 7856: 'pronounce', 7857: 'hahaa', 7858: 'wearing', 7859: 'alter', 7860: 'stovetop', 7861: 'purrfect', 7862: 'offering', 7863: 'nightly', 7864: 'orac', 7865: 'criminally', 7866: 'anaya', 7867: 'excepcional', 7868: 'snaggle', 7869: 'toothed', 7870: 'yuuuuuummyyy', 7871: 'id', 7872: 'streusel', 7873: 'fireballs', 7874: 'decortating', 7875: 'cavaties', 7876: 'titled', 7877: 'apartments', 7878: 'surprisely', 7879: 'molassis', 7880: 'hoot', 7881: 'gerd', 7882: 'carmet', 7883: 'lucid', 7884: 'dblg', 7885: 'lazy', 7886: 'peony', 7887: 'cars', 7888: 'relaxxxxxx', 7889: 'greatness', 7890: 'margarine', 7891: 'conscientious', 7892: 'forth', 7893: 'splintered', 7894: 'flavourless', 7895: 'goatmilkdrinker', 7896: 'kkk', 7897: 'messages', 7898: 'carpet', 7899: 'jesus', 7900: 'az', 7901: 'continuing', 7902: 'stored', 7903: 'radar', 7904: 'sosour', 7905: 'custardy', 7906: 'tx', 7907: 'ma', 7908: 'poptart', 7909: 'ogbono', 7910: 'specifications', 7911: 'pirates', 7912: 'benissimo', 7913: 'ki', 7914: 'pa', 7915: 'psoriasis', 7916: 'rj', 7917: 'outlines', 7918: 'daviola', 7919: 'fois', 7920: 'ordern', 7921: 'orangic', 7922: 'amazzzzzz', 7923: 'ing', 7924: 'belches', 7925: 'nicolle', 7926: 'dresssing', 7927: 'fulfillment', 7928: 'unlike', 7929: 'survive', 7930: 'alaska', 7931: 'doys', 7932: 'requires', 7933: 'eucalyptus', 7934: 'curly', 7935: 'vines', 7936: 'planter', 7937: 'pavilion', 7938: 'prescription', 7939: 'coffrr', 7940: 'caffeien', 7941: 'loubia', 7942: 'polo', 7943: 'unsuitable', 7944: 'kitteh', 7945: 'bunniez', 7946: 'orgasms', 7947: 'timey', 7948: 'taken', 7949: 'chana', 7950: 'teatree', 7951: 'pirated', 7952: 'beargasm', 7953: 'riffic', 7954: 'cakesters', 7955: 'squash', 7956: 'scruptious', 7957: 'adrenalin', 7958: 'limerick', 7959: 'happymorning', 7960: 'herseys', 7961: 'compleats', 7962: 'pawfect', 7963: 'fisher', 7964: 'ahhhmazing', 7965: 'oxidized', 7966: 'tue', 7967: 'handmade', 7968: 'doubles', 7969: 'olvatine', 7970: 'competitor', 7971: 'stuffin', 7972: 'yuumm', 7973: 'sorghum', 7974: 'hocus', 7975: 'pocus', 7976: 'refun', 7977: 'fruitfly', 7978: 'expertly', 7979: 'incinerated', 7980: 'cucina', 7981: 'antica', 7982: 'consistancy', 7983: 'christine', 7984: 'gresock', 7985: 'smothered', 7986: 'sorbate', 7987: 'charly', 7988: 'pupster', 7989: 'unjustified', 7990: 'uni', 7991: 'undamaged', 7992: 'supports', 7993: 'joseph', 7994: 'habla', 7995: 'espanol', 7996: 'bialetti', 7997: 'cutoff', 7998: 'stopper', 7999: 'tagerine', 8000: 'steeping', 8001: 'muscle', 8002: 'kurieg', 8003: 'enfamil', 8004: 'astro', 8005: 'inappropriate', 8006: 'laika', 8007: 'uplifting', 8008: 'kenny', 8009: 'balck', 8010: 'channeled', 8011: 'bigfoot', 8012: 'malfunction', 8013: 'devils', 8014: 'dogwood', 8015: 'cornus', 8016: 'greeatest', 8017: 'wayyyyyyy', 8018: 'soggier', 8019: 'inverse', 8020: 'basset', 8021: 'pates', 8022: 'deeelish', 8023: 'bathroom', 8024: 'wholepaycheck', 8025: 'spookily', 8026: 'chocolast', 8027: 'seltzer', 8028: 'equals', 8029: 'pil', 8030: 'freezed', 8031: 'woundcare', 8032: 'christian', 8033: 'relieves', 8034: 'radtechmom', 8035: 'callaloo', 8036: 'hc', 8037: 'ragu', 8038: 'squirle', 8039: 'widely', 8040: 'otc', 8041: 'laxatives', 8042: 'grrrrrrrreat', 8043: 'chocoalte', 8044: 'amarillo', 8045: 'refunded', 8046: 'qualtiy', 8047: 'pappi', 8048: 'adagio', 8049: 'cautious', 8050: 'worldwide', 8051: 'deicious', 8052: 'lavendar', 8053: 'outs', 8054: 'gizmo', 8055: 'til', 8056: 'snackin', 8057: 'mincemeat', 8058: 'bless', 8059: 'holmes', 8060: 'merits', 8061: 'cardamon', 8062: 'waffeletten', 8063: 'stephens', 8064: 'flops', 8065: 'begs', 8066: 'blurred', 8067: 'snuff', 8068: 'realize', 8069: 'middles', 8070: 'weetabix', 8071: 'defacto', 8072: 'recommendation', 8073: 'entertains', 8074: 'iowa', 8075: 'khazana', 8076: 'chelsea', 8077: 'cadillac', 8078: 'terribleness', 8079: 'traditionally', 8080: 'kb', 8081: 'freezable', 8082: 'favored', 8083: 'tealovers', 8084: 'heathers', 8085: 'steaz', 8086: 'ugliest', 8087: 'chino', 8088: 'hazer', 8089: 'cleanses', 8090: 'exelent', 8091: 'vallue', 8092: 'kkups', 8093: 'expedited', 8094: 'smokier', 8095: 'carber', 8096: 'zone', 8097: 'heartwarming', 8098: 'undrinkably', 8099: 'supercrema', 8100: 'plague', 8101: 'killing', 8102: 'honeybees', 8103: 'shiitakes', 8104: 'sediment', 8105: 'giflt', 8106: 'emulsifier', 8107: 'reverted', 8108: 'fastachi', 8109: 'offers', 8110: 'cordials', 8111: 'maggiensa', 8112: 'anemic', 8113: 'adherent', 8114: 'swell', 8115: 'alfajores', 8116: 'ought', 8117: 'ashamed', 8118: 'fir', 8119: 'diminish', 8120: 'ultramix', 8121: 'sink', 8122: 'duh', 8123: 'untasty', 8124: 'earthmate', 8125: 'watt', 8126: 'bulb', 8127: 'shiritake', 8128: 'peta', 8129: 'intenso', 8130: 'sludge', 8131: 'droooling', 8132: 'tijuana', 8133: 'flats', 8134: 'grander', 8135: 'srirachi', 8136: 'gypsy', 8137: 'buzzzzzzzzzz', 8138: 'kookoo', 8139: 'chowdah', 8140: 'hog', 8141: 'yeh', 8142: 'fights', 8143: 'cavities', 8144: 'mens', 8145: 'sidedish', 8146: 'penguin', 8147: 'pooper', 8148: 'juicey', 8149: 'hearburn', 8150: 'weavers', 8151: 'jagged', 8152: 'corner', 8153: 'grapefruits', 8154: 'uberyum', 8155: 'sanka', 8156: 'wrigleys', 8157: 'solstice', 8158: 'zeor', 8159: 'afternoons', 8160: 'vegi', 8161: 'butternut', 8162: 'artic', 8163: 'travelling', 8164: 'exploring', 8165: 'serviceable', 8166: 'raisons', 8167: 'excelente', 8168: 'motivated', 8169: 'purrrrfect', 8170: 'hal', 8171: 'quintella', 8172: 'asks', 8173: 'seamore', 8174: 'royce', 8175: 'pedigreee', 8176: 'stupid', 8177: 'whattachip', 8178: 'sue', 8179: 'strongest', 8180: 'pricewe', 8181: 'mahealani', 8182: 'sups', 8183: 'braswells', 8184: 'venisen', 8185: 'sherri', 8186: 'gardens', 8187: 'birthing', 8188: 'sunscreen', 8189: 'porportions', 8190: 'barteneders', 8191: 'grn', 8192: 'blemd', 8193: 'aaah', 8194: 'maynards', 8195: 'picker', 8196: 'wbc', 8197: 'nuss', 8198: 'los', 8199: 'valencia', 8200: 'stewpendous', 8201: 'students', 8202: 'refrito', 8203: 'artist', 8204: 'splendidly', 8205: 'calzone', 8206: 'franch', 8207: 'familiar', 8208: 'appearance', 8209: 'macademia', 8210: 'striplings', 8211: 'reivew', 8212: 'drastic', 8213: 'woderful', 8214: 'parsley', 8215: 'updating', 8216: 'tee', 8217: 'jamison', 8218: 'digs', 8219: 'yuch', 8220: 'opa', 8221: 'chunck', 8222: 'amout', 8223: 'pouc', 8224: 'joyful', 8225: 'queennabidabi', 8226: 'petsafe', 8227: 'syrupn', 8228: 'grd', 8229: 'chokable', 8230: 'edward', 8231: 'giveaway', 8232: 'febuary', 8233: 'corazona', 8234: 'aaaamaaaazing', 8235: 'perker', 8236: 'neighbors', 8237: 'amyjon', 8238: 'climbing', 8239: 'contamined', 8240: 'swirled', 8241: 'furry', 8242: 'investment', 8243: 'brighter', 8244: 'margherita', 8245: 'perchase', 8246: 'settle', 8247: 'selections', 8248: 'boppy', 8249: 'clooney', 8250: 'lychee', 8251: 'marachino', 8252: 'expanding', 8253: 'kiesha', 8254: 'somethings', 8255: 'rusted', 8256: 'matinis', 8257: 'grrrrrr', 8258: 'smoooth', 8259: 'powders', 8260: 'truflle', 8261: 'awesom', 8262: 'twinkie', 8263: 'conventions', 8264: 'mike', 8265: 'hawwian', 8266: 'maids', 8267: 'hundreds', 8268: 'chocolove', 8269: 'jewlly', 8270: 'grazing', 8271: 'exted', 8272: 'bab', 8273: 'applicator', 8274: 'cardiac', 8275: 'tune', 8276: 'bendingly', 8277: 'rinses', 8278: 'suzie', 8279: 'victoria', 8280: 'hooooootttt', 8281: 'cocanut', 8282: 'montana', 8283: 'punctured', 8284: 'presented', 8285: 'albet', 8286: 'honeymoon', 8287: 'origin', 8288: 'dukan', 8289: 'yucko', 8290: 'cutest', 8291: 'newf', 8292: 'ganoush', 8293: 'crate', 8294: 'wood', 8295: 'rtaran', 8296: 'hamming', 8297: 'earthborn', 8298: 'replica', 8299: 'blacken', 8300: 'wave', 8301: 'mustards', 8302: 'joyva', 8303: 'reasonabale', 8304: 'heated', 8305: 'blelnd', 8306: 'limey', 8307: 'awwwwwwwwwwwwwwwwwwwwwwwwl', 8308: 'cheesey', 8309: 'harm', 8310: 'starve', 8311: 'sneaks', 8312: 'littles', 8313: 'healthsome', 8314: 'damage', 8315: 'prepares', 8316: 'enthusiast', 8317: 'moe', 8318: 'favorably', 8319: 'malamutes', 8320: 'sanded', 8321: 'blondies', 8322: 'bangin', 8323: 'gremlin', 8324: 'contolled', 8325: 'brachs', 8326: 'manderin', 8327: 'wuppee', 8328: 'voted', 8329: 'doodle', 8330: 'cornhusker', 8331: 'shopaholic', 8332: 'michaels', 8333: 'endorsed', 8334: 'weston', 8335: 'foundation', 8336: 'deliicious', 8337: 'vazer', 8338: 'exchange', 8339: 'commuter', 8340: 'decorators', 8341: 'gagina', 8342: 'dreamwater', 8343: 'llave', 8344: 'trofie', 8345: 'moister', 8346: 'distressed', 8347: 'ae', 8348: 'moore', 8349: 'nobel', 8350: 'teacher', 8351: 'pupperoni', 8352: 'eff', 8353: 'turani', 8354: 'regatta', 8355: 'nitrogen', 8356: 'sorely', 8357: 'lorenzo', 8358: 'buts', 8359: 'tinkiyada', 8360: 'ivory', 8361: 'brittish', 8362: 'minor', 8363: 'juce', 8364: 'cajohn', 8365: 'trinidad', 8366: 'scorpion', 8367: 'americas', 8368: 'irritants', 8369: 'ritz', 8370: 'prouduct', 8371: 'chickweed', 8372: 'soothling', 8373: 'koops', 8374: 'dusseldorf', 8375: 'converting', 8376: 'sweetwner', 8377: 'pourable', 8378: 'ceaser', 8379: 'marred', 8380: 'waxiness', 8381: 'purest', 8382: 'coconuts', 8383: 'bamboos', 8384: 'hundenflocken', 8385: 'gonaturally', 8386: 'englishman', 8387: 'totaler', 8388: 'tests', 8389: 'cemt', 8390: 'lunchbag', 8391: 'styrofoam', 8392: 'backordered', 8393: 'warp', 8394: 'holdover', 8395: 'rite', 8396: 'picking', 8397: 'mintastic', 8398: 'sucking', 8399: 'straw', 8400: 'displayed', 8401: 'hong', 8402: 'beachcomber', 8403: 'budds', 8404: 'formulation', 8405: 'kashigirl', 8406: 'hazel', 8407: 'nuttiness', 8408: 'anyhoe', 8409: 'liquibuy', 8410: 'ar', 8411: 'sheltie', 8412: 'ashtray', 8413: 'delishious', 8414: 'kawaii', 8415: 'zebra', 8416: 'crunching', 8417: 'protection', 8418: 'brownings', 8419: 'revolutionized', 8420: 'healthpro', 8421: 'dentalnuggets', 8422: 'lana', 8423: 'ackkkk', 8424: 'grrlie', 8425: 'casablanca', 8426: 'kleri', 8427: 'retailers', 8428: 'cornmeal', 8429: 'mice', 8430: 'colcafe', 8431: 'greaatt', 8432: 'noteworthy', 8433: 'sacha', 8434: 'dips', 8435: 'trace', 8436: 'honeys', 8437: 'kolaches', 8438: 'choy', 8439: 'hariubo', 8440: 'lestoil', 8441: 'fields', 8442: 'baldwin', 8443: 'wired', 8444: 'agreed', 8445: 'entertain', 8446: 'autimatic', 8447: 'fount', 8448: 'textmati', 8449: 'solves', 8450: 'phillipine', 8451: 'improver', 8452: 'heals', 8453: 'plantabulous', 8454: 'terric', 8455: 'mgr', 8456: 'fot', 8457: 'santana', 8458: 'kipper', 8459: 'gust', 8460: 'eventually', 8461: 'cakey', 8462: 'medaglia', 8463: 'chrleston', 8464: 'social', 8465: 'fluoridated', 8466: 'successful', 8467: 'tuffy', 8468: 'peppa', 8469: 'fod', 8470: 'frenchs', 8471: 'scnitzel', 8472: 'aids', 8473: 'unbearable', 8474: 'bos', 8475: 'petsitter', 8476: 'gacky', 8477: 'recalls', 8478: 'rejuvenates', 8479: 'hasnt', 8480: 'noticed', 8481: 'hcf', 8482: 'masterpiece', 8483: 'beefsteak', 8484: 'cholula', 8485: 'oder', 8486: 'blind', 8487: 'duty', 8488: 'nw', 8489: 'purely', 8490: 'shouldn', 8491: 'rebranded', 8492: 'gussie', 8493: 'meltaways', 8494: 'cocohydro', 8495: 'tamer', 8496: 'pepsi', 8497: 'nougat', 8498: 'simultaneously', 8499: 'carnivorous', 8500: 'cebt', 8501: 'tooooo', 8502: 'monsters', 8503: 'norman', 8504: 'zuckerman', 8505: 'boise', 8506: 'nomnomnom', 8507: 'innovo', 8508: 'wholly', 8509: 'currently', 8510: 'wooohooooo', 8511: 'schneck', 8512: 'lecker', 8513: 'tampanade', 8514: 'traded', 8515: 'biz', 8516: 'consideration', 8517: 'tech', 8518: 'schnoodle', 8519: 'ireland', 8520: 'severely', 8521: 'distiller', 8522: 'pinata', 8523: 'breathing', 8524: 'honeystix', 8525: 'anne', 8526: 'extraordinaire', 8527: 'limits', 8528: 'perfet', 8529: 'francaise', 8530: 'ghastly', 8531: 'compliments', 8532: 'infuser', 8533: 'potter', 8534: 'newsflash', 8535: 'napoletana', 8536: 'mangia', 8537: 'blender', 8538: 'frappacinos', 8539: 'medicines', 8540: 'sw', 8541: 'december', 8542: 'messing', 8543: 'mcdonalds', 8544: 'mccafe', 8545: 'stevita', 8546: 'exaggerating', 8547: 'herbalife', 8548: 'suggestions', 8549: 'foxy', 8550: 'rescused', 8551: 'grayish', 8552: 'hisbiscus', 8553: 'coffeelover', 8554: 'peptobismol', 8555: 'considers', 8556: 'intollerances', 8557: 'artisan', 8558: 'eve', 8559: 'williams', 8560: 'cookiing', 8561: 'unless', 8562: 'keruig', 8563: 'marketspice', 8564: 'twizlers', 8565: 'press', 8566: 'truffes', 8567: 'cedrinca', 8568: 'importing', 8569: 'dining', 8570: 'withkibble', 8571: 'measuring', 8572: 'addictingly', 8573: 'goals', 8574: 'pesticide', 8575: 'checking', 8576: 'cabonated', 8577: 'ohhhhhh', 8578: 'rogers', 8579: 'spartan', 8580: 'stronganoff', 8581: 'dries', 8582: 'vivienne', 8583: 'multiples', 8584: 'rabbits', 8585: 'salmonella', 8586: 'pollux', 8587: 'virgnia', 8588: 'roasters', 8589: 'raya', 8590: 'mcclures', 8591: 'adzuki', 8592: 'shakers', 8593: 'acrylic', 8594: 'reduces', 8595: 'chlolesterol', 8596: 'dispense', 8597: 'wag', 8598: 'bark', 8599: 'louisiana', 8600: 'pbandj', 8601: 'merry', 8602: 'peaks', 8603: 'vanish', 8604: 'fermenting', 8605: 'pail', 8606: 'keifer', 8607: 'exudes', 8608: 'flapper', 8609: 'chichen', 8610: 'driest', 8611: 'pint', 8612: 'disflavored', 8613: 'casual', 8614: 'flatus', 8615: 'common', 8616: 'fungusamongus', 8617: 'sabroso', 8618: 'skunk', 8619: 'immunity', 8620: 'walks', 8621: 'problematic', 8622: 'pangs', 8623: 'pantheon', 8624: 'jacobs', 8625: 'tear', 8626: 'bodog', 8627: 'dayuuuum', 8628: 'cholestrol', 8629: 'ay', 8630: 'yiiii', 8631: 'unlisted', 8632: 'crow', 8633: 'amond', 8634: 'fearing', 8635: 'coma', 8636: 'gfcfsf', 8637: 'snax', 8638: 'glaceau', 8639: 'pschologically', 8640: 'spaghettini', 8641: 'picagomas', 8642: 'gormet', 8643: 'trees', 8644: 'seek', 8645: 'smoooooooooooth', 8646: 'titanium', 8647: 'dioxide', 8648: 'atamazon', 8649: 'realized', 8650: 'hunter', 8651: 'truthfull', 8652: 'mixers', 8653: 'loove', 8654: 'nastalga', 8655: 'yesteryear', 8656: 'cheeta', 8657: 'bon', 8658: 'wiser', 8659: 'murphy', 8660: 'yummeeeeee', 8661: 'singed', 8662: 'phoenix', 8663: 'mincepie', 8664: 'doorstep', 8665: 'licorace', 8666: 'pastariso', 8667: 'squeezy', 8668: 'sweedish', 8669: 'gulping', 8670: 'gagging', 8671: 'poillux', 8672: 'delishhhh', 8673: 'toaster', 8674: 'horibbly', 8675: 'spiritual', 8676: 'nowadays', 8677: 'shavings', 8678: 'pretzles', 8679: 'grandaughters', 8680: 'aspetic', 8681: 'fanfreakintastic', 8682: 'juciest', 8683: 'explode', 8684: 'una', 8685: 'bonta', 8686: 'inhaled', 8687: 'lucas', 8688: 'lunar', 8689: 'dolcetto', 8690: 'chocolae', 8691: 'disenchanted', 8692: 'rx', 8693: 'reva', 8694: 'innocent', 8695: 'offs', 8696: 'lovbe', 8697: 'marv', 8698: 'poland', 8699: 'distributor', 8700: 'golfers', 8701: 'rascal', 8702: 'provides', 8703: 'danes', 8704: 'wissotsky', 8705: 'biscuiuts', 8706: 'precut', 8707: 'brul', 8708: 'browns', 8709: 'gettin', 8710: 'tgif', 8711: 'googled', 8712: 'texasgirl', 8713: 'montauk', 8714: 'didn', 8715: 'peelu', 8716: 'amusing', 8717: 'collectible', 8718: 'vomits', 8719: 'group', 8720: 'powerade', 8721: 'popcord', 8722: 'batali', 8723: 'mendous', 8724: 'poofy', 8725: 'mommyshopper', 8726: 'ricore', 8727: 'nasssty', 8728: 'merchandise', 8729: 'krispie', 8730: 'vanila', 8731: 'originally', 8732: 'combined', 8733: 'questions', 8734: 'salame', 8735: 'grammas', 8736: 'sleeplessness', 8737: 'whitley', 8738: 'event', 8739: 'incompatible', 8740: 'nesspresso', 8741: 'mre', 8742: 'downside', 8743: 'topaz', 8744: 'nancy', 8745: 'skallops', 8746: 'aaaa', 8747: 'nubby', 8748: 'bumps', 8749: 'raided', 8750: 'pms', 8751: 'mares', 8752: 'bubblewrap', 8753: 'onto', 8754: 'islands', 8755: 'philphan', 8756: 'lethargic', 8757: 'becomes', 8758: 'result', 8759: 'cofe', 8760: 'supersized', 8761: 'tuber', 8762: 'indicum', 8763: 'melanosporum', 8764: 'talent', 8765: 'raffle', 8766: 'tbut', 8767: 'drawbacks', 8768: 'healtful', 8769: 'adventurous', 8770: 'delighfully', 8771: 'tullt', 8772: 'rounded', 8773: 'homework', 8774: 'purifier', 8775: 'greate', 8776: 'revealed', 8777: 'insect', 8778: 'aisle', 8779: 'manhattans', 8780: 'justins', 8781: 'kiana', 8782: 'unfortunate', 8783: 'hotel', 8784: 'youre', 8785: 'blaaaaaaannnnnd', 8786: 'mano', 8787: 'packates', 8788: 'swears', 8789: 'trifecta', 8790: 'tenth', 8791: 'exhausting', 8792: 'mondays', 8793: 'cocoquik', 8794: 'exacltly', 8795: 'bil', 8796: 'jac', 8797: 'hawthorne', 8798: 'toothpaste', 8799: 'accident', 8800: 'tarragon', 8801: 'howard', 8802: 'oaracgyte', 8803: 'cakeing', 8804: 'agents', 8805: 'lobsters', 8806: 'watse', 8807: 'sucre', 8808: 'mousse', 8809: 'umms', 8810: 'adaptor', 8811: 'computer', 8812: 'daneille', 8813: 'sighhhhh', 8814: 'motivation', 8815: 'terriffic', 8816: 'laksa', 8817: 'hammered', 8818: 'nail', 8819: 'rec', 8820: 'concerned', 8821: 'mercury', 8822: 'decorator', 8823: 'untrue', 8824: 'depression', 8825: 'smoooooze', 8826: 'proflower', 8827: 'mono', 8828: 'suckin', 8829: 'glutamate', 8830: 'chairs', 8831: 'fizzlicious', 8832: 'tillman', 8833: 'vi', 8834: 'digestable', 8835: 'simplistic', 8836: 'houise', 8837: 'luci', 8838: 'totw', 8839: 'unfilled', 8840: 'richy', 8841: 'dissapionted', 8842: 'mento', 8843: 'lorna', 8844: 'doone', 8845: 'choke', 8846: 'destoy', 8847: 'globs', 8848: 'boca', 8849: 'morningstar', 8850: 'produt', 8851: 'shilajit', 8852: 'sesamioil', 8853: 'drat', 8854: 'invented', 8855: 'revisited', 8856: 'portfolio', 8857: 'splinters', 8858: 'concidering', 8859: 'compete', 8860: 'timeless', 8861: 'yogurmet', 8862: 'bifidus', 8863: 'ripples', 8864: 'disagree', 8865: 'nauture', 8866: 'prostrate', 8867: 'soak', 8868: 'mckee', 8869: 'hurt', 8870: 'truffless', 8871: 'coffemate', 8872: 'coffie', 8873: 'bitterly', 8874: 'villain', 8875: 'gordon', 8876: 'incomparable', 8877: 'dunk', 8878: 'colossal', 8879: 'screwing', 8880: 'hugely', 8881: 'apocalypse', 8882: 'gibbel', 8883: 'gnat', 8884: 'poochon', 8885: 'ooma', 8886: 'tesoro', 8887: 'lelamb', 8888: 'shoprite', 8889: 'mmfor', 8890: 'captains', 8891: 'bioneem', 8892: 'parchment', 8893: 'hesititant', 8894: 'sloooooww', 8895: 'glood', 8896: 'improperly', 8897: 'track', 8898: 'schnauzers', 8899: 'prop', 8900: 'costume', 8901: 'matador', 8902: 'dolmadakia', 8903: 'madgave', 8904: 'singe', 8905: 'hairs', 8906: 'beater', 8907: 'madhaya', 8908: 'jamacia', 8909: 'sandman', 8910: 'disguist', 8911: 'superlative', 8912: 'togar', 8913: 'judgment', 8914: 'teatulie', 8915: 'neem', 8916: 'consume', 8917: 'vapoorizer', 8918: 'flyboy', 8919: 'profits', 8920: 'disintegrates', 8921: 'saccharin', 8922: 'tamale', 8923: 'waay', 8924: 'sounded', 8925: 'kuchenmeister', 8926: 'dawn', 8927: 'mfr', 8928: 'skimpin', 8929: 'stuffers', 8930: 'wishes', 8931: 'repelled', 8932: 'npa', 8933: 'unsurpassed', 8934: 'hoax', 8935: 'girlscout', 8936: 'dan', 8937: 'wifes', 8938: 'goodish', 8939: 'uhmmy', 8940: 'sz', 8941: 'gastric', 8942: 'pts', 8943: 'congealed', 8944: 'agravating', 8945: 'shrunk', 8946: 'seedlander', 8947: 'squished', 8948: 'thisrt', 8949: 'necco', 8950: 'restorative', 8951: 'chocolot', 8952: 'hornel', 8953: 'purcahse', 8954: 'gimmick', 8955: 'asia', 8956: 'volcanic', 8957: 'cheeeeeeesssseeeesssstttttt', 8958: 'goldensrule', 8959: 'anthon', 8960: 'freaks', 8961: 'lori', 8962: 'refrigeration', 8963: 'tankyada', 8964: 'spaghettis', 8965: 'museli', 8966: 'terrafina', 8967: 'knocked', 8968: 'coldn', 8969: 'guard', 8970: 'focus', 8971: 'leopard', 8972: 'flake', 8973: 'raaw', 8974: 'wing', 8975: 'hazelnunts', 8976: 'sharry', 8977: 'disposible', 8978: 'safeway', 8979: 'japones', 8980: 'traaza', 8981: 'el', 8982: 'paso', 8983: 'nescaf', 8984: 'macchiato', 8985: 'minimized', 8986: 'ajitsuke', 8987: 'rank', 8988: 'bers', 8989: 'thru', 8990: 'partial', 8991: 'schezwan', 8992: 'bhel', 8993: 'indispensible', 8994: 'rudy', 8995: 'nestea', 8996: 'excellen', 8997: 'horn', 8998: 'hardart', 8999: 'pakistan', 9000: 'airplane', 9001: 'afficionados', 9002: 'sugartwin', 9003: 'gnocchi', 9004: 'onecup', 9005: 'numbers', 9006: 'naturel', 9007: 'bleech', 9008: 'peek', 9009: 'beggin', 9010: 'lordy', 9011: 'stuffis', 9012: 'bury', 9013: 'sunburst', 9014: 'sc', 9015: 'zours', 9016: 'vit', 9017: 'gussies', 9018: 'highfat', 9019: 'spite', 9020: 'efforts', 9021: 'biermann', 9022: 'flimsy', 9023: 'awwesome', 9024: 'meows', 9025: 'ancient', 9026: 'immediate', 9027: 'cooldown', 9028: 'glove', 9029: 'daytime', 9030: 'throwback', 9031: 'speciality', 9032: 'ecstasy', 9033: 'breeder', 9034: 'colds', 9035: 'fpl', 9036: 'philly', 9037: 'offseason', 9038: 'diced', 9039: 'gallbladder', 9040: 'flare', 9041: 'favours', 9042: 'fowl', 9043: 'convieniance', 9044: 'whom', 9045: 'impressions', 9046: 'countertop', 9047: 'unconvincing', 9048: 'expensiv', 9049: 'bile', 9050: 'cheeply', 9051: 'babe', 9052: 'chacun', 9053: 'curse', 9054: 'brisket', 9055: 'lincoln', 9056: 'schooler', 9057: 'meail', 9058: 'therefor', 9059: 'prefect', 9060: 'jura', 9061: 'featured', 9062: 'reisiling', 9063: 'allegic', 9064: 'passage', 9065: 'pricely', 9066: 'absolutly', 9067: 'adkins', 9068: 'colters', 9069: 'sno', 9070: 'spurting', 9071: 'tightening', 9072: 'yummazing', 9073: 'darling', 9074: 'tickle', 9075: 'beautificain', 9076: 'valdez', 9077: 'lozenges', 9078: 'ken', 9079: 'barritts', 9080: 'lotion', 9081: 'numb', 9082: 'genmaicha', 9083: 'doubtful', 9084: 'standout', 9085: 'natra', 9086: 'dealbreaker', 9087: 'canadies', 9088: 'kipling', 9089: 'viennese', 9090: 'whirls', 9091: 'joice', 9092: 'dura', 9093: 'durability', 9094: 'furkids', 9095: 'inspiringly', 9096: 'marianne', 9097: 'lousey', 9098: 'dest', 9099: 'alergic', 9100: 'lighted', 9101: 'revitalizing', 9102: 'ponytail', 9103: 'allergenic', 9104: 'omgoah', 9105: 'inflammatory', 9106: 'enthusiastic', 9107: 'exaclty', 9108: 'recaffienation', 9109: 'judge', 9110: 'wrapping', 9111: 'duriable', 9112: 'empties', 9113: 'littler', 9114: 'nummyness', 9115: 'moses', 9116: 'nurturme', 9117: 'ehkkkkkkkkkkkkkkk', 9118: 'cordial', 9119: 'nettle', 9120: 'finals', 9121: 'formular', 9122: 'snapped', 9123: 'specs', 9124: 'calms', 9125: 'coolest', 9126: 'ruin', 9127: 'disease', 9128: 'strainer', 9129: 'paramount', 9130: 'asume', 9131: 'alas', 9132: 'slickers', 9133: 'ownder', 9134: 'shockers', 9135: 'mum', 9136: 'settles', 9137: 'oldfashioned', 9138: 'produdt', 9139: 'lassi', 9140: 'waygu', 9141: 'refresher', 9142: 'grandparents', 9143: 'reluctant', 9144: 'wellbars', 9145: 'ribeye', 9146: 'institutional', 9147: 'cerial', 9148: 'hawkin', 9149: 'cheesies', 9150: 'tdawnyg', 9151: 'valbon', 9152: 'nussini', 9153: 'crockett', 9154: 'stripe', 9155: 'pile', 9156: 'orginal', 9157: 'sir', 9158: 'duffy', 9159: 'crumpets', 9160: 'yesssss', 9161: 'lawwwwddd', 9162: 'grainfree', 9163: 'emmy', 9164: 'ailments', 9165: 'everrrrrrrr', 9166: 'future', 9167: 'stingers', 9168: 'dbp', 9169: 'liege', 9170: 'hooters', 9171: 'boneless', 9172: 'stealing', 9173: 'borwn', 9174: 'agricultural', 9175: 'practices', 9176: 'versitile', 9177: 'jive', 9178: 'medal', 9179: 'hk', 9180: 'spouse', 9181: 'friendship', 9182: 'lighting', 9183: 'rod', 9184: 'fellas', 9185: 'clouds', 9186: 'aiding', 9187: 'digesting', 9188: 'unsatisfying', 9189: 'flackers', 9190: 'charred', 9191: 'quantitiy', 9192: 'cimmion', 9193: 'boyland', 9194: 'enegry', 9195: 'sheets', 9196: 'nicotine', 9197: 'bobby', 9198: 'swallowing', 9199: 'whiten', 9200: 'taro', 9201: 'snowcone', 9202: 'dense', 9203: 'checkup', 9204: 'boner', 9205: 'dumplings', 9206: 'buon', 9207: 'rooster', 9208: 'joymuns', 9209: 'soccer', 9210: 'field', 9211: 'inflation', 9212: 'wudgy', 9213: 'cappucinnos', 9214: 'nido', 9215: 'degrees', 9216: 'unenjoyable', 9217: 'ghiardelli', 9218: 'sustainer', 9219: 'approachable', 9220: 'dyes', 9221: 'icy', 9222: 'laughs', 9223: 'unwholesome', 9224: 'breat', 9225: 'potes', 9226: 'leaks', 9227: 'cconut', 9228: 'volvic', 9229: 'careless', 9230: 'truck', 9231: 'diamnond', 9232: 'wafery', 9233: 'foodies', 9234: 'uggh', 9235: 'tummo', 9236: 'beleive', 9237: 'amazom', 9238: 'respects', 9239: 'orangettes', 9240: 'squeemish', 9241: 'toxin', 9242: 'loong', 9243: 'favered', 9244: 'blecch', 9245: 'rotted', 9246: 'carton', 9247: 'kurig', 9248: 'sublime', 9249: 'droewors', 9250: 'roma', 9251: 'ristretto', 9252: 'glutinous', 9253: 'dlicious', 9254: 'nighty', 9255: 'outraged', 9256: 'denver', 9257: 'medley', 9258: 'yums', 9259: 'palpitations', 9260: 'aw', 9261: 'mavijeans', 9262: 'maggots', 9263: 'kitkat', 9264: 'sheep', 9265: 'clothing', 9266: 'ezine', 9267: 'rita', 9268: 'hrs', 9269: 'kentuckygirl', 9270: 'ruffles', 9271: 'ridges', 9272: 'lion', 9273: 'mch', 9274: 'teatea', 9275: 'omits', 9276: 'hop', 9277: 'pgtips', 9278: 'instruction', 9279: 'translation', 9280: 'solvers', 9281: 'nutrasweet', 9282: 'illegal', 9283: 'parakeets', 9284: 'pupperz', 9285: 'dug', 9286: 'smorelly', 9287: 'anoher', 9288: 'omit', 9289: 'jams', 9290: 'coasters', 9291: 'hat', 9292: 'survivor', 9293: 'skyrocketed', 9294: 'patience', 9295: 'renewing', 9296: 'anergen', 9297: 'mak', 9298: 'champagne', 9299: 'vegitable', 9300: 'marylin', 9301: 'forced', 9302: 'dackels', 9303: 'conspiracy', 9304: 'studying', 9305: 'kernelly', 9306: 'reality', 9307: 'quintessential', 9308: 'tommy', 9309: 'uneatable', 9310: 'tonytada', 9311: 'overal', 9312: 'destructive', 9313: 'pamper', 9314: 'brief', 9315: 'malossol', 9316: 'morin', 9317: 'crown', 9318: 'prince', 9319: 'brisling', 9320: 'deceptively', 9321: 'marketed', 9322: 'flag', 9323: 'irritated', 9324: 'basamic', 9325: 'pusher', 9326: 'disks', 9327: 'planing', 9328: 'zucchini', 9329: 'boletus', 9330: 'edulis', 9331: 'anana', 9332: 'seniors', 9333: 'cog', 9334: 'pipe', 9335: 'sppedy', 9336: 'yuuuuumm', 9337: 'gourmantra', 9338: 'jayjayreviewer', 9339: 'bazaar', 9340: 'asiago', 9341: 'jacklink', 9342: 'saccharine', 9343: 'marvellous', 9344: 'dutchgirl', 9345: 'racer', 9346: 'frustrating', 9347: 'barb', 9348: 'mercy', 9349: 'encouragement', 9350: 'prok', 9351: 'altering', 9352: 'humas', 9353: 'pablano', 9354: 'grownups', 9355: 'dorky', 9356: 'brody', 9357: 'evaporate', 9358: 'norway', 9359: 'specks', 9360: 'allmost', 9361: 'jummy', 9362: 'nontheless', 9363: 'poprocks', 9364: 'ande', 9365: 'provide', 9366: 'jbertsiesfavs', 9367: 'vermonter', 9368: 'embrassed', 9369: 'fibre', 9370: 'profitable', 9371: 'grumbling', 9372: 'skimpy', 9373: 'magnefico', 9374: 'congeneal', 9375: 'anchvies', 9376: 'legit', 9377: 'manifique', 9378: 'dicey', 9379: 'nonthing', 9380: 'deadheads', 9381: 'parboiled', 9382: 'loganberry', 9383: 'env', 9384: 'dallas', 9385: 'boldo', 9386: 'titus', 9387: 'baaaad', 9388: 'nutrious', 9389: 'sevice', 9390: 'judy', 9391: 'starlet', 9392: 'ddjj', 9393: 'masked', 9394: 'kittykat', 9395: 'trumps', 9396: 'charcoal', 9397: 'collice', 9398: 'azar', 9399: 'financing', 9400: 'occupation', 9401: 'destroy', 9402: 'latice', 9403: 'naturade', 9404: 'lauri', 9405: 'teresa', 9406: 'ny', 9407: 'patchi', 9408: 'focused', 9409: 'ghees', 9410: 'perugina', 9411: 'deeeee', 9412: 'cbou', 9413: 'sprinkle', 9414: 'nog', 9415: 'rzip', 9416: 'sant', 9417: 'eustachio', 9418: 'wildside', 9419: 'uhmm', 9420: 'willy', 9421: 'wonkalicious', 9422: 'potty', 9423: 'mh', 9424: 'output', 9425: 'compounds', 9426: 'badda', 9427: 'belong', 9428: 'fugi', 9429: 'roasting', 9430: 'barrels', 9431: 'hunters', 9432: 'rjrich', 9433: 'orville', 9434: 'redenbacher', 9435: 'mtb', 9436: 'minrt', 9437: 'parisian', 9438: 'rover', 9439: 'atypical', 9440: 'cartridges', 9441: 'sweeatners', 9442: 'rumsford', 9443: 'giorgio', 9444: 'redfish', 9445: 'polisher', 9446: 'transfats', 9447: 'independent', 9448: 'testing', 9449: 'va', 9450: 'pumking', 9451: 'rc', 9452: 'babycat', 9453: 'highlander', 9454: 'grogg', 9455: 'dainty', 9456: 'dawer', 9457: 'yoli', 9458: 'eureka', 9459: 'hoodia', 9460: 'bun', 9461: 'phillips', 9462: 'barbeques', 9463: 'abd', 9464: 'edition', 9465: 'formidable', 9466: 'wolf', 9467: 'gang', 9468: 'sleeper', 9469: 'candys', 9470: 'frustrates', 9471: 'yucker', 9472: 'mucker', 9473: 'ewwwwww', 9474: 'invigorating', 9475: 'insufficient', 9476: 'teariffic', 9477: 'rebound', 9478: 'chalet', 9479: 'kidz', 9480: 'lesliejune', 9481: 'mikey', 9482: 'krurig', 9483: 'ofr', 9484: 'tripping', 9485: 'sprouted', 9486: 'attach', 9487: 'abomination', 9488: 'seemingly', 9489: 'adjustable', 9490: 'ti', 9491: 'salba', 9492: 'zappin', 9493: 'oishii', 9494: 'advanced', 9495: 'df', 9496: 'aside', 9497: 'effiecient', 9498: 'curries', 9499: 'tracked', 9500: 'limbaugh', 9501: 'liptons', 9502: 'bonus', 9503: 'annamaet', 9504: 'impact', 9505: 'improve', 9506: 'engineered', 9507: 'debate', 9508: 'correction', 9509: 'blackcurrant', 9510: 'stupendous', 9511: 'ballerina', 9512: 'nutritionally', 9513: 'yumy', 9514: 'bulldogs', 9515: 'overkill', 9516: 'wheaties', 9517: 'favorits', 9518: 'informed', 9519: 'canister', 9520: 'carrie', 9521: 'satisied', 9522: 'spongy', 9523: 'hail', 9524: 'personality', 9525: 'mee', 9526: 'ooo', 9527: 'honeybush', 9528: 'aaaarrrrrgggghhhhh', 9529: 'wha', 9530: 'unprecedented', 9531: 'smom', 9532: 'scarce', 9533: 'politicians', 9534: 'weeellll', 9535: 'unbearably', 9536: 'tuscan', 9537: 'pooptacularly', 9538: 'pf', 9539: 'changs', 9540: 'tropic', 9541: 'naughtiness', 9542: 'serendipity', 9543: 'frrozen', 9544: 'fracaso', 9545: 'lightsaber', 9546: 'tacular', 9547: 'lifeless', 9548: 'vegies', 9549: 'lyle', 9550: 'diverse', 9551: 'tipped', 9552: 'garrotxa', 9553: 'discontinue', 9554: 'vacationing', 9555: 'grapes', 9556: 'filippo', 9557: 'berio', 9558: 'trio', 9559: 'charged', 9560: 'certs', 9561: 'buttermilk', 9562: 'ahead', 9563: 'cheezier', 9564: 'supervised', 9565: 'blent', 9566: 'collectables', 9567: 'shitake', 9568: 'phillippine', 9569: 'eauction', 9570: 'duo', 9571: 'ranchy', 9572: 'kentucky', 9573: 'book', 9574: 'ft', 9575: 'haiga', 9576: 'laundry', 9577: 'undertones', 9578: 'infected', 9579: 'thailand', 9580: 'fluff', 9581: 'carnival', 9582: 'tannic', 9583: 'breasts', 9584: 'municipal', 9585: 'hullless', 9586: 'tasing', 9587: 'disatisfied', 9588: 'challenges', 9589: 'fing', 9590: 'comestible', 9591: 'pepsin', 9592: 'decription', 9593: 'fro', 9594: 'campfire', 9595: 'cinamon', 9596: 'fabulousness', 9597: 'bobbys', 9598: 'heathful', 9599: 'cheech', 9600: 'chong', 9601: 'chlorhexidine', 9602: 'perfumed', 9603: 'retired', 9604: 'advocated', 9605: 'zqueen', 9606: 'monte', 9607: 'chilies', 9608: 'jgk', 9609: 'repulsive', 9610: 'wildest', 9611: 'wrigley', 9612: 'winterfresh', 9613: 'chcolate', 9614: 'retrivers', 9615: 'scotland', 9616: 'block', 9617: 'adjustments', 9618: 'scrubs', 9619: 'suds', 9620: 'device', 9621: 'wondering', 9622: 'receipts', 9623: 'schnauzer', 9624: 'mapley', 9625: 'excellnt', 9626: 'chrondrotin', 9627: 'umbria', 9628: 'ritual', 9629: 'pumped', 9630: 'easrly', 9631: 'yey', 9632: 'labradingo', 9633: 'flours', 9634: 'vac', 9635: 'descent', 9636: 'peal', 9637: 'chocoloholic', 9638: 'solidified', 9639: 'scovilles', 9640: 'percentage', 9641: 'callebaut', 9642: 'cinnamony', 9643: 'backyard', 9644: 'snacked', 9645: 'gumdrop', 9646: 'altura', 9647: 'whoop', 9648: 'delallo', 9649: 'bravi', 9650: 'gemelli', 9651: 'alien', 9652: 'blob', 9653: 'methol', 9654: 'raspebrry', 9655: 'rewarding', 9656: 'gordolobo', 9657: 'abroad', 9658: 'indomie', 9659: 'orbits', 9660: 'daaalish', 9661: 'posthumous', 9662: 'oscar', 9663: 'romono', 9664: 'complex', 9665: 'pallete', 9666: 'grossest', 9667: 'glop', 9668: 'relatives', 9669: 'alo', 9670: 'laughing', 9671: 'reasonabkle', 9672: 'trailer', 9673: 'sherbet', 9674: 'unusable', 9675: 'wherehouse', 9676: 'clubs', 9677: 'subscriber', 9678: 'weighs', 9679: 'evco', 9680: 'bulgogi', 9681: 'reliever', 9682: 'flash', 9683: 'goober', 9684: 'unpleasantly', 9685: 'huckelberry', 9686: 'ily', 9687: 'ave', 9688: 'thompson', 9689: 'seesaw', 9690: 'capelin', 9691: 'frap', 9692: 'scotch', 9693: 'shoeleather', 9694: 'blended', 9695: 'infused', 9696: 'gins', 9697: 'savvy', 9698: 'caliopes', 9699: 'zagreb', 9700: 'dorset', 9701: 'annas', 9702: 'partner', 9703: 'pickin', 9704: 'proud', 9705: 'shampo', 9706: 'ofcourse', 9707: 'caught', 9708: 'corrective', 9709: 'rosematic', 9710: 'intolerance', 9711: 'foolish', 9712: 'lolas', 9713: 'obliteration', 9714: 'fixing', 9715: 'simpliest', 9716: 'isn', 9717: 'monkey', 9718: 'bouncy', 9719: 'waffers', 9720: 'amishpopcorn', 9721: 'stopping', 9722: 'keen', 9723: 'qaulity', 9724: 'mellowed', 9725: 'beau', 9726: 'monde', 9727: 'adulterated', 9728: 'buyl', 9729: 'dusting', 9730: 'liption', 9731: 'francais', 9732: 'wisconsinmade', 9733: 'sucessful', 9734: 'flicks', 9735: 'nutshells', 9736: 'cinammon', 9737: 'mgo', 9738: 'polyvalent', 9739: 'microwaveable', 9740: 'julius', 9741: 'meinl', 9742: 'shepherds', 9743: 'token', 9744: 'accumulate', 9745: 'primarily', 9746: 'badness', 9747: 'er', 9748: 'stripes', 9749: 'execellent', 9750: 'idiots', 9751: 'arrive', 9752: 'mw', 9753: 'bovine', 9754: 'slushie', 9755: 'gro', 9756: 'removed', 9757: 'groundhogs', 9758: 'fo', 9759: 'shizzle', 9760: 'aka', 9761: 'briley', 9762: 'rebar', 9763: 'humidity', 9764: 'tweeking', 9765: 'wazoo', 9766: 'delics', 9767: 'radish', 9768: 'glutten', 9769: 'peeling', 9770: 'tones', 9771: 'crayons', 9772: 'remove', 9773: 'vailable', 9774: 'curbing', 9775: 'flows', 9776: 'uncomplicated', 9777: 'romey', 9778: 'performs', 9779: 'provence', 9780: 'negatively', 9781: 'hight', 9782: 'telling', 9783: 'saw', 9784: 'sleeping', 9785: 'swanson', 9786: 'beads', 9787: 'bavarian', 9788: 'faygo', 9789: 'faucet', 9790: 'notes', 9791: 'ashwagandha', 9792: 'nanna', 9793: 'puffet', 9794: 'davinci', 9795: 'sweetart', 9796: 'breakables', 9797: 'awsomely', 9798: 'pumpkinhead', 9799: 'beaufort', 9800: 'holistix', 9801: 'amarettini', 9802: 'brt', 9803: 'recvd', 9804: 'chooses', 9805: 'contaminated', 9806: 'giggity', 9807: 'pulling', 9808: 'groumet', 9809: 'squism', 9810: 'kuma', 9811: 'madam', 9812: 'maintains', 9813: 'vanill', 9814: 'minitreats', 9815: 'wowasabi', 9816: 'natrual', 9817: 'unflavorful', 9818: 'shizuoka', 9819: 'compressed', 9820: 'cella', 9821: 'eleven', 9822: 'treacle', 9823: 'seneca', 9824: 'openning', 9825: 'shops', 9826: 'toolbox', 9827: 'introduce', 9828: 'heather', 9829: 'fullslate', 9830: 'sprouty', 9831: 'authenic', 9832: 'seizures', 9833: 'midgrade', 9834: 'happytot', 9835: 'hill', 9836: 'yoga', 9837: 'nostalgia', 9838: 'iphone', 9839: 'researching', 9840: 'lomo', 9841: 'iberico', 9842: 'bellota', 9843: 'loin', 9844: 'qc', 9845: 'cuious', 9846: 'vg', 9847: 'bors', 9848: 'swwwwweet', 9849: 'minestrone', 9850: 'oooooooooo', 9851: 'kiki', 9852: 'recycled', 9853: 'evenly', 9854: 'leroux', 9855: 'ripping', 9856: 'dominant', 9857: 'beet', 9858: 'moode', 9859: 'decoration', 9860: 'nejaime', 9861: 'lavasch', 9862: 'hunt', 9863: 'skyflakes', 9864: 'feeder', 9865: 'indomied', 9866: 'panera', 9867: 'scored', 9868: 'factor', 9869: 'troops', 9870: 'damged', 9871: 'misslabeled', 9872: 'ramenlicious', 9873: 'ummy', 9874: 'browning', 9875: 'altered', 9876: 'drug', 9877: 'pissedoff', 9878: 'sehr', 9879: 'multiportion', 9880: 'gunter', 9881: 'natucket', 9882: 'fox', 9883: 'macrobars', 9884: 'ash', 9885: 'guatemala', 9886: 'antigua', 9887: 'krinos', 9888: 'cannied', 9889: 'unpredictable', 9890: 'conniseur', 9891: 'menstral', 9892: 'recognize', 9893: 'tavah', 9894: 'kal', 9895: 'bi', 9896: 'cheat', 9897: 'cigars', 9898: 'mallowmars', 9899: 'axe', 9900: 'adjusted', 9901: 'barks', 9902: 'wasting', 9903: 'insipid', 9904: 'poultry', 9905: 'ronnie', 9906: 'suet', 9907: 'discernable', 9908: 'kettles', 9909: 'overwhelmingly', 9910: 'intro', 9911: 'spherification', 9912: 'creat', 9913: 'wasnt', 9914: 'resolution', 9915: 'excekkent', 9916: 'arfilicious', 9917: 'jalape', 9918: 'healer', 9919: 'dam', 9920: 'overprices', 9921: 'advertiesed', 9922: 'ne', 9923: 'powdder', 9924: 'swelling', 9925: 'flourer', 9926: 'supervise', 9927: 'xcellent', 9928: 'geen', 9929: 'sasros', 9930: 'nan', 9931: 'thinnest', 9932: 'surgery', 9933: 'downized', 9934: 'fluke', 9935: 'bp', 9936: 'whisky', 9937: 'digests', 9938: 'hermits', 9939: 'recommendations', 9940: 'pmegranates', 9941: 'expert', 9942: 'scottie', 9943: 'insomnia', 9944: 'prism', 9945: 'unevenly', 9946: 'fuller', 9947: 'shortbreads', 9948: 'repackaged', 9949: 'sbould', 9950: 'crums', 9951: 'decorate', 9952: 'mariani', 9953: 'plums', 9954: 'gubmo', 9955: 'barbi', 9956: 'pamaela', 9957: 'corazonas', 9958: 'decreased', 9959: 'pity', 9960: 'potatoies', 9961: 'sap', 9962: 'relaxer', 9963: 'witout', 9964: 'accuracy', 9965: 'beeeejeeezuz', 9966: 'yeeeech', 9967: 'enerjets', 9968: 'scheweppes', 9969: 'spewed', 9970: 'closet', 9971: 'preparing', 9972: 'pub', 9973: 'snowpeas', 9974: 'repeatedly', 9975: 'rotties', 9976: 'dduuuuuudddddeee', 9977: 'undigestible', 9978: 'popcorm', 9979: 'heeler', 9980: 'lacey', 9981: 'heap', 9982: 'energets', 9983: 'maggi', 9984: 'weuva', 9985: 'punish', 9986: 'slo', 9987: 'pokes', 9988: 'wonferful', 9989: 'despised', 9990: 'lights', 9991: 'contest', 9992: 'bonk', 9993: 'modest', 9994: 'satisfacation', 9995: 'oversteep', 9996: 'cili', 9997: 'supple', 9998: 'seasickness', 9999: 'rugged', 10000: 'grammykelly', 10001: 'wagging', 10002: 'carrageenan', 10003: 'slimmer', 10004: 'margie', 10005: 'fight', 10006: 'wellnes', 10007: 'lung', 10008: 'jah', 10009: 'doesn', 10010: 'involved', 10011: 'chocalicious', 10012: 'charlee', 10013: 'scream', 10014: 'hottttttttttt', 10015: 'hubs', 10016: 'middling', 10017: 'condensor', 10018: 'pakcake', 10019: 'gaaaawwwwdddd', 10020: 'convinient', 10021: 'export', 10022: 'loverssoul', 10023: 'detroit', 10024: 'macros', 10025: 'zany', 10026: 'napolean', 10027: 'unrealistic', 10028: 'nitrates', 10029: 'cindi', 10030: 'chocolet', 10031: 'sexxy', 10032: 'cougar', 10033: 'cuz', 10034: 'whiskers', 10035: 'jamma', 10036: 'lamby', 10037: 'lapanzanella', 10038: 'sacrifice', 10039: 'unpop', 10040: 'katie', 10041: 'retutned', 10042: 'pometta', 10043: 'ys', 10044: 'pampered', 10045: 'folly', 10046: 'abbey', 10047: 'lotts', 10048: 'pulao', 10049: 'risebar', 10050: 'nigella', 10051: 'tuc', 10052: 'ghc', 10053: 'sleeps', 10054: 'afforable', 10055: 'noise', 10056: 'xlr', 10057: 'usb', 10058: 'matches', 10059: 'discription', 10060: 'tadka', 10061: 'daal', 10062: 'americano', 10063: 'kiwis', 10064: 'conflakes', 10065: 'wowza', 10066: 'custumer', 10067: 'faerie', 10068: 'bst', 10069: 'roadtrip', 10070: 'spillage', 10071: 'fastic', 10072: 'nosi', 10073: 'boyer', 10074: 'explosion', 10075: 'jja', 10076: 'tunalicious', 10077: 'henry', 10078: 'nursery', 10079: 'currents', 10080: 'kaffir', 10081: 'musselmans', 10082: 'whitehouse', 10083: 'connection', 10084: 'doting', 10085: 'vary', 10086: 'hitor', 10087: 'taramosalata', 10088: 'beens', 10089: 'weigh', 10090: 'lathered', 10091: 'harvey', 10092: 'kippers', 10093: 'yumiiii', 10094: 'macht', 10095: 'kinder', 10096: 'froh', 10097: 'butler', 10098: 'pamala', 10099: 'twinkies', 10100: 'greatly', 10101: 'moonstruck', 10102: 'clearance', 10103: 'willibee', 10104: 'outdid', 10105: 'mouthful', 10106: 'classed', 10107: 'finished', 10108: 'cubano', 10109: 'sat', 10110: 'woflgang', 10111: 'nongshim', 10112: 'simplifying', 10113: 'finds', 10114: 'honorable', 10115: 'macadmia', 10116: 'unforgettable', 10117: 'responsibility', 10118: 'towards', 10119: 'grapefruity', 10120: 'domlno', 10121: 'fettuccini', 10122: 'extraxts', 10123: 'smooooooth', 10124: 'scrumpalicious', 10125: 'fanta', 10126: 'subjective', 10127: 'expierence', 10128: 'qick', 10129: 'chapter', 10130: 'mtr', 10131: 'rajma', 10132: 'indulging', 10133: 'offline', 10134: 'daddy', 10135: 'flounder', 10136: 'intoxicated', 10137: 'alum', 10138: 'tastee', 10139: 'require', 10140: 'fallin', 10141: 'yow', 10142: 'grav', 10143: 'twinkle', 10144: 'samples', 10145: 'maribisi', 10146: 'sienna', 10147: 'orderer', 10148: 'gracie', 10149: 'barnies', 10150: 'yogurettes', 10151: 'loooooove', 10152: 'einkorn', 10153: 'chases', 10154: 'beefeater', 10155: 'tractor', 10156: 'trailor', 10157: 'load', 10158: 'olate', 10159: 'insult', 10160: 'fantasric', 10161: 'istevia', 10162: 'barnie', 10163: 'buyyer', 10164: 'stormy', 10165: 'reservations', 10166: 'readible', 10167: 'unuseable', 10168: 'esp', 10169: 'barking', 10170: 'lucaffe', 10171: 'smallest', 10172: 'relive', 10173: 'philippines', 10174: 'underweight', 10175: 'lambs', 10176: 'secrets', 10177: 'traverse', 10178: 'weiss', 10179: 'kluski', 10180: 'dumpling', 10181: 'soothes', 10182: 'clippings', 10183: 'gummylicious', 10184: 'copper', 10185: 'talked', 10186: 'labelling', 10187: 'meyling', 10188: 'tiggie', 10189: 'pomegranet', 10190: 'hnc', 10191: 'stressful', 10192: 'moments', 10193: 'greathoney', 10194: 'sor', 10195: 'crispness', 10196: 'wyzykoski', 10197: 'devil', 10198: 'shimmer', 10199: 'caloric', 10200: 'nonplused', 10201: 'ingedient', 10202: 'vgs', 10203: 'likesw', 10204: 'interestingly', 10205: 'englis', 10206: 'wonderfuly', 10207: 'chefrand', 10208: 'polenta', 10209: 'vapid', 10210: 'descaling', 10211: 'bellyflop', 10212: 'ecstatic', 10213: 'yummish', 10214: 'delgiht', 10215: 'vimto', 10216: 'orion', 10217: 'steamroller', 10218: 'ingenious', 10219: 'teenies', 10220: 'sohgave', 10221: 'miles', 10222: 'hotte', 10223: 'detect', 10224: 'prickly', 10225: 'cloudy', 10226: 'myeh', 10227: 'sentry', 10228: 'mite', 10229: 'greenyoung', 10230: 'bebea', 10231: 'receptive', 10232: 'leads', 10233: 'bene', 10234: 'hearts', 10235: 'restful', 10236: 'concentration', 10237: 'bleached', 10238: 'overcharging', 10239: 'demi', 10240: 'tasse', 10241: 'keepem', 10242: 'comin', 10243: 'enrico', 10244: 'octopi', 10245: 'cruelty', 10246: 'neoguri', 10247: 'freshener', 10248: 'mackerels', 10249: 'duncan', 10250: 'yurgh', 10251: 'everythign', 10252: 'frikies', 10253: 'fertilizer', 10254: 'homebrewers', 10255: 'doughy', 10256: 'timer', 10257: 'braces', 10258: 'vomited', 10259: 'chocolatemint', 10260: 'teens', 10261: 'haz', 10262: 'sanskriti', 10263: 'wint', 10264: 'joffrey', 10265: 'envelopes', 10266: 'tension', 10267: 'purrrfect', 10268: 'rahide', 10269: 'untitled', 10270: 'somthing', 10271: 'stonewalll', 10272: 'alfie', 10273: 'funyuns', 10274: 'odense', 10275: 'mkt', 10276: 'cupajoe', 10277: 'fittest', 10278: 'ron', 10279: 'dunlap', 10280: 'neman', 10281: 'applejacks', 10282: 'barecontessa', 10283: 'nairns', 10284: 'colin', 10285: 'evarrrrrr', 10286: 'berbere', 10287: 'aide', 10288: 'portato', 10289: 'bibi', 10290: 'allowed', 10291: 'sattisfies', 10292: 'desires', 10293: 'bubbling', 10294: 'infants', 10295: 'weirdest', 10296: 'program', 10297: 'convienet', 10298: 'cramping', 10299: 'marc', 10300: 'dept', 10301: 'fong', 10302: 'siracha', 10303: 'hoy', 10304: 'damned', 10305: 'airpop', 10306: 'manual', 10307: 'amusement', 10308: 'park', 10309: 'whitish', 10310: 'syddrome', 10311: 'chistmas', 10312: 'connoisseur', 10313: 'netgrocers', 10314: 'persians', 10315: 'himalayans', 10316: 'carba', 10317: 'nada', 10318: 'yeahrightsure', 10319: 'jellybellies', 10320: 'carried', 10321: 'ikea', 10322: 'elders', 10323: 'narnia', 10324: 'charlie', 10325: 'bloomed', 10326: 'smoooooooooth', 10327: 'deeeeelicious', 10328: 'peter', 10329: 'afterwards', 10330: 'vacume', 10331: 'connoisseurs', 10332: 'jade', 10333: 'yuckkkkk', 10334: 'wormy', 10335: 'brodies', 10336: 'loaves', 10337: 'laws', 10338: 'wraped', 10339: 'cruz', 10340: 'misinformation', 10341: 'deeeeeeeeelish', 10342: 'coffeeone', 10343: 'fabuloous', 10344: 'cysts', 10345: 'larissa', 10346: 'unbelieveable', 10347: 'cultures', 10348: 'cassis', 10349: 'barksters', 10350: 'krisps', 10351: 'assistance', 10352: 'bridgford', 10353: 'cowjam', 10354: 'greeaat', 10355: 'eeewwww', 10356: 'filed', 10357: 'betsy', 10358: 'eggcellent', 10359: 'unrefined', 10360: 'nastiest', 10361: 'broc', 10362: 'cavalier', 10363: 'looong', 10364: 'hotness', 10365: 'jlhatfield', 10366: 'declined', 10367: 'drastically', 10368: 'teenagers', 10369: 'exaggerated', 10370: 'satisifed', 10371: 'ziwipeaks', 10372: 'leo', 10373: 'romo', 10374: 'relieve', 10375: 'unparalleled', 10376: 'teen', 10377: 'village', 10378: 'mixing', 10379: 'alkali', 10380: 'exalant', 10381: 'moisturizes', 10382: 'hazlenut', 10383: 'insists', 10384: 'weapon', 10385: 'yippy', 10386: 'soooooooooo', 10387: 'billbery', 10388: 'ap', 10389: 'ritif', 10390: 'bullet', 10391: 'knox', 10392: 'nv', 10393: 'spleanda', 10394: 'hetrbal', 10395: 'instand', 10396: 'maltodextrin', 10397: 'painfully', 10398: 'popovers', 10399: 'shampoos', 10400: 'looses', 10401: 'totes', 10402: 'victum', 10403: 'hardtack', 10404: 'sweeties', 10405: 'moo', 10406: 'tubes', 10407: 'rosebud', 10408: 'elephant', 10409: 'cloth', 10410: 'tap', 10411: 'edamame', 10412: 'roy', 10413: 'inconsistently', 10414: 'sass', 10415: 'zingy', 10416: 'piss', 10417: 'paino', 10418: 'pone', 10419: 'newfie', 10420: 'springs', 10421: 'gee', 10422: 'defines', 10423: 'britishness', 10424: 'boutique', 10425: 'hefty', 10426: 'mutlivitamin', 10427: 'albiet', 10428: 'xpensive', 10429: 'congestion', 10430: 'unpeeled', 10431: 'bc', 10432: 'aaa', 10433: 'flatter', 10434: 'rk', 10435: 'ye', 10436: 'veterinary', 10437: 'eeeewwww', 10438: 'beekeeper', 10439: 'lacy', 10440: 'shamamed', 10441: 'lay', 10442: 'conoisseur', 10443: 'amazubg', 10444: 'cupa', 10445: 'acts', 10446: 'bev', 10447: 'welchs', 10448: 'flavordoh', 10449: 'tightly', 10450: 'dk', 10451: 'chocpoms', 10452: 'depth', 10453: 'offtaste', 10454: 'sparkles', 10455: 'goldilocks', 10456: 'deliever', 10457: 'bri', 10458: 'blegh', 10459: 'fartiness', 10460: 'hateful', 10461: 'powerberries', 10462: 'grrrrrreat', 10463: 'cove', 10464: 'guts', 10465: 'wuyi', 10466: 'manic', 10467: 'cheeselicious', 10468: 'variable', 10469: 'thief', 10470: 'pero', 10471: 'merchant', 10472: 'prayers', 10473: 'answered', 10474: 'stacker', 10475: 'tabasco', 10476: 'sufficient', 10477: 'southwestern', 10478: 'outta', 10479: 'assisted', 10480: 'therpist', 10481: 'awakening', 10482: 'extracts', 10483: 'pacifiers', 10484: 'dunkaroos', 10485: 'cocao', 10486: 'ulp', 10487: 'monika', 10488: 'drafty', 10489: 'lifesaverspepomint', 10490: 'chaim', 10491: 'quanitity', 10492: 'citrusy', 10493: 'decreases', 10494: 'fanastic', 10495: 'daiquiri', 10496: 'grover', 10497: 'heartier', 10498: 'cork', 10499: 'drain', 10500: 'pedialite', 10501: 'transportation', 10502: 'tapenade', 10503: 'quailty', 10504: 'region', 10505: 'extinct', 10506: 'boyajian', 10507: 'whether', 10508: 'southerner', 10509: 'mansfieldgrp', 10510: 'internal', 10511: 'seren', 10512: 'anus', 10513: 'origonal', 10514: 'goumet', 10515: 'bewitching', 10516: 'forests', 10517: 'mantova', 10518: 'extraordinarily', 10519: 'jz', 10520: 'torilla', 10521: 'wooah', 10522: 'yumalishus', 10523: 'carolina', 10524: 'vey', 10525: 'cinanmon', 10526: 'story', 10527: 'assume', 10528: 'francis', 10529: 'officially', 10530: 'popcornopolis', 10531: 'swizzles', 10532: 'tripe', 10533: 'linguini', 10534: 'truest', 10535: 'miniatures', 10536: 'caffeen', 10537: 'stupidly', 10538: 'marilyn', 10539: 'joker', 10540: 'unenchanted', 10541: 'existent', 10542: 'income', 10543: 'rollercaoster', 10544: 'roadhouse', 10545: 'zagnuts', 10546: 'redbull', 10547: 'obligate', 10548: 'carnivores', 10549: 'scalpers', 10550: 'gardener', 10551: 'oloves', 10552: 'stange', 10553: 'upside', 10554: 'motto', 10555: 'mention', 10556: 'bali', 10557: 'salso', 10558: 'pico', 10559: 'gallo', 10560: 'revoluton', 10561: 'getter', 10562: 'woww', 10563: 'jen', 10564: 'cc', 10565: 'serendipi', 10566: 'enticement', 10567: 'cinnemon', 10568: 'didnot', 10569: 'acrid', 10570: 'lungo', 10571: 'billy', 10572: 'chill', 10573: 'ganoclassic', 10574: 'grenies', 10575: 'finer', 10576: 'hater', 10577: 'patties', 10578: 'firey', 10579: 'slap', 10580: 'heb', 10581: 'iveta', 10582: 'monthly', 10583: 'thousands', 10584: 'invisible', 10585: 'destructible', 10586: 'burrito', 10587: 'vickie', 10588: 'pelindaba', 10589: 'sup', 10590: 'worcestershire', 10591: 'litterally', 10592: 'gagged', 10593: 'sickening', 10594: 'scoville', 10595: 'deliceous', 10596: 'cheaters', 10597: 'consistant', 10598: 'kuhflecken', 10599: 'rigatoni', 10600: 'mein', 10601: 'sweeeeeet', 10602: 'mishmash', 10603: 'droppings', 10604: 'carte', 10605: 'noire', 10606: 'cheery', 10607: 'logan', 10608: 'channa', 10609: 'italia', 10610: 'wonderfull', 10611: 'hikers', 10612: 'blumin', 10613: 'champion', 10614: 'cbtl', 10615: 'molding', 10616: 'suga', 10617: 'scoops', 10618: 'caramello', 10619: 'busted', 10620: 'healthyfood', 10621: 'tolerates', 10622: 'gumi', 10623: 'beras', 10624: 'soured', 10625: 'madmax', 10626: 'chuck', 10627: 'loveeeeee', 10628: 'overpaid', 10629: 'sachets', 10630: 'decor', 10631: 'dycee', 10632: 'parachute', 10633: 'theme', 10634: 'decal', 10635: 'held', 10636: 'muli', 10637: 'zoology', 10638: 'meltdown', 10639: 'noses', 10640: 'otto', 10641: 'pefect', 10642: 'flaxing', 10643: 'hothothothothothothot', 10644: 'arg', 10645: 'daring', 10646: 'jersey', 10647: 'contribution', 10648: 'civilization', 10649: 'absotively', 10650: 'posilutely', 10651: 'lifewater', 10652: 'chem', 10653: 'gaiters', 10654: 'weezer', 10655: 'newlife', 10656: 'styrian', 10657: 'strudy', 10658: 'vitacoco', 10659: 'quatity', 10660: 'breakers', 10661: 'allright', 10662: 'unsuccessul', 10663: 'skydive', 10664: 'fixins', 10665: 'symphony', 10666: 'wii', 10667: 'favorful', 10668: 'herman', 10669: 'breadpudding', 10670: 'omygosh', 10671: 'bichons', 10672: 'excellante', 10673: 'seasonal', 10674: 'tortillia', 10675: 'snacki', 10676: 'theresa', 10677: 'pak', 10678: 'squapplesauce', 10679: 'yucchhhh', 10680: 'horsepower', 10681: 'drago', 10682: 'amul', 10683: 'indoors', 10684: 'fruitofthecali', 10685: 'purring', 10686: 'scwt', 10687: 'cheeseeeee', 10688: 'feedback', 10689: 'tremors', 10690: 'genuises', 10691: 'sugared', 10692: 'wessex', 10693: 'chart', 10694: 'workable', 10695: 'fruitables', 10696: 'nonni', 10697: 'shapes', 10698: 'prodcut', 10699: 'oxidant', 10700: 'vomitous', 10701: 'performance', 10702: 'fisheater', 10703: 'hansens', 10704: 'styrafoam', 10705: 'patak', 10706: 'everythingrub', 10707: 'tlc', 10708: 'trainning', 10709: 'crowning', 10710: 'bigfamily', 10711: 'perennial', 10712: 'enthusiasm', 10713: 'bootlegging', 10714: 'scones', 10715: 'art', 10716: 'chincoteague', 10717: 'chocalate', 10718: 'slop', 10719: 'unnaturally', 10720: 'overeat', 10721: 'snicker', 10722: 'counselor', 10723: 'lifes', 10724: 'mores', 10725: 'cave', 10726: 'cets', 10727: 'rehydrate', 10728: 'lous', 10729: 'warehoused', 10730: 'sseds', 10731: 'haennchen', 10732: 'sniff', 10733: 'housewarming', 10734: 'eleteamazon', 10735: 'darkchocolate', 10736: 'tastefully', 10737: 'scsource', 10738: 'valrhona', 10739: 'manjari', 10740: 'kg', 10741: 'foam', 10742: 'jmac', 10743: 'granma', 10744: 'cassoulet', 10745: 'kinle', 10746: 'books', 10747: 'zeus', 10748: 'dak', 10749: 'beetroot', 10750: 'hypertension', 10751: 'stixs', 10752: 'fovorite', 10753: 'stonewalls', 10754: 'copy', 10755: 'absolutel', 10756: 'omnivores', 10757: 'withholding', 10758: 'schweppes', 10759: 'unroasted', 10760: 'cib', 10761: 'shtuff', 10762: 'iz', 10763: 'amazzzzing', 10764: 'tradicional', 10765: 'palos', 10766: 'wonka', 10767: 'shattered', 10768: 'flop', 10769: 'elderberry', 10770: 'tween', 10771: 'labradors', 10772: 'marketplace', 10773: 'luxurious', 10774: 'mealy', 10775: 'tennessee', 10776: 'flovored', 10777: 'cincy', 10778: 'strung', 10779: 'blaaaah', 10780: 'lowerys', 10781: 'europe', 10782: 'skor', 10783: 'tag', 10784: 'equates', 10785: 'bin', 10786: 'fellow', 10787: 'window', 10788: 'shopper', 10789: 'spiedie', 10790: 'accompaniment', 10791: 'boomer', 10792: 'goofed', 10793: 'benefitted', 10794: 'js', 10795: 'furious', 10796: 'virital', 10797: 'nome', 10798: 'desir', 10799: 'komodo', 10800: 'keith', 10801: 'tassos', 10802: 'brushettas', 10803: 'troubles', 10804: 'seedling', 10805: 'cavit', 10806: 'default', 10807: 'unknowing', 10808: 'yeee', 10809: 'mobile', 10810: 'series', 10811: 'donna', 10812: 'prestigious', 10813: 'danbo', 10814: 'caraway', 10815: 'hotdogs', 10816: 'capsuls', 10817: 'sugard', 10818: 'mattd', 10819: 'fabuloso', 10820: 'coccee', 10821: 'desapointed', 10822: 'remission', 10823: 'seattles', 10824: 'transitioning', 10825: 'gouged', 10826: 'osteoporosis', 10827: 'strogalicious', 10828: 'eatten', 10829: 'southeastern', 10830: 'driven', 10831: 'premiums', 10832: 'stroopwaffles', 10833: 'rrefreshing', 10834: 'eel', 10835: 'spinner', 10836: 'butts', 10837: 'oustanding', 10838: 'revolutionary', 10839: 'dogmom', 10840: 'legends', 10841: 'hilarious', 10842: 'omnomnomnom', 10843: 'terrifc', 10844: 'suzhou', 10845: 'gret', 10846: 'allspice', 10847: 'pog', 10848: 'fleur', 10849: 'sel', 10850: 'bracing', 10851: 'maximum', 10852: 'gizzmo', 10853: 'hyped', 10854: 'toothsaver', 10855: 'regualr', 10856: 'strooong', 10857: 'toungues', 10858: 'faces', 10859: 'vinagrette', 10860: 'saucisson', 10861: 'errors', 10862: 'sponge', 10863: 'rehydrated', 10864: 'liquidy', 10865: 'preservres', 10866: 'flapjacks', 10867: 'fronts', 10868: 'figgie', 10869: 'worn', 10870: 'schmaffles', 10871: 'savon', 10872: 'et', 10873: 'cie', 10874: 'administering', 10875: 'medications', 10876: 'gingerale', 10877: 'buttered', 10878: 'crystalline', 10879: 'rosted', 10880: 'vegables', 10881: 'webb', 10882: 'supplements', 10883: 'saflower', 10884: 'score', 10885: 'broadway', 10886: 'basketeers', 10887: 'luckey', 10888: 'dispensing', 10889: 'consummate', 10890: 'mouse', 10891: 'indicated', 10892: 'film', 10893: 'crescendo', 10894: 'anchovian', 10895: 'doro', 10896: 'greed', 10897: 'giants', 10898: 'glucomannan', 10899: 'bellys', 10900: 'delicately', 10901: 'rosey', 10902: 'chaxer', 10903: 'exhale', 10904: 'glitery', 10905: 'foor', 10906: 'larry', 10907: 'sumatran', 10908: 'melty', 10909: 'hillarious', 10910: 'sushilover', 10911: 'greenbox', 10912: 'grillers', 10913: 'historic', 10914: 'delecious', 10915: 'rudolph', 10916: 'mardona', 10917: 'largest', 10918: 'progressively', 10919: 'magnetism', 10920: 'doomhammer', 10921: 'thirty', 10922: 'similiar', 10923: 'recepie', 10924: 'comparative', 10925: 'advantage', 10926: 'rack', 10927: 'petits', 10928: 'fours', 10929: 'accidently', 10930: 'caveats', 10931: 'tetra', 10932: 'complementary', 10933: 'aztec', 10934: 'sole', 10935: 'jacob', 10936: 'nummers', 10937: 'tasterful', 10938: 'moctail', 10939: 'mojito', 10940: 'respect', 10941: 'novus', 10942: 'removing', 10943: 'rust', 10944: 'reminders', 10945: 'nyc', 10946: 'muana', 10947: 'extict', 10948: 'kindergartners', 10949: 'nairn', 10950: 'misconception', 10951: 'budda', 10952: 'flint', 10953: 'faves', 10954: 'morito', 10955: 'mydog', 10956: 'iteslf', 10957: 'antiozidant', 10958: 'aims', 10959: 'spearment', 10960: 'dorkie', 10961: 'twigs', 10962: 'genmai', 10963: 'degree', 10964: 'refills', 10965: 'tatste', 10966: 'knockout', 10967: 'cardomom', 10968: 'crumb', 10969: 'paskesz', 10970: 'doomed', 10971: 'dawgs', 10972: 'university', 10973: 'glob', 10974: 'cinnamin', 10975: 'lei', 10976: 'smarrtbones', 10977: 'vbutter', 10978: 'galactogogue', 10979: 'chicaronnes', 10980: 'frightening', 10981: 'occupier', 10982: 'thunderclusters', 10983: 'tommyo', 10984: 'balled', 10985: 'scared', 10986: 'account', 10987: 'tarty', 10988: 'wylers', 10989: 'moontime', 10990: 'fertility', 10991: 'nissin', 10992: 'sucunat', 10993: 'flaccid', 10994: 'yuuummy', 10995: 'flaws', 10996: 'yohay', 10997: 'preps', 10998: 'rejects', 10999: 'sickly', 11000: 'yawn', 11001: 'appetizers', 11002: 'prodect', 11003: 'supplemented', 11004: 'taki', 11005: 'cops', 11006: 'crawford', 11007: 'ranchers', 11008: 'flawless', 11009: 'laser', 11010: 'awesomness', 11011: 'lodge', 11012: 'criminal', 11013: 'presweetened', 11014: 'geber', 11015: 'dident', 11016: 'onthis', 11017: 'suscribe', 11018: 'greeniesmy', 11019: 'leelee', 11020: 'nomnom', 11021: 'boyers', 11022: 'baggie', 11023: 'motts', 11024: 'tealover', 11025: 'war', 11026: 'albondigas', 11027: 'meatball', 11028: 'backflips', 11029: 'heavier', 11030: 'engine', 11031: 'montmorency', 11032: 'ended', 11033: 'sayan', 11034: 'snackanimals', 11035: 'chemically', 11036: 'clerk', 11037: 'looooves', 11038: 'produces', 11039: 'torture', 11040: 'squeezeable', 11041: 'exclusive', 11042: 'pumping', 11043: 'adventurist', 11044: 'frdinker', 11045: 'minority', 11046: 'boooo', 11047: 'intenational', 11048: 'munchers', 11049: 'crusts', 11050: 'disappionted', 11051: 'loooooooove', 11052: 'disgust', 11053: 'woooooooooooooooooooonderful', 11054: 'earthworms', 11055: 'nomnomnomnomnom', 11056: 'betterr', 11057: 'retro', 11058: 'plantars', 11059: 'tnrealtor', 11060: 'ic', 11061: 'nest', 11062: 'tartaric', 11063: 'bisquik', 11064: 'favour', 11065: 'encore', 11066: 'tonighy', 11067: 'tiparos', 11068: 'forte', 11069: 'cautions', 11070: 'saltier', 11071: 'generations', 11072: 'mcdonald', 11073: 'cookouts', 11074: 'detangle', 11075: 'denting', 11076: 'moh', 11077: 'appa', 11078: 'pleas', 11079: 'kindling', 11080: 'wrecked', 11081: 'bhut', 11082: 'maintaining', 11083: 'happylillady', 11084: 'slipping', 11085: 'unmatched', 11086: 'kazoo', 11087: 'yucccky', 11088: 'saviour', 11089: 'prepackaged', 11090: 'loooooooves', 11091: 'winners', 11092: 'organo', 11093: 'woofs', 11094: 'models', 11095: 'nonfat', 11096: 'undisclosed', 11097: 'retrievers', 11098: 'marzano', 11099: 'truffel', 11100: 'lieberman', 11101: 'passover', 11102: 'thousand', 11103: 'aprocot', 11104: 'eclipse', 11105: 'refreshes', 11106: 'deeeeee', 11107: 'pizzas', 11108: 'terriers', 11109: 'frenchbull', 11110: 'lightning', 11111: 'chewiness', 11112: 'sits', 11113: 'ba', 11114: 'kiss', 11115: 'michaell', 11116: 'ohhh', 11117: 'decacent', 11118: 'flourless', 11119: 'obscene', 11120: 'hotttt', 11121: 'roar', 11122: 'krunchy', 11123: 'flamin', 11124: 'graduate', 11125: 'spendy', 11126: 'jalapenos', 11127: 'seattle', 11128: 'agin', 11129: 'textur', 11130: 'primalspirit', 11131: 'mmouthwatering', 11132: 'curd', 11133: 'bbb', 11134: 'doubleshot', 11135: 'snafu', 11136: 'stroller', 11137: 'genuin', 11138: 'sets', 11139: 'harbo', 11140: 'sunchang', 11141: 'gochujang', 11142: 'tryer', 11143: 'putting', 11144: 'bel', 11145: 'paese', 11146: 'medallions', 11147: 'throughly', 11148: 'piccolo', 11149: 'hoppin', 11150: 'reheated', 11151: 'tabs', 11152: 'sajia', 11153: 'dorste', 11154: 'caranel', 11155: 'unexpectedly', 11156: 'mccanns', 11157: 'steel', 11158: 'wilco', 11159: 'awesomes', 11160: 'bargained', 11161: 'bullysticks', 11162: 'pralines', 11163: 'understated', 11164: 'plusses', 11165: 'delcicious', 11166: 'tortuga', 11167: 'anal', 11168: 'gland', 11169: 'awkward', 11170: 'delclious', 11171: 'credit', 11172: 'theft', 11173: 'beam', 11174: 'icecream', 11175: 'concur', 11176: 'negative', 11177: 'angels', 11178: 'lacked', 11179: 'blotto', 11180: 'cries', 11181: 'dope', 11182: 'pappys', 11183: 'fuzzy', 11184: 'quik', 11185: 'bony', 11186: 'spiky', 11187: 'fefined', 11188: 'promote', 11189: 'development', 11190: 'moutain', 11191: 'scratching', 11192: 'whoopalicious', 11193: 'detastix', 11194: 'universe', 11195: 'ahhhhhh', 11196: 'pepto', 11197: 'bismol', 11198: 'slave', 11199: 'excuse', 11200: 'babysitter', 11201: 'november', 11202: 'unanimous', 11203: 'sips', 11204: 'freshen', 11205: 'discover', 11206: 'economic', 11207: 'shelled', 11208: 'hilda', 11209: 'zzzzzzzzz', 11210: 'whitefish', 11211: 'darrell', 11212: 'lea', 11213: 'delizioso', 11214: 'lw', 11215: 'wham', 11216: 'tito', 11217: 'sucanant', 11218: 'grateful', 11219: 'ro', 11220: 'tel', 11221: 'jerez', 11222: 'arnold', 11223: 'palmer', 11224: 'steroids', 11225: 'douwe', 11226: 'egberts', 11227: 'albanese', 11228: 'gumman', 11229: 'stepens', 11230: 'karley', 11231: 'depending', 11232: 'gaining', 11233: 'lole', 11234: 'custom', 11235: 'crayon', 11236: 'moscow', 11237: 'mules', 11238: 'amazone', 11239: 'robsmom', 11240: 'finnska', 11241: 'sensitivities', 11242: 'tabouli', 11243: 'ashy', 11244: 'feral', 11245: 'bast', 11246: 'guaranteed', 11247: 'bog', 11248: 'katz', 11249: 'flocken', 11250: 'hiking', 11251: 'gopher', 11252: 'jel', 11253: 'hottttt', 11254: 'meiu', 11255: 'schar', 11256: 'tunitime', 11257: 'ss', 11258: 'ostrich', 11259: 'nutive', 11260: 'haters', 11261: 'tulley', 11262: 'yumooooo', 11263: 'tenderfully', 11264: 'deters', 11265: 'overeating', 11266: 'baileys', 11267: 'houte', 11268: 'dyno', 11269: 'benson', 11270: 'saltfree', 11271: 'filing', 11272: 'letdown', 11273: 'subjectively', 11274: 'function', 11275: 'generator', 11276: 'thickeners', 11277: 'unappealing', 11278: 'lilly', 11279: 'werthers', 11280: 'orginalai', 11281: 'amanda', 11282: 'chiken', 11283: 'duster', 11284: 'dizziness', 11285: 'decaaff', 11286: 'moose', 11287: 'awesame', 11288: 'flintstone', 11289: 'etienne', 11290: 'melange', 11291: 'sls', 11292: 'variant', 11293: 'mdh', 11294: 'ness', 11295: 'pellet', 11296: 'passe', 11297: 'guayusa', 11298: 'overpowers', 11299: 'swallow', 11300: 'domatcha', 11301: 'switchin', 11302: 'lengths', 11303: 'mwahahahaha', 11304: 'conflicting', 11305: 'sssoooooo', 11306: 'hipaction', 11307: 'haribos', 11308: 'cures', 11309: 'jawbreaker', 11310: 'flow', 11311: 'vernors', 11312: 'scarf', 11313: 'bronchipret', 11314: 'airy', 11315: 'vegaterian', 11316: 'fluctuations', 11317: 'caibou', 11318: 'molassess', 11319: 'caser', 11320: 'vaccummed', 11321: 'pattid', 11322: 'ritter', 11323: 'hecho', 11324: 'cielo', 11325: 'suppers', 11326: 'awesomesauce', 11327: 'lugubrious', 11328: 'ellie', 11329: 'discrete', 11330: 'tougher', 11331: 'shootin', 11332: 'gallery', 11333: 'muntok', 11334: 'rexie', 11335: 'mainstream', 11336: 'fad', 11337: 'nola', 11338: 'hanu', 11339: 'security', 11340: 'orgainic', 11341: 'fulfilled', 11342: 'raingutter', 11343: 'competitors', 11344: 'grimy', 11345: 'figlets', 11346: 'pwdr', 11347: 'immense', 11348: 'convience', 11349: 'jeff', 11350: 'foxworthy', 11351: 'redneck', 11352: 'discriminating', 11353: 'palates', 11354: 'atlantic', 11355: 'inc', 11356: 'pitch', 11357: 'bonaturae', 11358: 'delites', 11359: 'wimps', 11360: 'greenmountain', 11361: 'palatibility', 11362: 'military', 11363: 'organice', 11364: 'dilution', 11365: 'foodie', 11366: 'ranger', 11367: 'premade', 11368: 'tia', 11369: 'berrymint', 11370: 'seloler', 11371: 'thereminists', 11372: 'eng', 11373: 'brek', 11374: 'smartnourish', 11375: 'pearly', 11376: 'linger', 11377: 'spec', 11378: 'shirazi', 11379: 'gnuts', 11380: 'burggirl', 11381: 'dessicated', 11382: 'dogwells', 11383: 'respond', 11384: 'recommand', 11385: 'creams', 11386: 'tester', 11387: 'ripes', 11388: 'shippers', 11389: 'recycle', 11390: 'averse', 11391: 'shiro', 11392: 'fluctuates', 11393: 'mococcan', 11394: 'pluses', 11395: 'classique', 11396: 'cupped', 11397: 'ellas', 11398: 'toddy', 11399: 'maney', 11400: 'adventures', 11401: 'avitae', 11402: 'kokumaro', 11403: 'vergnano', 11404: 'starlight', 11405: 'tamales', 11406: 'consitpation', 11407: 'octopus', 11408: 'swisshot', 11409: 'yukk', 11410: 'fillets', 11411: 'boullion', 11412: 'frequent', 11413: 'squisito', 11414: 'chrysanthemum', 11415: 'athletic', 11416: 'eastern', 11417: 'freely', 11418: 'krackers', 11419: 'fpod', 11420: 'raise', 11421: 'subways', 11422: 'elastijoint', 11423: 'throwup', 11424: 'cancel', 11425: 'sandys', 11426: 'jamaca', 11427: 'prezel', 11428: 'goodman', 11429: 'echinacea', 11430: 'umame', 11431: 'arabica', 11432: 'effervescent', 11433: 'justanothergeek', 11434: 'sama', 11435: 'breadmachine', 11436: 'achool', 11437: 'berres', 11438: 'loveee', 11439: 'accuratly', 11440: 'ranchero', 11441: 'rah', 11442: 'rosa', 11443: 'angle', 11444: 'tortill', 11445: 'poping', 11446: 'recomend', 11447: 'suplment', 11448: 'billing', 11449: 'plz', 11450: 'jacked', 11451: 'safari', 11452: 'bets', 11453: 'handcooked', 11454: 'heatlh', 11455: 'raspberries', 11456: 'saturday', 11457: 'dc', 11458: 'metro', 11459: 'area', 11460: 'breadcrumbs', 11461: 'suburb', 11462: 'rotini', 11463: 'tunnel', 11464: 'gigi', 11465: 'omgz', 11466: 'politely', 11467: 'declines', 11468: 'yess', 11469: 'heven', 11470: 'wonderfulness', 11471: 'jammy', 11472: 'marmite', 11473: 'hotair', 11474: 'sunbuttter', 11475: 'stablizer', 11476: 'starbuciks', 11477: 'numbing', 11478: 'skimps', 11479: 'virtually', 11480: 'existing', 11481: 'overated', 11482: 'fashoned', 11483: 'ppl', 11484: 'pictures', 11485: 'aveda', 11486: 'inced', 11487: 'te', 11488: 'como', 11489: 'hice', 11490: 'abuela', 11491: 'secure', 11492: 'terridic', 11493: 'whay', 11494: 'descriptipon', 11495: 'contract', 11496: 'definitive', 11497: 'weens', 11498: 'greedy', 11499: 'paint', 11500: 'rations', 11501: 'unsulphered', 11502: 'aluminating', 11503: 'tossing', 11504: 'turning', 11505: 'godvia', 11506: 'systemic', 11507: 'insecticide', 11508: 'godly', 11509: 'sp', 11510: 'greentea', 11511: 'heights', 11512: 'exir', 11513: 'sphynx', 11514: 'reacts', 11515: 'yami', 11516: 'needles', 11517: 'placed', 11518: 'togummi', 11519: 'mehh', 11520: 'cattle', 11521: 'designer', 11522: 'walley', 11523: 'twirler', 11524: 'umph', 11525: 'bs', 11526: 'giggle', 11527: 'luuuv', 11528: 'terrifice', 11529: 'lucys', 11530: 'suit', 11531: 'pupstar', 11532: 'menards', 11533: 'commonest', 11534: 'hing', 11535: 'pucca', 11536: 'kaan', 11537: 'misrepresenting', 11538: 'fires', 11539: 'anybody', 11540: 'calorific', 11541: 'quanty', 11542: 'hdbiker', 11543: 'bgs', 11544: 'pitiful', 11545: 'craptastic', 11546: 'experts', 11547: 'rillettes', 11548: 'fertilze', 11549: 'uuuuum', 11550: 'tropics', 11551: 'martinis', 11552: 'employee', 11553: 'events', 11554: 'nibble', 11555: 'glutne', 11556: 'midel', 11557: 'toffifay', 11558: 'unsaturated', 11559: 'urinary', 11560: 'ongoing', 11561: 'overweight', 11562: 'nightcap', 11563: 'sixty', 11564: 'percent', 11565: 'pgpr', 11566: 'ype', 11567: 'chesie', 11568: 'blanched', 11569: 'misled', 11570: 'sicophants', 11571: 'comfortably', 11572: 'overnight', 11573: 'artdog', 11574: 'spraying', 11575: 'moderation', 11576: 'vague', 11577: 'tomalley', 11578: 'residues', 11579: 'nourishing', 11580: 'berriers', 11581: 'gel', 11582: 'tomatoe', 11583: 'hardcore', 11584: 'overt', 11585: 'kickn', 11586: 'tealicious', 11587: 'tide', 11588: 'alison', 11589: 'palmeritas', 11590: 'bushel', 11591: 'zoey', 11592: 'repeller', 11593: 'juiced', 11594: 'limit', 11595: 'diggin', 11596: 'kongo', 11597: 'mt', 11598: 'kaia', 11599: 'nurserosado', 11600: 'amora', 11601: 'hurrah', 11602: 'malay', 11603: 'deserts', 11604: 'loooooong', 11605: 'jazzies', 11606: 'shaken', 11607: 'stirred', 11608: 'maxwellhouse', 11609: 'cornflakes', 11610: 'claey', 11611: 'captiva', 11612: 'nums', 11613: 'alaskan', 11614: 'malamute', 11615: 'wilkes', 11616: 'county', 11617: 'moorish', 11618: 'mouthfuls', 11619: 'yours', 11620: 'astordrive', 11621: 'mispelling'}\n"
     ]
    }
   ],
   "source": [
    "# from tensorflow.keras.models import load_model\n",
    "# model = load_model('model.h5')\n",
    "reverse_target_word_index=y_tokenizer.index_word\n",
    "reverse_source_word_index=x_tokenizer.index_word\n",
    "target_word_index=y_tokenizer.word_index\n",
    "print(reverse_target_word_index)"
   ]
  },
  {
   "cell_type": "markdown",
   "metadata": {
    "colab_type": "text",
    "id": "eM_nU_VvFxjq"
   },
   "source": [
    "# Inference\n",
    "\n",
    "Set up the inference for the encoder and decoder:"
   ]
  },
  {
   "cell_type": "code",
   "execution_count": 38,
   "metadata": {
    "colab": {},
    "colab_type": "code",
    "id": "9QkrNV-4Fxjt"
   },
   "outputs": [
    {
     "name": "stdout",
     "output_type": "stream",
     "text": [
      "WARNING:tensorflow:Entity <bound method AttentionLayer.call of <attention.AttentionLayer object at 0x7f53afbc0278>> could not be transformed and will be executed as-is. Please report this to the AutgoGraph team. When filing the bug, set the verbosity to 10 (on Linux, `export AUTOGRAPH_VERBOSITY=10`) and attach the full output. Cause: converting <bound method AttentionLayer.call of <attention.AttentionLayer object at 0x7f53afbc0278>>: AttributeError: module 'gast' has no attribute 'Num'\n",
      "WARNING: Entity <bound method AttentionLayer.call of <attention.AttentionLayer object at 0x7f53afbc0278>> could not be transformed and will be executed as-is. Please report this to the AutgoGraph team. When filing the bug, set the verbosity to 10 (on Linux, `export AUTOGRAPH_VERBOSITY=10`) and attach the full output. Cause: converting <bound method AttentionLayer.call of <attention.AttentionLayer object at 0x7f53afbc0278>>: AttributeError: module 'gast' has no attribute 'Num'\n"
     ]
    }
   ],
   "source": [
    "# Encode the input sequence to get the feature vector\n",
    "encoder_model = Model(inputs=encoder_inputs,outputs=[encoder_outputs, state_h, state_c])\n",
    "\n",
    "# Decoder setup\n",
    "# Below tensors will hold the states of the previous time step\n",
    "decoder_state_input_h = Input(shape=(2*latent_dim,))\n",
    "decoder_state_input_c = Input(shape=(2*latent_dim,))\n",
    "decoder_hidden_state_input = Input(shape=(max_text_len,2*latent_dim))\n",
    "\n",
    "# Get the embeddings of the decoder sequence\n",
    "dec_emb2= dec_emb_layer(decoder_inputs) \n",
    "# To predict the next word in the sequence, set the initial states to the states from the previous time step\n",
    "decoder_outputs2, state_h2, state_c2 = decoder_lstm(dec_emb2, initial_state=[decoder_state_input_h, decoder_state_input_c])\n",
    "\n",
    "#attention inference\n",
    "attn_out_inf, attn_states_inf = attn_layer([decoder_hidden_state_input, decoder_outputs2])\n",
    "decoder_inf_concat = Concatenate(axis=-1, name='concat')([decoder_outputs2, attn_out_inf])\n",
    "\n",
    "# A dense softmax layer to generate prob dist. over the target vocabulary\n",
    "decoder_outputs2 = decoder_dense(decoder_inf_concat) \n",
    "\n",
    "# Final decoder model\n",
    "decoder_model = Model(\n",
    "    [decoder_inputs] + [decoder_hidden_state_input,decoder_state_input_h, decoder_state_input_c],\n",
    "    [decoder_outputs2] + [state_h2, state_c2])"
   ]
  },
  {
   "cell_type": "markdown",
   "metadata": {
    "colab_type": "text",
    "id": "zOiyk4ToWe74"
   },
   "source": [
    "We are defining a function below which is the implementation of the inference process (which we covered [here](https://www.analyticsvidhya.com/blog/2019/06/comprehensive-guide-text-summarization-using-deep-learning-python/)):"
   ]
  },
  {
   "cell_type": "code",
   "execution_count": 39,
   "metadata": {
    "colab": {},
    "colab_type": "code",
    "id": "6f6TTFnBFxj6"
   },
   "outputs": [],
   "source": [
    "def decode_sequence(input_seq):\n",
    "    # Encode the input as state vectors.\n",
    "    e_out, e_h, e_c = encoder_model.predict(input_seq)\n",
    "    \n",
    "    # Generate empty target sequence of length 1.\n",
    "    target_seq = np.zeros((1,1))\n",
    "    \n",
    "    # Populate the first word of target sequence with the start word.\n",
    "    target_seq[0, 0] = target_word_index['sostok']\n",
    "\n",
    "    stop_condition = False\n",
    "    decoded_sentence = ''\n",
    "    while not stop_condition:\n",
    "      \n",
    "        output_tokens, h, c = decoder_model.predict([target_seq] + [e_out, e_h, e_c])\n",
    "\n",
    "        # Sample a token\n",
    "        sampled_token_index = np.argmax(output_tokens[0, -1, :])\n",
    "        sampled_token = reverse_target_word_index[sampled_token_index]\n",
    "        \n",
    "        if(sampled_token!='eostok'):\n",
    "            decoded_sentence += ' '+sampled_token\n",
    "\n",
    "        # Exit condition: either hit max length or find stop word.\n",
    "        if (sampled_token == 'eostok'  or len(decoded_sentence.split()) >= (max_summary_len-1)):\n",
    "            stop_condition = True\n",
    "\n",
    "        # Update the target sequence (of length 1).\n",
    "        target_seq = np.zeros((1,1))\n",
    "        target_seq[0, 0] = sampled_token_index\n",
    "\n",
    "        # Update internal states\n",
    "        e_h, e_c = h, c\n",
    "\n",
    "    return decoded_sentence"
   ]
  },
  {
   "cell_type": "markdown",
   "metadata": {
    "colab_type": "text",
    "id": "6GuDf4TPWt6_"
   },
   "source": [
    "Let us define the functions to convert an integer sequence to a word sequence for summary as well as the reviews:"
   ]
  },
  {
   "cell_type": "code",
   "execution_count": 40,
   "metadata": {},
   "outputs": [],
   "source": [
    "def search(model, src_input, k=3, sequence_max_len=8):\n",
    "    # (log(1), initialize_of_zeros)\n",
    "    k_beam = [(0, [target_word_index['sostok']])]\n",
    "#     output_tokens, h, c = decoder_model.predict([target_seq] + [e_out, e_h, e_c])\n",
    "\n",
    "#         # Sample a token\n",
    "#         sampled_token_index = np.argmax(output_tokens[0, -1, :])\n",
    "#         sampled_token = reverse_target_word_index[sampled_token_index]\n",
    "        \n",
    "#         if(sampled_token!='eostok'):\n",
    "#             decoded_sentence += ' '+sampled_token\n",
    "\n",
    "#         # Exit condition: either hit max length or find stop word.\n",
    "#         if (sampled_token == 'eostok'  or len(decoded_sentence.split()) >= (max_summary_len-1)):\n",
    "#             stop_condition = True\n",
    "\n",
    "    # l : point on target sentence to predict\n",
    "#     print(\"I am here!\")\n",
    "    for l in range(sequence_max_len):\n",
    "        all_k_beams = []\n",
    "        for prob, sent_predict in k_beam:\n",
    "            predicted = model.predict([np.array([src_input]), np.array([sent_predict])])[0]\n",
    "            # top k!\n",
    "            possible_k = predicted[l].argsort()[-k:][::-1]\n",
    "#             print(possible_k)\n",
    "\n",
    "            # add to all possible candidates for k-beams\n",
    "            all_k_beams += [\n",
    "                (\n",
    "                    sum(np.log(predicted[i][sent_predict[i+1]]) for i in range(l)) + np.log(predicted[l][next_wid]),\n",
    "                    list(sent_predict[:l+1])+[next_wid]+[0]*(sequence_max_len-l-1)\n",
    "                )\n",
    "                for next_wid in possible_k\n",
    "            ]\n",
    "\n",
    "#         # top k\n",
    "        k_beam = sorted(all_k_beams)[-k:]\n",
    "\n",
    "    return k_beam\n"
   ]
  },
  {
   "cell_type": "code",
   "execution_count": 41,
   "metadata": {
    "colab": {},
    "colab_type": "code",
    "id": "aAUntznIFxj9"
   },
   "outputs": [],
   "source": [
    "def seq2summary(input_seq):\n",
    "    newString=''\n",
    "    for i in input_seq:\n",
    "        if((i!=0 and i!=target_word_index['sostok']) and i!=target_word_index['eostok']):\n",
    "            newString=newString+reverse_target_word_index[i]+' '\n",
    "    return newString\n",
    "\n",
    "def seq2text(input_seq):\n",
    "    newString=''\n",
    "    for i in input_seq:\n",
    "        if(i!=0):\n",
    "            newString=newString+reverse_source_word_index[i]+' '\n",
    "    return newString"
   ]
  },
  {
   "cell_type": "markdown",
   "metadata": {
    "colab_type": "text",
    "id": "9gM4ALyfWwA9"
   },
   "source": [
    "Here are a few summaries generated by the model:"
   ]
  },
  {
   "cell_type": "code",
   "execution_count": 45,
   "metadata": {
    "colab": {},
    "colab_type": "code",
    "id": "BUtQmQTmFxkI",
    "outputId": "f407d9fc-e0cd-4082-98f5-bd1f562dc26f",
    "scrolled": false
   },
   "outputs": [
    {
     "name": "stdout",
     "output_type": "stream",
     "text": [
      "Index:  0\n",
      "Review: product available live bought friend special treat delighted happy happy bottles well packed arrived intact soda tasted good ever \n",
      "Original summary: just what the ordered \n",
      "Predicted summary:  great product\n",
      "Beam Search Result:  ['love this stuff ', 'love it ', 'great product ']\n",
      "\n",
      "\n",
      "Index:  1\n",
      "Review: see lot reviews complaining size mine arrived yesterday inches long thick one pictured complaints whatsoever maybe luck draw marrow antler bought dog loves \n",
      "Original summary: good size fair price \n",
      "Predicted summary:  not as advertised\n",
      "Beam Search Result:  ['not as advertised ', 'not worth the money ', 'good product ']\n",
      "\n",
      "\n",
      "Index:  2\n",
      "Review: get local store tend pick whenever shopping great little cookies much bigger half dollar coin right need quick bit sweet taste want something really big rich family essentially gluten free ready made treats actually taste good grainy great means gourmet better pre gluten free oreo chips ahoy type pre made cookies free common allergens gluten \n",
      "Original summary: good gf cookies \n",
      "Predicted summary:  great cookie\n",
      "Beam Search Result:  ['love these ', 'love these cookies ', 'great cookie ']\n",
      "\n",
      "\n",
      "Index:  3\n",
      "Review: dog likes treats definitely prefers peanut butter ones better one strange thing noticed treats tend harden quickly best buying small bag bigger bag strange salmon flavor harden faster peanut butter flavor good treat feed dog small perfect training zuke always full good things crappy ingredients like dog treats \n",
      "Original summary: dog likes them \n",
      "Predicted summary:  my dog loves these\n",
      "Beam Search Result:  ['my dog loves these treats ', 'dog treats ', 'my dog loves these ']\n",
      "\n",
      "\n",
      "Index:  4\n",
      "Review: cereal least one three boxes almost powder excessive force applied although box knows happened \n",
      "Original summary: product crushed \n",
      "Predicted summary:  disappointed\n",
      "Beam Search Result:  ['buyer beware ', 'disgusting ', 'disappointed ']\n",
      "\n",
      "\n",
      "Index:  5\n",
      "Review: nephew turned us seasoning visited michigan calif love mexican food seasoning real thing keeping shelf staple seasoning love \n",
      "Original summary: amazingly real \n",
      "Predicted summary:  great seasoning\n",
      "Beam Search Result:  ['the best ', 'great sauce ', 'great seasoning ']\n",
      "\n",
      "\n",
      "Index:  6\n",
      "Review: wish companies good newman feel like getting quality food good price jumped getting dog heard consistency milk bones maybe little denser come around easily broken two seam middle minature maltese kind big break quarters little hard done seems enjoy eating know better stuff since made company high standards food \n",
      "Original summary: good product by company \n",
      "Predicted summary:  good but not great\n",
      "Beam Search Result:  ['my dog loves this ', 'good but not great ', 'my dog loves these ']\n",
      "\n",
      "\n",
      "Index:  7\n",
      "Review: drinking green mountain dark magic really enjoyed however wanted change searching discovered coffee glad got excellent deep flavor really enjoy strong enough yet overpowering recommend give try \n",
      "Original summary: good bold coffee \n",
      "Predicted summary:  great coffee\n",
      "Beam Search Result:  ['great tasting coffee ', 'good coffee ', 'great coffee ']\n",
      "\n",
      "\n",
      "Index:  8\n",
      "Review: produced york pa long time ago mexico great taste knows years wolfed way one boxes taste good enough never know like originals york something like need imported \n",
      "Original summary: they are mints now \n",
      "Predicted summary:  best olive oil ever\n",
      "Beam Search Result:  ['best olive oil ever ', 'excellent ', 'the best ']\n",
      "\n",
      "\n",
      "Index:  9\n",
      "Review: im excited bars sooo amazing yummy perfect go healthy snack meals taste like banana nut bread eat pop microwave soft warm yummy treat must haves everyone come different flavors try em \n",
      "Original summary: sooo yummy \n",
      "Predicted summary:  delicious\n",
      "Beam Search Result:  ['delicious and healthy ', 'yummy ', 'delicious ']\n",
      "\n",
      "\n",
      "Index:  10\n",
      "Review: crave dried sausage call south africa usually order com costs dollars per lb well worth tried company affordable pricing got bags kinda okay tasting little thick dry bone needs fat flavor tastes like vinegar sausage needs work yet close maybe ill try need online options order quantity im hungry \n",
      "Original summary: okay at best \n",
      "Predicted summary:  not as good as the original\n",
      "Beam Search Result:  ['not as good as the original ', 'not bad ', 'not worth the money ']\n",
      "\n",
      "\n",
      "Index:  11\n",
      "Review: nasty smell went back dental chews dogs preferred even act like treats \n",
      "Original summary: petrodex dental chews \n",
      "Predicted summary:  dog treats\n",
      "Beam Search Result:  ['my dogs love them ', 'my dogs love these ', 'dog treats ']\n",
      "\n",
      "\n",
      "Index:  12\n",
      "Review: food feed cats love best thing give pets \n",
      "Original summary: the best \n",
      "Predicted summary:  cat food\n",
      "Beam Search Result:  ['my cat loves these ', 'cats love it ', 'cat food ']\n",
      "\n",
      "\n",
      "Index:  13\n",
      "Review: avocado oil one useful products ive ever used great skin hair cooking must product \n",
      "Original summary: bliss of oil \n",
      "Predicted summary:  great product\n",
      "Beam Search Result:  ['great ', 'excellent product ', 'great product ']\n",
      "\n",
      "\n",
      "Index:  14\n",
      "Review: looking cat food locally seems everybody either carry flavors great fast service great price definitely buy \n",
      "Original summary: great cat food great price \n",
      "Predicted summary:  cat food\n",
      "Beam Search Result:  ['cat loves it ', 'cats love it ', 'cat food ']\n",
      "\n",
      "\n",
      "Index:  15\n",
      "Review: got special coffee lovers like try different kinds although yuban everyday coffee well surprise nice flavorful bitter smooth maybe strong yuban amounts start selling amounts better everyday price would buy pricey \n",
      "Original summary: very good flavor \n",
      "Predicted summary:  great coffee\n",
      "Beam Search Result:  ['very good coffee ', 'great coffee ', 'good coffee ']\n",
      "\n",
      "\n",
      "Index:  16\n",
      "Review: enjoying order puck sumatra kopi dark roast coffee cups last week find delicious flavor satisfying strong bitter weak taste like colored water coffee perfect right amount make enjoyable coffee experience carries nice lingering pleasant flavor aroma strong espresso maybe one step like said pleasant smooth flavorful \n",
      "Original summary: pleasant smooth and flavorful cup of coffee \n",
      "Predicted summary:  smooth and flavorful\n",
      "Beam Search Result:  ['my favorite flavor ', 'best coffee ever ', 'my favorite coffee ']\n",
      "\n",
      "\n",
      "Index:  17\n",
      "Review: sometimes make horseradish mayo ready anytime adds zest love sandwiches happy product \n",
      "Original summary: just what hoped for \n",
      "Predicted summary:  delicious\n",
      "Beam Search Result:  ['love this stuff ', 'love it ', 'delicious ']\n",
      "\n",
      "\n",
      "Index:  18\n",
      "Review: love treats training small tasty since require chew get distracted rewarded able keep focus better teaching tried flavors yet definitely give shot \n",
      "Original summary: great quick treats \n",
      "Predicted summary:  my dog loves these\n",
      "Beam Search Result:  ['great treats ', 'my puppy loves these ', 'my dog loves these ']\n",
      "\n",
      "\n",
      "Index:  19\n",
      "Review: dentist actually recommended gum already chewing great texture get tough mouth pretty thin enamel take help get avoid fillings \n",
      "Original summary: my favorite gum \n",
      "Predicted summary:  not the same as the original\n",
      "Beam Search Result:  ['not as good as the picture ', 'not the same as the original ', 'gum ']\n",
      "\n",
      "\n",
      "Index:  20\n",
      "Review: yuban dark roast outstanding smooth chocolaty taste find good far expensive coffees would also recommend purchasing ounce coffee freshest pop open new use without refrigerating freezing like many dark roasted coffees like burnt taste yuban dark roast burnt bitter taste definitely regular roast one also keep mind review written someone thinks starbucks far far \n",
      "Original summary: as good as gourmet \n",
      "Predicted summary:  great coffee\n",
      "Beam Search Result:  ['delicious coffee ', 'delicious ', 'great coffee ']\n",
      "\n",
      "\n",
      "Index:  21\n",
      "Review: good organic bpa free nice coconut bad runny lower fat content coconut want organic bpa free may option willing give one better options \n",
      "Original summary: thin lower fat content \n",
      "Predicted summary:  not as good as the baby\n",
      "Beam Search Result:  ['not as good as the baby ', 'good product ', 'baby food ']\n",
      "\n",
      "\n",
      "Index:  22\n",
      "Review: black lab mix almost choked death one sitting room would lost chew gets smaller becomes slippery back throat lodged hold mouth open reach grab slippery easy strongly suggest finding another way keep pups teeth clean simply worth risk \n",
      "Original summary: choking \n",
      "Predicted summary:  great product\n",
      "Beam Search Result:  ['my dog loves these ', 'my dogs love these ', 'great product ']\n",
      "\n",
      "\n",
      "Index:  23\n",
      "Review: love bars great bargain got thanks \n",
      "Original summary: special strawberry bars \n"
     ]
    },
    {
     "name": "stdout",
     "output_type": "stream",
     "text": [
      "Predicted summary:  great snack\n",
      "Beam Search Result:  ['delicious ', 'great snack ', 'yummy ']\n",
      "\n",
      "\n",
      "Index:  24\n",
      "Review: cookies disliked six people office shared found dry tasteless unappetizing texture one even finished entire cookie plus six cookies individually wrapped box way large really tree hugger definitely disappointment recommended \n",
      "Original summary: will find my calories else \n",
      "Predicted summary:  not the best\n",
      "Beam Search Result:  ['not the best ', 'not bad ', 'just ok ']\n",
      "\n",
      "\n",
      "Index:  25\n",
      "Review: got snack item happened one family members craving popcorn one night decided tasted like buttered styrofoam maybe expecting much \n",
      "Original summary: makes you feel like you are dieting \n",
      "Predicted summary:  not bad\n",
      "Beam Search Result:  ['not bad ', 'bland ', 'stale ']\n",
      "\n",
      "\n",
      "Index:  26\n",
      "Review: wow good tasting creamy like real thing pistachio flavors cheesecake banana cream butterscotch surprisingly satisfying sugar free fat free chocolate flavors good dissolve set well easy prepare ready eat minutes \n",
      "Original summary: umm yummy \n",
      "Predicted summary:  delicious\n",
      "Beam Search Result:  ['delicious and nutritious ', 'yummy ', 'delicious ']\n",
      "\n",
      "\n",
      "Index:  27\n",
      "Review: pleased order lake sea salt product terrific tasty really impressed wonderful way packed seller fast shipping would recommend product seller everyone ordering \n",
      "Original summary: wonderful flavor fast shipping \n",
      "Predicted summary:  great product\n",
      "Beam Search Result:  ['excellent product ', 'great ', 'great product ']\n",
      "\n",
      "\n",
      "Index:  28\n",
      "Review: reviewers noted already seems kellogg attempt replicate honey nut cheerios least appearance nutritionally two also similar crunchy nut tastes sweeter found eating snack cannot say taste similar like one mean necessarily like overall definitely liking see buying crunchy nut \n",
      "Original summary: tasty \n",
      "Predicted summary:  not bad\n",
      "Beam Search Result:  ['great taste ', 'not bad ', 'very tasty ']\n",
      "\n",
      "\n",
      "Index:  29\n",
      "Review: quickly become fan tea company never seen loose leaf tea brewer works well really wonderful teas collection taste wonderful recommend perfect gift tea life \n",
      "Original summary: teas and the best tea pot ever \n",
      "Predicted summary:  great tea\n",
      "Beam Search Result:  ['best tea ever ', 'tea ', 'great tea ']\n",
      "\n",
      "\n"
     ]
    }
   ],
   "source": [
    "for i in range(0,30):\n",
    "    print(\"Index: \",i)\n",
    "    print(\"Review:\",seq2text(x_val[i]))\n",
    "    print(\"Original summary:\",seq2summary(y_val[i]))\n",
    "    print(\"Predicted summary:\",decode_sequence(x_val[i].reshape(1,max_text_len)))\n",
    "    print(\"Beam Search Result: \",[seq2summary(sent) for prob, sent in search(model,x_val[i])])\n",
    "    print(\"\\n\")"
   ]
  },
  {
   "cell_type": "markdown",
   "metadata": {},
   "source": [
    "### Good Examples"
   ]
  },
  {
   "cell_type": "code",
   "execution_count": 43,
   "metadata": {
    "scrolled": false
   },
   "outputs": [
    {
     "name": "stdout",
     "output_type": "stream",
     "text": [
      "Review 1: dog likes treats definitely prefers peanut butter ones better one strange thing noticed treats tend harden quickly best buying small bag bigger bag strange salmon flavor harden faster peanut butter flavor good treat feed dog small perfect training zuke always full good things crappy ingredients like dog treats \n",
      "\n",
      "Original summary: dog likes them \n",
      "\n",
      "Greedy Decoder Result:  my dog loves these\n",
      "\n",
      "Beam Search Result: ['my dog loves these treats ', 'dog treats ', 'my dog loves these ']\n",
      "\n",
      "\n",
      "\n",
      "Review 2: drinking green mountain dark magic really enjoyed however wanted change searching discovered coffee glad got excellent deep flavor really enjoy strong enough yet overpowering recommend give try \n",
      "\n",
      "Original summary: good bold coffee \n",
      "\n",
      "Greedy Decoder Result:  great coffee\n",
      "\n",
      "Beam Search Result: ['great tasting coffee ', 'good coffee ', 'great coffee ']\n",
      "\n",
      "\n",
      "\n",
      "Review 3: im excited bars sooo amazing yummy perfect go healthy snack meals taste like banana nut bread eat pop microwave soft warm yummy treat must haves everyone come different flavors try em \n",
      "\n",
      "Original summary: sooo yummy \n",
      "\n",
      "Greedy Decoder Result:  delicious\n",
      "\n",
      "Beam Search Result: ['delicious and healthy ', 'yummy ', 'delicious ']\n",
      "\n",
      "\n",
      "\n",
      "Review 4: enjoying order puck sumatra kopi dark roast coffee cups last week find delicious flavor satisfying strong bitter weak taste like colored water coffee perfect right amount make enjoyable coffee experience carries nice lingering pleasant flavor aroma strong espresso maybe one step like said pleasant smooth flavorful \n",
      "\n",
      "Original summary: pleasant smooth and flavorful cup of coffee \n",
      "\n",
      "Greedy Decoder Result:  smooth and flavorful\n",
      "\n",
      "Beam Search Result: ['my favorite flavor ', 'best coffee ever ', 'my favorite coffee ']\n",
      "\n",
      "\n",
      "\n",
      "Review 5: sometimes make horseradish mayo ready anytime adds zest love sandwiches happy product \n",
      "\n",
      "Original summary: just what hoped for \n",
      "\n",
      "Greedy Decoder Result:  delicious\n",
      "\n",
      "Beam Search Result: ['love this stuff ', 'love it ', 'delicious ']\n",
      "\n",
      "\n",
      "\n",
      "Review 6: love bars great bargain got thanks \n",
      "\n",
      "Original summary: special strawberry bars \n",
      "\n",
      "Greedy Decoder Result:  great snack\n",
      "\n",
      "Beam Search Result: ['delicious ', 'great snack ', 'yummy ']\n",
      "\n",
      "\n",
      "\n",
      "Review 7: cookies disliked six people office shared found dry tasteless unappetizing texture one even finished entire cookie plus six cookies individually wrapped box way large really tree hugger definitely disappointment recommended \n",
      "\n",
      "Original summary: will find my calories else \n",
      "\n",
      "Greedy Decoder Result:  not the best\n",
      "\n",
      "Beam Search Result: ['not the best ', 'not bad ', 'just ok ']\n",
      "\n",
      "\n",
      "\n",
      "Review 8: quickly become fan tea company never seen loose leaf tea brewer works well really wonderful teas collection taste wonderful recommend perfect gift tea life \n",
      "\n",
      "Original summary: teas and the best tea pot ever \n",
      "\n",
      "Greedy Decoder Result:  great tea\n",
      "\n",
      "Beam Search Result: ['best tea ever ', 'tea ', 'great tea ']\n",
      "\n",
      "\n",
      "\n",
      "Review 9: kcups godsend among kcups near top keurig brewer blessing hot beverages seconds mostly coffee greater among coffees seems among hot cocoas rich vibrant two rooms away silky smooth bursting things chocolate supposed deliver must household \n",
      "\n",
      "Original summary: chocolate heaven \n",
      "\n",
      "Greedy Decoder Result:  great coffee\n",
      "\n",
      "Beam Search Result: ['great tasting coffee ', 'great coffee ', 'delicious ']\n",
      "\n",
      "\n",
      "\n",
      "Review 10: velveeta cheesburger skillets product would generally buy mac cheese easy enough make scratch using ingredients added chemicals flavorings preservatives considering case velveeta particular processed dinner good quick prepare flavorful cannot say tastes like though high salt fat \n",
      "\n",
      "Original summary: not bad \n",
      "\n",
      "Greedy Decoder Result:  good but not great\n",
      "\n",
      "Beam Search Result: ['quick and easy meal ', 'quick easy and tasty ', 'pretty good ']\n",
      "\n",
      "\n",
      "\n",
      "Review 11: trying several types training treats found one puppy loves treats natural company solid cannot go wrong treats pet nature recipe training treats large oz \n",
      "\n",
      "Original summary: nature recipe training treats \n",
      "\n",
      "Greedy Decoder Result:  my dog loves these\n",
      "\n",
      "Beam Search Result: ['puppy loves these ', 'great training treats ', 'my dog loves these ']\n",
      "\n",
      "\n",
      "\n",
      "Review 12: way powdery tasting bad aftertaste plus price could believe junk skip stay lemonade yuck \n",
      "\n",
      "Original summary: bad aftertaste \n",
      "\n",
      "Greedy Decoder Result:  yuck\n",
      "\n",
      "Beam Search Result: ['horrible ', 'disgusting ', 'yuck ']\n",
      "\n",
      "\n",
      "\n"
     ]
    }
   ],
   "source": [
    "good_examples = [3, 7, 9,10, 16, 17, 23, 24, 29, 32, 35, 44, 58]\n",
    "for ind,i in enumerate(good_examples):\n",
    "    print(\"Review {}: {}\\n\".format(ind+1,seq2text(x_val[i])))\n",
    "    print(\"Original summary: {}\\n\".format(seq2summary(y_val[i])))\n",
    "    print(\"Greedy Decoder Result: {}\\n\".format(decode_sequence(x_val[i].reshape(1,max_text_len))))\n",
    "    print(\"Beam Search Result: {}\\n\".format([seq2summary(sent) for prob, sent in search(model,x_val[i])]))\n",
    "    print(\"\\n\")"
   ]
  },
  {
   "cell_type": "markdown",
   "metadata": {},
   "source": [
    "### Not so good examples"
   ]
  },
  {
   "cell_type": "code",
   "execution_count": 44,
   "metadata": {},
   "outputs": [
    {
     "name": "stdout",
     "output_type": "stream",
     "text": [
      "Review1: produced york pa long time ago mexico great taste knows years wolfed way one boxes taste good enough never know like originals york something like need imported \n",
      "\n",
      "Original summary:they are mints now \n",
      "\n",
      "Greedy Decoder Result: best olive oil ever\n",
      "\n",
      "Beam Search Result:['best olive oil ever ', 'excellent ', 'the best ']\n",
      "\n",
      "\n",
      "\n",
      "Review2: dentist actually recommended gum already chewing great texture get tough mouth pretty thin enamel take help get avoid fillings \n",
      "\n",
      "Original summary:my favorite gum \n",
      "\n",
      "Greedy Decoder Result: not the same as the original\n",
      "\n",
      "Beam Search Result:['not as good as the picture ', 'not the same as the original ', 'gum ']\n",
      "\n",
      "\n",
      "\n",
      "Review3: good organic bpa free nice coconut bad runny lower fat content coconut want organic bpa free may option willing give one better options \n",
      "\n",
      "Original summary:thin lower fat content \n",
      "\n",
      "Greedy Decoder Result: not as good as the baby\n",
      "\n",
      "Beam Search Result:['not as good as the baby ', 'good product ', 'baby food ']\n",
      "\n",
      "\n",
      "\n",
      "Review4: love product organic whole food cannot even make great meal price great knowing month old getting quality nutrition picky yr old even stealing cupboard even better portability product fantastic well even need spoon suck fruits veggies pouch like love line \n",
      "\n",
      "Original summary:my picky yr old will eat this \n",
      "\n",
      "Greedy Decoder Result: great for babies\n",
      "\n",
      "Beam Search Result:['great for babies ', 'great product ', 'love these ']\n",
      "\n",
      "\n",
      "\n",
      "Review5: even though get eat children told went like nothing delicious expecting anything less knowing mints scrumptious \n",
      "\n",
      "Original summary:yum \n",
      "\n",
      "Greedy Decoder Result: not bad\n",
      "\n",
      "Beam Search Result:['these are awesome ', 'not bad ', 'good ']\n",
      "\n",
      "\n",
      "\n",
      "Review6: another marshall products control taste flavor greatest salt products greatest cook amateur add little salt taste \n",
      "\n",
      "Original summary:great flavor \n",
      "\n",
      "Greedy Decoder Result: great salt\n",
      "\n",
      "Beam Search Result:['great jerky ', 'best salt ', 'great salt ']\n",
      "\n",
      "\n",
      "\n"
     ]
    }
   ],
   "source": [
    "good_examples = [8, 19, 21, 33, 41, 50]\n",
    "for ind,i in enumerate(good_examples):\n",
    "    print(\"Review{}: {}\\n\".format(ind+1,seq2text(x_val[i])))\n",
    "    print(\"Original summary:{}\\n\".format(seq2summary(y_val[i])))\n",
    "    print(\"Greedy Decoder Result:{}\\n\".format(decode_sequence(x_val[i].reshape(1,max_text_len))))\n",
    "    print(\"Beam Search Result:{}\\n\".format([seq2summary(sent) for prob, sent in search(model,x_val[i])]))\n",
    "    print(\"\\n\")"
   ]
  },
  {
   "cell_type": "markdown",
   "metadata": {},
   "source": [
    "## Try your own example"
   ]
  },
  {
   "cell_type": "code",
   "execution_count": 80,
   "metadata": {},
   "outputs": [
    {
     "name": "stdout",
     "output_type": "stream",
     "text": [
      "Greedy Decoder Result: not for me\n",
      "\n",
      "Beam Search Result:['not my favorite ', 'not the best ', 'not for me ']\n",
      "\n"
     ]
    }
   ],
   "source": [
    "# sentence = \"enjoying order puck sumatra kopi dark roast coffee cups last week find delicious flavor satisfying strong bitter weak taste like colored water coffee perfect right amount make enjoyable coffee experience carries nice lingering pleasant flavor aroma strong espresso maybe one step like said pleasant smooth flavorful \"\n",
    "sentence = ' Tea is okay. Pasta is bad.'\n",
    "sent1 = text_cleaner(sentence,1)\n",
    "# print(sent1)\n",
    "x_seq = x_tokenizer.texts_to_sequences([sent1]) \n",
    "# print(x_seq)\n",
    "x = pad_sequences(x_seq,  maxlen=max_text_len, padding='post')\n",
    "# print(x[0])\n",
    "print(\"Greedy Decoder Result:{}\\n\".format(decode_sequence(x.reshape(1,max_text_len))))\n",
    "print(\"Beam Search Result:{}\\n\".format([seq2summary(sent) for prob, sent in search(model,x[0])]))\n"
   ]
  },
  {
   "cell_type": "code",
   "execution_count": null,
   "metadata": {},
   "outputs": [],
   "source": []
  }
 ],
 "metadata": {
  "colab": {
   "collapsed_sections": [],
   "name": "How to build own text summarizer using deep learning.ipynb",
   "provenance": [],
   "version": "0.3.2"
  },
  "kernelspec": {
   "display_name": "Python 3",
   "language": "python",
   "name": "python3"
  },
  "language_info": {
   "codemirror_mode": {
    "name": "ipython",
    "version": 3
   },
   "file_extension": ".py",
   "mimetype": "text/x-python",
   "name": "python",
   "nbconvert_exporter": "python",
   "pygments_lexer": "ipython3",
   "version": "3.6.5"
  }
 },
 "nbformat": 4,
 "nbformat_minor": 1
}
